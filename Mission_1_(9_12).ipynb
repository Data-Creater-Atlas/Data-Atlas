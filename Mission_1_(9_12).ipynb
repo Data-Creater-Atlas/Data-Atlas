{
  "nbformat": 4,
  "nbformat_minor": 0,
  "metadata": {
    "colab": {
      "provenance": [],
      "gpuType": "A100",
      "machine_shape": "hm",
      "mount_file_id": "1kun46nVzlkodN-cjkd__zr0ZHR145-WB",
      "authorship_tag": "ABX9TyMO9LkV90aqSlBEoE1rOxSH",
      "include_colab_link": true
    },
    "kernelspec": {
      "name": "python3",
      "display_name": "Python 3"
    },
    "language_info": {
      "name": "python"
    },
    "accelerator": "GPU"
  },
  "cells": [
    {
      "cell_type": "markdown",
      "metadata": {
        "id": "view-in-github",
        "colab_type": "text"
      },
      "source": [
        "<a href=\"https://colab.research.google.com/github/Data-Creater-Atlas/Data-Atlas/blob/sungjoon/Mission_1_(9_12).ipynb\" target=\"_parent\"><img src=\"https://colab.research.google.com/assets/colab-badge.svg\" alt=\"Open In Colab\"/></a>"
      ]
    },
    {
      "cell_type": "code",
      "source": [
        "from google.colab import drive\n",
        "drive.mount('/content/drive')"
      ],
      "metadata": {
        "colab": {
          "base_uri": "https://localhost:8080/"
        },
        "id": "IImZUJb3GX4f",
        "outputId": "9287e3fd-65f2-4ac3-92c2-5246d4080f3a"
      },
      "execution_count": 3,
      "outputs": [
        {
          "output_type": "stream",
          "name": "stdout",
          "text": [
            "Drive already mounted at /content/drive; to attempt to forcibly remount, call drive.mount(\"/content/drive\", force_remount=True).\n"
          ]
        }
      ]
    },
    {
      "cell_type": "code",
      "source": [
        "# 원본 데이터가 있는 경로\n",
        "ROOT = \"/content/drive/MyDrive/Data Camp/53.대기오염_배출원_공간_분포_데이터/3.개방데이터/1.데이터\"\n",
        "\n",
        "# 원천/라벨 소스\n",
        "TRAIN_IMG_SOURCES = [f\"{ROOT}/Training/01.원천데이터/TS_KS.zip\", f\"{ROOT}/Training/01.원천데이터/TS_KS\"]\n",
        "TRAIN_LBL_SOURCES = [f\"{ROOT}/Training/02.라벨링데이터/TL_KS_BBOX.zip\", f\"{ROOT}/Training/02.라벨링데이터/TL_KS_BBOX\"]\n",
        "VAL_IMG_SOURCES   = [f\"{ROOT}/Validation/01.원천데이터/VS_KS.zip\", f\"{ROOT}/Validation/01.원천데이터/VS_KS\"]\n",
        "VAL_LBL_SOURCES   = [f\"{ROOT}/Validation/02.라벨링데이터/VL_KS_BBOX.zip\", f\"{ROOT}/Validation/02.라벨링데이터/VL_KS_BBOX\"]\n",
        "\n",
        "# 작업 베이스\n",
        "BASE = \"/content/ks_chimney_yolo\"\n",
        "\n",
        "import os\n",
        "for p in [\n",
        "    f\"{BASE}/raw/train/images\", f\"{BASE}/raw/train/labels_json\",\n",
        "    f\"{BASE}/raw/val/images\",   f\"{BASE}/raw/val/labels_json\",\n",
        "    f\"{BASE}/yolo/images/train\",f\"{BASE}/yolo/images/val\",\n",
        "    f\"{BASE}/yolo/labels/train\",f\"{BASE}/yolo/labels/val\",\n",
        "]:\n",
        "    os.makedirs(p, exist_ok=True)\n",
        "\n",
        "print(\"BASE:\", BASE)"
      ],
      "metadata": {
        "colab": {
          "base_uri": "https://localhost:8080/"
        },
        "id": "Est_kXWqIV_q",
        "outputId": "c931c57a-713e-4507-b1a4-e1b7a620117f"
      },
      "execution_count": 2,
      "outputs": [
        {
          "output_type": "stream",
          "name": "stdout",
          "text": [
            "BASE: /content/ks_chimney_yolo\n"
          ]
        }
      ]
    },
    {
      "cell_type": "code",
      "source": [
        "# === 1. Collect & normalize images; copy JSONs ===\n",
        "import os, glob, shutil, zipfile\n",
        "from PIL import Image\n",
        "\n",
        "IMG_EXTS = {\".jpg\",\".jpeg\",\".png\",\".tif\",\".tiff\",\".bmp\",\".JPG\",\".JPEG\",\".PNG\",\".TIF\",\".TIFF\",\".BMP\"}\n",
        "\n",
        "def _iter_existing(paths):\n",
        "    for p in paths:\n",
        "        if os.path.exists(p):\n",
        "            yield p\n",
        "\n",
        "def _copy_images_any(src, out_dir):\n",
        "    \"\"\"src가 폴더면 재귀 수집, ZIP이면 풀어서 처리. 모든 이미지를 RGB JPG로 저장.\"\"\"\n",
        "    os.makedirs(out_dir, exist_ok=True)\n",
        "    cnt = 0\n",
        "    if os.path.isdir(src):\n",
        "        files = glob.glob(os.path.join(src, \"**\", \"*\"), recursive=True)\n",
        "        for fp in files:\n",
        "            ext = os.path.splitext(fp)[1]\n",
        "            if ext in IMG_EXTS and os.path.isfile(fp):\n",
        "                try:\n",
        "                    im = Image.open(fp)\n",
        "                    if im.mode != \"RGB\":\n",
        "                        im = im.convert(\"RGB\")\n",
        "                    stem = os.path.splitext(os.path.basename(fp))[0]\n",
        "                    im.save(os.path.join(out_dir, f\"{stem}.jpg\"), quality=92)\n",
        "                    cnt += 1\n",
        "                except Exception:\n",
        "                    pass\n",
        "    elif src.lower().endswith(\".zip\"):\n",
        "        tmp = os.path.join(BASE, \"_tmp_img\")\n",
        "        shutil.rmtree(tmp, ignore_errors=True)\n",
        "        os.makedirs(tmp, exist_ok=True)\n",
        "        with zipfile.ZipFile(src) as z:\n",
        "            z.extractall(tmp)\n",
        "        cnt += _copy_images_any(tmp, out_dir)\n",
        "        shutil.rmtree(tmp, ignore_errors=True)\n",
        "    return cnt\n",
        "\n",
        "def _copy_jsons_any(src, out_dir):\n",
        "    os.makedirs(out_dir, exist_ok=True)\n",
        "    cnt = 0\n",
        "    if os.path.isdir(src):\n",
        "        for fp in glob.glob(os.path.join(src, \"**\", \"*.json\"), recursive=True):\n",
        "            try:\n",
        "                shutil.copy2(fp, os.path.join(out_dir, os.path.basename(fp)))\n",
        "                cnt += 1\n",
        "            except:\n",
        "                pass\n",
        "    elif src.lower().endswith(\".zip\"):\n",
        "        tmp = os.path.join(BASE, \"_tmp_lbl\")\n",
        "        shutil.rmtree(tmp, ignore_errors=True)\n",
        "        os.makedirs(tmp, exist_ok=True)\n",
        "        with zipfile.ZipFile(src) as z:\n",
        "            z.extractall(tmp)\n",
        "        for fp in glob.glob(os.path.join(tmp, \"**\", \"*.json\"), recursive=True):\n",
        "            try:\n",
        "                shutil.copy2(fp, os.path.join(out_dir, os.path.basename(fp)))\n",
        "                cnt += 1\n",
        "            except:\n",
        "                pass\n",
        "        shutil.rmtree(tmp, ignore_errors=True)\n",
        "    return cnt\n",
        "\n",
        "# 수집\n",
        "ti=tl=vi=vl=0\n",
        "for s in _iter_existing(TRAIN_IMG_SOURCES): ti += _copy_images_any(s, f\"{BASE}/raw/train/images\")\n",
        "for s in _iter_existing(TRAIN_LBL_SOURCES): tl += _copy_jsons_any(s, f\"{BASE}/raw/train/labels_json\")\n",
        "for s in _iter_existing(VAL_IMG_SOURCES):   vi += _copy_images_any(s, f\"{BASE}/raw/val/images\")\n",
        "for s in _iter_existing(VAL_LBL_SOURCES):   vl += _copy_jsons_any(s, f\"{BASE}/raw/val/labels_json\")\n",
        "\n",
        "def _cnt_jpg(d): return len(glob.glob(os.path.join(d, \"*.jpg\")))\n",
        "def _cnt_json(d): return len(glob.glob(os.path.join(d, \"**\", \"*.json\"), recursive=True))\n",
        "\n",
        "print(f\"[COUNT] train images: {_cnt_jpg(f'{BASE}/raw/train/images')}, train json: {_cnt_json(f'{BASE}/raw/train/labels_json')}\")\n",
        "print(f\"[COUNT]   val images: {_cnt_jpg(f'{BASE}/raw/val/images')},   val json: {_cnt_json(f'{BASE}/raw/val/labels_json')}\")\n"
      ],
      "metadata": {
        "colab": {
          "base_uri": "https://localhost:8080/"
        },
        "id": "QvaAxvZ5Lq2N",
        "outputId": "90a9ee54-bbc2-4ade-b5a2-03612870377e"
      },
      "execution_count": 3,
      "outputs": [
        {
          "output_type": "stream",
          "name": "stdout",
          "text": [
            "[COUNT] train images: 8062, train json: 8052\n",
            "[COUNT]   val images: 1006,   val json: 1006\n"
          ]
        }
      ]
    },
    {
      "cell_type": "code",
      "source": [
        "# === 2. JSON -> YOLO labels ===\n",
        "import json, tqdm, shutil, os, glob\n",
        "\n",
        "def _xywh_from_rect(rect, W, H):\n",
        "    # dict: {\"x\",\"y\",\"width\",\"height\"} or {\"xmin\",\"ymin\",\"xmax\",\"ymax\"}\n",
        "    if isinstance(rect, dict):\n",
        "        if all(k in rect for k in (\"x\",\"y\",\"width\",\"height\")):\n",
        "            x,y,w,h = float(rect[\"x\"]),float(rect[\"y\"]),float(rect[\"width\"]),float(rect[\"height\"])\n",
        "            return x,y,max(1.0,w),max(1.0,h)\n",
        "        if all(k in rect for k in (\"xmin\",\"ymin\",\"xmax\",\"ymax\")):\n",
        "            xmin,ymin,xmax,ymax = map(float,[rect[\"xmin\"],rect[\"ymin\"],rect[\"xmax\"],rect[\"ymax\"]])\n",
        "            return xmin, ymin, max(1.0,xmax-xmin), max(1.0,ymax-ymin)\n",
        "    # list/tuple len 4: [x,y,w,h] or [xmin,ymin,xmax,ymax]\n",
        "    if isinstance(rect,(list,tuple)) and len(rect)==4:\n",
        "        a,b,c,d = map(float, rect)\n",
        "        if c>a and d>b:  # treat as [xmin,ymin,xmax,ymax]\n",
        "            return a,b,max(1.0,c-a),max(1.0,d-b)\n",
        "        return a,b,max(1.0,c),max(1.0,d)\n",
        "    raise ValueError(\"unsupported rect\")\n",
        "\n",
        "def _yolo_line(x,y,w,h,W,H,cls=0):\n",
        "    # clip + normalize\n",
        "    x = max(0,min(x,W)); y = max(0,min(y,H))\n",
        "    w = max(1,min(w,W-x)); h = max(1,min(h,H-y))\n",
        "    cx, cy = (x+w/2)/W, (y+h/2)/H\n",
        "    return f\"{cls} {cx:.6f} {cy:.6f} {w/W:.6f} {h/H:.6f}\"\n",
        "\n",
        "def _match_jpg(raw_dir, file_name):\n",
        "    stem = os.path.splitext(os.path.basename(file_name))[0]\n",
        "    cand = os.path.join(raw_dir, f\"{stem}.jpg\")\n",
        "    return cand if os.path.exists(cand) else None\n",
        "\n",
        "def _iter_records(obj):\n",
        "    # Case A: {\"image\":{file_name,width,height}, \"annotations\":[...]}\n",
        "    if isinstance(obj, dict) and (\"image\" in obj or \"file_name\" in obj or \"filename\" in obj):\n",
        "        img = obj.get(\"image\", {})\n",
        "        fn = img.get(\"file_name\") or obj.get(\"file_name\") or obj.get(\"filename\")\n",
        "        W  = int(img.get(\"img_width\") or obj.get(\"img_width\") or img.get(\"width\") or obj.get(\"width\") or 512)\n",
        "        H  = int(img.get(\"img_height\") or obj.get(\"img_height\") or img.get(\"height\") or obj.get(\"height\") or 512)\n",
        "        anns = obj.get(\"annotations\") or obj.get(\"objects\") or obj.get(\"regions\") or []\n",
        "        rects=[]\n",
        "        for a in anns:\n",
        "            if \"shape_attributes\" in a and a[\"shape_attributes\"].get(\"name\")==\"rect\":\n",
        "                sa=a[\"shape_attributes\"]; rects.append({\"x\":sa[\"x\"],\"y\":sa[\"y\"],\"width\":sa[\"width\"],\"height\":sa[\"height\"]})\n",
        "            elif \"rect\" in a: rects.append(a[\"rect\"])\n",
        "            elif \"bbox\" in a: rects.append(a[\"bbox\"])\n",
        "        if fn and rects:\n",
        "            yield (fn,W,H,rects)\n",
        "        return\n",
        "    # Case B: VIA dict\n",
        "    if isinstance(obj, dict) and all(isinstance(v,dict) for v in obj.values()):\n",
        "        for v in obj.values():\n",
        "            fn = v.get(\"filename\") or v.get(\"file_name\")\n",
        "            W = int(v.get(\"img_width\") or v.get(\"width\") or 512)\n",
        "            H = int(v.get(\"img_height\") or v.get(\"height\") or 512)\n",
        "            rects=[]\n",
        "            for r in v.get(\"regions\", []):\n",
        "                sa=r.get(\"shape_attributes\",{})\n",
        "                if sa.get(\"name\")==\"rect\":\n",
        "                    rects.append({\"x\":sa[\"x\"],\"y\":sa[\"y\"],\"width\":sa[\"width\"],\"height\":sa[\"height\"]})\n",
        "            if fn and rects:\n",
        "                yield (fn,W,H,rects)\n",
        "        return\n",
        "    # Case C: list\n",
        "    if isinstance(obj, list):\n",
        "        for it in obj:\n",
        "            yield from _iter_records(it)\n",
        "\n",
        "def _convert_split(split):\n",
        "    raw_img = f\"{BASE}/raw/{split}/images\"\n",
        "    raw_lbl = f\"{BASE}/raw/{split}/labels_json\"\n",
        "    out_img = f\"{BASE}/yolo/images/{split}\"\n",
        "    out_lbl = f\"{BASE}/yolo/labels/{split}\"\n",
        "    os.makedirs(out_img, exist_ok=True); os.makedirs(out_lbl, exist_ok=True)\n",
        "\n",
        "    moved=0\n",
        "    for jf in tqdm.tqdm(glob.glob(f\"{raw_lbl}/**/*.json\", recursive=True), desc=f\"Convert {split}\"):\n",
        "        try:\n",
        "            txt = open(jf,\"r\",encoding=\"utf-8\").read().strip()\n",
        "            obj = json.loads(txt)\n",
        "        except Exception:\n",
        "            continue\n",
        "        for fn,W,H,rects in _iter_records(obj):\n",
        "            src = _match_jpg(raw_img, fn)\n",
        "            if not src:\n",
        "                continue\n",
        "            base = os.path.splitext(os.path.basename(src))[0]\n",
        "            dst_img = os.path.join(out_img, f\"{base}.jpg\")\n",
        "            if not os.path.exists(dst_img):\n",
        "                shutil.copy2(src, dst_img)\n",
        "            lines=[]\n",
        "            for r in rects:\n",
        "                try:\n",
        "                    x,y,w,h = _xywh_from_rect(r,W,H)\n",
        "                    lines.append(_yolo_line(x,y,w,h,W,H,cls=0))\n",
        "                except:\n",
        "                    pass\n",
        "            if lines:\n",
        "                with open(os.path.join(out_lbl, f\"{base}.txt\"),\"w\") as f:\n",
        "                    f.write(\"\\n\".join(lines))\n",
        "                moved += 1\n",
        "    print(f\"[{split}] YOLO labels generated for {moved} images.\")\n",
        "\n",
        "_convert_split(\"train\")\n",
        "_convert_split(\"val\")\n",
        "\n",
        "print(\"train imgs:\", len(glob.glob(f'{BASE}/yolo/images/train/*.jpg')),\n",
        "      \"labels:\", len(glob.glob(f'{BASE}/yolo/labels/train/*.txt')))\n",
        "print(\"val   imgs:\", len(glob.glob(f'{BASE}/yolo/images/val/*.jpg')),\n",
        "      \"labels:\", len(glob.glob(f'{BASE}/yolo/labels/val/*.txt')))\n"
      ],
      "metadata": {
        "colab": {
          "base_uri": "https://localhost:8080/"
        },
        "id": "UA4ub6cBNHcP",
        "outputId": "364d06fb-1234-4370-b310-e5acfe3a2866"
      },
      "execution_count": 4,
      "outputs": [
        {
          "output_type": "stream",
          "name": "stderr",
          "text": [
            "Convert train: 100%|██████████| 8052/8052 [00:01<00:00, 6920.30it/s]\n"
          ]
        },
        {
          "output_type": "stream",
          "name": "stdout",
          "text": [
            "[train] YOLO labels generated for 8052 images.\n"
          ]
        },
        {
          "output_type": "stream",
          "name": "stderr",
          "text": [
            "Convert val: 100%|██████████| 1006/1006 [00:00<00:00, 6842.20it/s]"
          ]
        },
        {
          "output_type": "stream",
          "name": "stdout",
          "text": [
            "[val] YOLO labels generated for 1006 images.\n",
            "train imgs: 8052 labels: 8052\n",
            "val   imgs: 1006 labels: 1006\n"
          ]
        },
        {
          "output_type": "stream",
          "name": "stderr",
          "text": [
            "\n"
          ]
        }
      ]
    },
    {
      "cell_type": "code",
      "source": [
        "# === 3. data.yaml ===\n",
        "data_yaml = f\"\"\"\n",
        "path: {BASE}/yolo\n",
        "train: images/train\n",
        "val: images/val\n",
        "names:\n",
        "  0: chimney\n",
        "\"\"\"\n",
        "with open(f\"{BASE}/chimney.yaml\",\"w\") as f:\n",
        "    f.write(data_yaml.strip()+\"\\n\")\n",
        "print(open(f\"{BASE}/chimney.yaml\").read())\n"
      ],
      "metadata": {
        "colab": {
          "base_uri": "https://localhost:8080/"
        },
        "id": "vshPQ58QNwbw",
        "outputId": "d4219b65-b303-48bb-95ce-270b707bbdf1"
      },
      "execution_count": 5,
      "outputs": [
        {
          "output_type": "stream",
          "name": "stdout",
          "text": [
            "path: /content/ks_chimney_yolo/yolo\n",
            "train: images/train\n",
            "val: images/val\n",
            "names:\n",
            "  0: chimney\n",
            "\n"
          ]
        }
      ]
    },
    {
      "cell_type": "code",
      "source": [
        "# === 4. Clean environment & pin versions (auto restart) ===\n",
        "# 불필요/충돌 유발 패키지 제거\n",
        "!pip -q uninstall -y \\\n",
        "  ultralytics opencv-python opencv-contrib-python opencv-python-headless \\\n",
        "  albumentations albucore fastai spacy thinc \\\n",
        "  cudf-cu12 dask-cudf-cu12 cuml-cu12 cupy-cuda12x cugraph-cu12 \\\n",
        "  torchtune bigframes datasets gcsfs fsspec \\\n",
        "  pandas requests jedi > /dev/null\n",
        "\n",
        "# === 4-수정: 남은 RAPIDS 의존 패키지 제거 + 필수 조합 재설치 ===\n",
        "!pip -q uninstall -y pylibcugraph-cu12 nx-cugraph-cu12 cugraph-cu12\n",
        "\n",
        "!pip -q install --upgrade \"pip<25\"\n",
        "!pip -q install --force-reinstall \\\n",
        "  \"numpy==1.26.4\" \\\n",
        "  \"opencv-python-headless==4.8.1.78\" \\\n",
        "  \"ultralytics==8.2.103\" \\\n",
        "  \"pandas==2.2.2\" \\\n",
        "  \"requests==2.32.4\" \\\n",
        "  \"jedi==0.19.1\" \\\n",
        "  pillow tqdm\n",
        "\n",
        "import os; os.kill(os.getpid(), 9)"
      ],
      "metadata": {
        "colab": {
          "base_uri": "https://localhost:8080/"
        },
        "id": "OegPtYmdYAod",
        "outputId": "753a70ef-6130-4b74-cefb-675e897f3248"
      },
      "execution_count": null,
      "outputs": [
        {
          "output_type": "stream",
          "name": "stdout",
          "text": [
            "\u001b[33mWARNING: Skipping opencv-contrib-python as it is not installed.\u001b[0m\u001b[33m\n",
            "\u001b[0m\u001b[33mWARNING: Skipping albumentations as it is not installed.\u001b[0m\u001b[33m\n",
            "\u001b[0m\u001b[33mWARNING: Skipping albucore as it is not installed.\u001b[0m\u001b[33m\n",
            "\u001b[0m\u001b[33mWARNING: Skipping fastai as it is not installed.\u001b[0m\u001b[33m\n",
            "\u001b[0m\u001b[33mWARNING: Skipping spacy as it is not installed.\u001b[0m\u001b[33m\n",
            "\u001b[0m\u001b[33mWARNING: Skipping thinc as it is not installed.\u001b[0m\u001b[33m\n",
            "\u001b[0m\u001b[33mWARNING: Skipping cudf-cu12 as it is not installed.\u001b[0m\u001b[33m\n",
            "\u001b[0m\u001b[33mWARNING: Skipping dask-cudf-cu12 as it is not installed.\u001b[0m\u001b[33m\n",
            "\u001b[0m\u001b[33mWARNING: Skipping cuml-cu12 as it is not installed.\u001b[0m\u001b[33m\n",
            "\u001b[0m\u001b[33mWARNING: Skipping cupy-cuda12x as it is not installed.\u001b[0m\u001b[33m\n",
            "\u001b[0m\u001b[33mWARNING: Skipping cugraph-cu12 as it is not installed.\u001b[0m\u001b[33m\n",
            "\u001b[0m\u001b[33mWARNING: Skipping torchtune as it is not installed.\u001b[0m\u001b[33m\n",
            "\u001b[0m\u001b[33mWARNING: Skipping bigframes as it is not installed.\u001b[0m\u001b[33m\n",
            "\u001b[0m\u001b[33mWARNING: Skipping datasets as it is not installed.\u001b[0m\u001b[33m\n",
            "\u001b[0m\u001b[33mWARNING: Skipping gcsfs as it is not installed.\u001b[0m\u001b[33m\n",
            "\u001b[0m\u001b[33mWARNING: Skipping cugraph-cu12 as it is not installed.\u001b[0m\u001b[33m\n",
            "\u001b[0m"
          ]
        }
      ]
    },
    {
      "cell_type": "code",
      "source": [
        "# === 5. Version check + Train/Val ===\n",
        "import os, sys, subprocess, glob, textwrap, traceback\n",
        "import numpy as np, cv2, pandas as pd, requests, torch, ultralytics\n",
        "print(\"numpy :\", np.__version__)          # 1.26.4\n",
        "print(\"opencv:\", cv2.__version__)         # 4.8.1.78 (다른 버전도 동작은 보통 OK)\n",
        "print(\"pandas:\", pd.__version__)          # 2.2.2\n",
        "print(\"requests:\", requests.__version__)  # 2.32.4\n",
        "print(\"torch  :\", torch.__version__)\n",
        "print(\"ultralytics:\", ultralytics.__version__)  # 8.2.103\n",
        "\n",
        "# BASE / yaml 고정(글롭 스캔 제거)\n",
        "BASE = \"/content/ks_chimney_yolo\"\n",
        "yaml_path = f\"{BASE}/chimney.yaml\"\n",
        "if not os.path.exists(yaml_path):\n",
        "    for p in [\n",
        "        f\"{BASE}/yolo/images/train\", f\"{BASE}/yolo/images/val\",\n",
        "        f\"{BASE}/yolo/labels/train\", f\"{BASE}/yolo/labels/val\",\n",
        "    ]:\n",
        "        os.makedirs(p, exist_ok=True)\n",
        "    with open(yaml_path, \"w\") as f:\n",
        "        f.write(textwrap.dedent(f\"\"\"\\\n",
        "        path: {BASE}/yolo\n",
        "        train: images/train\n",
        "        val: images/val\n",
        "        names:\n",
        "          0: chimney\n",
        "        \"\"\").strip()+\"\\n\")\n",
        "\n",
        "print(\"\\n-- chimney.yaml --\")\n",
        "print(open(yaml_path).read())\n",
        "\n",
        "# 데이터 존재 점검\n",
        "def _cnt(pat): return len(glob.glob(pat))\n",
        "n_tr_img = _cnt(f\"{BASE}/yolo/images/train/*.jpg\")\n",
        "n_tr_lbl = _cnt(f\"{BASE}/yolo/labels/train/*.txt\")\n",
        "n_va_img = _cnt(f\"{BASE}/yolo/images/val/*.jpg\")\n",
        "n_va_lbl = _cnt(f\"{BASE}/yolo/labels/val/*.txt\")\n",
        "print(f\"\\n[COUNT] train: images={n_tr_img}, labels={n_tr_lbl} | val: images={n_va_img}, labels={n_va_lbl}\")\n",
        "\n",
        "# W&B 완전 비활성화\n",
        "os.environ[\"WANDB_DISABLED\"] = \"true\"\n",
        "os.environ[\"WANDB_MODE\"] = \"offline\"\n",
        "os.environ[\"WANDB_SILENT\"] = \"true\"\n",
        "subprocess.run([sys.executable, \"-m\", \"pip\", \"uninstall\", \"-y\", \"wandb\"], check=False)\n",
        "from ultralytics.utils import SETTINGS\n",
        "SETTINGS.update({'wandb': False})\n",
        "\n",
        "# 학습(OOM 자동 폴백)\n",
        "from ultralytics import YOLO\n",
        "model = YOLO(\"yolov8n.pt\")\n",
        "device = 0 if torch.cuda.is_available() else \"cpu\"\n",
        "print(\"device:\", device)\n",
        "\n",
        "def train_with_fallback(bs_init=16, epochs=100, imgsz=512, lr0=0.01, name=\"yolov8n_ks_train\"):\n",
        "    bs = bs_init\n",
        "    last_err = None\n",
        "    while True:\n",
        "        try:\n",
        "            print(f\"\\n[TRAIN] batch={bs}, epochs={epochs}, imgsz={imgsz}, lr0={lr0}\")\n",
        "            results = model.train(\n",
        "                data=yaml_path,\n",
        "                imgsz=imgsz,\n",
        "                epochs=epochs,\n",
        "                batch=bs,\n",
        "                optimizer=\"SGD\",\n",
        "                lr0=lr0,\n",
        "                device=device,\n",
        "                project=BASE,\n",
        "                name=name,\n",
        "                seed=42,\n",
        "                deterministic=True,\n",
        "                patience=50,\n",
        "                verbose=True\n",
        "            )\n",
        "            return results, bs\n",
        "        except RuntimeError as e:\n",
        "            msg = str(e).lower()\n",
        "            last_err = e\n",
        "            if \"out of memory\" in msg or (\"cuda\" in msg and \"memory\" in msg):\n",
        "                if isinstance(device, int):\n",
        "                    torch.cuda.empty_cache()\n",
        "                if bs > 1:\n",
        "                    print(f\"⚠️  OOM 감지 → 배치 {bs} → {max(1, bs//2)} 로 폴백 재시도\")\n",
        "                    bs = max(1, bs//2)\n",
        "                    continue\n",
        "            print(\"❌ 학습 실패:\")\n",
        "            traceback.print_exc()\n",
        "            raise last_err\n",
        "\n",
        "results, used_bs = train_with_fallback()\n",
        "print(f\"\\n✅ Train finished with batch={used_bs}\")\n",
        "\n",
        "# 검증(mAP@0.5)\n",
        "val = model.val(data=yaml_path, imgsz=512, split=\"val\", plots=True)\n",
        "try:\n",
        "    mAP50 = val.results_dict.get('metrics/mAP50(B)', val.box.map50)\n",
        "except Exception:\n",
        "    mAP50 = getattr(getattr(val, \"box\", None), \"map50\", None)\n",
        "print(\"mAP@0.5:\", mAP50 if mAP50 is not None else \"N/A\")\n",
        "\n",
        "# 결과 경로 안내\n",
        "runs_dir = os.path.join(BASE, \"yolov8n_ks_train\")\n",
        "weights_dir = os.path.join(runs_dir, \"weights\")\n",
        "best_pt = os.path.join(weights_dir, \"best.pt\")\n",
        "print(\"\\n[RESULT PATHS]\")\n",
        "print(\"runs dir   :\", runs_dir)\n",
        "print(\"weights dir:\", weights_dir)\n",
        "print(\"best model :\", best_pt if os.path.exists(best_pt) else \"(not found yet)\")\n"
      ],
      "metadata": {
        "colab": {
          "base_uri": "https://localhost:8080/"
        },
        "id": "I_y9qIauNyau",
        "outputId": "e9eace5c-988e-446f-d8e0-e539170e4d46"
      },
      "execution_count": 4,
      "outputs": [
        {
          "metadata": {
            "tags": null
          },
          "name": "stdout",
          "output_type": "stream",
          "text": [
            "numpy : 1.26.4\n",
            "opencv: 4.11.0\n",
            "pandas: 2.2.2\n",
            "requests: 2.32.4\n",
            "torch  : 2.8.0+cu128\n",
            "ultralytics: 8.2.103\n",
            "\n",
            "-- chimney.yaml --\n",
            "path: /content/ks_chimney_yolo/yolo\n",
            "train: images/train\n",
            "val: images/val\n",
            "names:\n",
            "  0: chimney\n",
            "\n",
            "\n",
            "[COUNT] train: images=8052, labels=8052 | val: images=1006, labels=1006\n",
            "device: 0\n",
            "\n",
            "[TRAIN] batch=16, epochs=100, imgsz=512, lr0=0.01\n",
            "New https://pypi.org/project/ultralytics/8.3.199 available 😃 Update with 'pip install -U ultralytics'\n",
            "Ultralytics YOLOv8.2.103 🚀 Python-3.12.11 torch-2.8.0+cu128 CUDA:0 (NVIDIA A100-SXM4-80GB, 81222MiB)\n",
            "\u001b[34m\u001b[1mengine/trainer: \u001b[0mtask=detect, mode=train, model=yolov8n.pt, data=/content/ks_chimney_yolo/chimney.yaml, epochs=100, time=None, patience=50, batch=16, imgsz=512, save=True, save_period=-1, cache=False, device=0, workers=8, project=/content/ks_chimney_yolo, name=yolov8n_ks_train, exist_ok=False, pretrained=True, optimizer=SGD, verbose=True, seed=42, deterministic=True, single_cls=False, rect=False, cos_lr=False, close_mosaic=10, resume=False, amp=True, fraction=1.0, profile=False, freeze=None, multi_scale=False, overlap_mask=True, mask_ratio=4, dropout=0.0, val=True, split=val, save_json=False, save_hybrid=False, conf=None, iou=0.7, max_det=300, half=False, dnn=False, plots=True, source=None, vid_stride=1, stream_buffer=False, visualize=False, augment=False, agnostic_nms=False, classes=None, retina_masks=False, embed=None, show=False, save_frames=False, save_txt=False, save_conf=False, save_crop=False, show_labels=True, show_conf=True, show_boxes=True, line_width=None, format=torchscript, keras=False, optimize=False, int8=False, dynamic=False, simplify=True, opset=None, workspace=4, nms=False, lr0=0.01, lrf=0.01, momentum=0.937, weight_decay=0.0005, warmup_epochs=3.0, warmup_momentum=0.8, warmup_bias_lr=0.1, box=7.5, cls=0.5, dfl=1.5, pose=12.0, kobj=1.0, label_smoothing=0.0, nbs=64, hsv_h=0.015, hsv_s=0.7, hsv_v=0.4, degrees=0.0, translate=0.1, scale=0.5, shear=0.0, perspective=0.0, flipud=0.0, fliplr=0.5, bgr=0.0, mosaic=1.0, mixup=0.0, copy_paste=0.0, auto_augment=randaugment, erasing=0.4, crop_fraction=1.0, cfg=None, tracker=botsort.yaml, save_dir=/content/ks_chimney_yolo/yolov8n_ks_train\n",
            "Downloading https://ultralytics.com/assets/Arial.ttf to '/root/.config/Ultralytics/Arial.ttf'...\n"
          ]
        },
        {
          "metadata": {
            "tags": null
          },
          "name": "stderr",
          "output_type": "stream",
          "text": [
            "100%|██████████| 755k/755k [00:00<00:00, 34.7MB/s]\n"
          ]
        },
        {
          "metadata": {
            "tags": null
          },
          "name": "stdout",
          "output_type": "stream",
          "text": [
            "Overriding model.yaml nc=80 with nc=1\n",
            "\n",
            "                   from  n    params  module                                       arguments                     \n",
            "  0                  -1  1       464  ultralytics.nn.modules.conv.Conv             [3, 16, 3, 2]                 \n",
            "  1                  -1  1      4672  ultralytics.nn.modules.conv.Conv             [16, 32, 3, 2]                \n",
            "  2                  -1  1      7360  ultralytics.nn.modules.block.C2f             [32, 32, 1, True]             \n",
            "  3                  -1  1     18560  ultralytics.nn.modules.conv.Conv             [32, 64, 3, 2]                \n",
            "  4                  -1  2     49664  ultralytics.nn.modules.block.C2f             [64, 64, 2, True]             \n",
            "  5                  -1  1     73984  ultralytics.nn.modules.conv.Conv             [64, 128, 3, 2]               \n",
            "  6                  -1  2    197632  ultralytics.nn.modules.block.C2f             [128, 128, 2, True]           \n",
            "  7                  -1  1    295424  ultralytics.nn.modules.conv.Conv             [128, 256, 3, 2]              \n",
            "  8                  -1  1    460288  ultralytics.nn.modules.block.C2f             [256, 256, 1, True]           \n",
            "  9                  -1  1    164608  ultralytics.nn.modules.block.SPPF            [256, 256, 5]                 \n",
            " 10                  -1  1         0  torch.nn.modules.upsampling.Upsample         [None, 2, 'nearest']          \n",
            " 11             [-1, 6]  1         0  ultralytics.nn.modules.conv.Concat           [1]                           \n",
            " 12                  -1  1    148224  ultralytics.nn.modules.block.C2f             [384, 128, 1]                 \n",
            " 13                  -1  1         0  torch.nn.modules.upsampling.Upsample         [None, 2, 'nearest']          \n",
            " 14             [-1, 4]  1         0  ultralytics.nn.modules.conv.Concat           [1]                           \n",
            " 15                  -1  1     37248  ultralytics.nn.modules.block.C2f             [192, 64, 1]                  \n",
            " 16                  -1  1     36992  ultralytics.nn.modules.conv.Conv             [64, 64, 3, 2]                \n",
            " 17            [-1, 12]  1         0  ultralytics.nn.modules.conv.Concat           [1]                           \n",
            " 18                  -1  1    123648  ultralytics.nn.modules.block.C2f             [192, 128, 1]                 \n",
            " 19                  -1  1    147712  ultralytics.nn.modules.conv.Conv             [128, 128, 3, 2]              \n",
            " 20             [-1, 9]  1         0  ultralytics.nn.modules.conv.Concat           [1]                           \n",
            " 21                  -1  1    493056  ultralytics.nn.modules.block.C2f             [384, 256, 1]                 \n",
            " 22        [15, 18, 21]  1    751507  ultralytics.nn.modules.head.Detect           [1, [64, 128, 256]]           \n",
            "Model summary: 225 layers, 3,011,043 parameters, 3,011,027 gradients, 8.2 GFLOPs\n",
            "\n",
            "Transferred 319/355 items from pretrained weights\n",
            "\u001b[34m\u001b[1mTensorBoard: \u001b[0mStart with 'tensorboard --logdir /content/ks_chimney_yolo/yolov8n_ks_train', view at http://localhost:6006/\n",
            "Freezing layer 'model.22.dfl.conv.weight'\n",
            "\u001b[34m\u001b[1mAMP: \u001b[0mrunning Automatic Mixed Precision (AMP) checks with YOLOv8n...\n",
            "\u001b[34m\u001b[1mAMP: \u001b[0mchecks passed ✅\n"
          ]
        },
        {
          "metadata": {
            "tags": null
          },
          "name": "stderr",
          "output_type": "stream",
          "text": [
            "\u001b[34m\u001b[1mtrain: \u001b[0mScanning /content/ks_chimney_yolo/yolo/labels/train... 8052 images, 0 backgrounds, 0 corrupt: 100%|██████████| 8052/8052 [00:05<00:00, 1508.73it/s]\n"
          ]
        },
        {
          "metadata": {
            "tags": null
          },
          "name": "stdout",
          "output_type": "stream",
          "text": [
            "\u001b[34m\u001b[1mtrain: \u001b[0mNew cache created: /content/ks_chimney_yolo/yolo/labels/train.cache\n"
          ]
        },
        {
          "metadata": {
            "tags": null
          },
          "name": "stderr",
          "output_type": "stream",
          "text": [
            "\u001b[34m\u001b[1mval: \u001b[0mScanning /content/ks_chimney_yolo/yolo/labels/val... 1006 images, 0 backgrounds, 0 corrupt: 100%|██████████| 1006/1006 [00:00<00:00, 1203.64it/s]\n"
          ]
        },
        {
          "metadata": {
            "tags": null
          },
          "name": "stdout",
          "output_type": "stream",
          "text": [
            "\u001b[34m\u001b[1mval: \u001b[0mNew cache created: /content/ks_chimney_yolo/yolo/labels/val.cache\n",
            "Plotting labels to /content/ks_chimney_yolo/yolov8n_ks_train/labels.jpg... \n",
            "\u001b[34m\u001b[1moptimizer:\u001b[0m SGD(lr=0.01, momentum=0.937) with parameter groups 57 weight(decay=0.0), 64 weight(decay=0.0005), 63 bias(decay=0.0)\n",
            "\u001b[34m\u001b[1mTensorBoard: \u001b[0mmodel graph visualization added ✅\n",
            "Image sizes 512 train, 512 val\n",
            "Using 8 dataloader workers\n",
            "Logging results to \u001b[1m/content/ks_chimney_yolo/yolov8n_ks_train\u001b[0m\n",
            "Starting training for 100 epochs...\n",
            "\n",
            "      Epoch    GPU_mem   box_loss   cls_loss   dfl_loss  Instances       Size\n"
          ]
        },
        {
          "metadata": {
            "tags": null
          },
          "name": "stderr",
          "output_type": "stream",
          "text": [
            "      1/100       1.5G      1.648      2.222      1.293          4        512: 100%|██████████| 504/504 [00:45<00:00, 11.15it/s]\n",
            "                 Class     Images  Instances      Box(P          R      mAP50  mAP50-95): 100%|██████████| 32/32 [00:04<00:00,  6.77it/s]\n"
          ]
        },
        {
          "metadata": {
            "tags": null
          },
          "name": "stdout",
          "output_type": "stream",
          "text": [
            "                   all       1006       1322      0.775      0.695      0.765      0.417\n",
            "\n",
            "      Epoch    GPU_mem   box_loss   cls_loss   dfl_loss  Instances       Size\n"
          ]
        },
        {
          "metadata": {
            "tags": null
          },
          "name": "stderr",
          "output_type": "stream",
          "text": [
            "      2/100      1.46G      1.454      1.415      1.138          4        512: 100%|██████████| 504/504 [00:41<00:00, 12.18it/s]\n",
            "                 Class     Images  Instances      Box(P          R      mAP50  mAP50-95): 100%|██████████| 32/32 [00:03<00:00,  8.42it/s]\n"
          ]
        },
        {
          "metadata": {
            "tags": null
          },
          "name": "stdout",
          "output_type": "stream",
          "text": [
            "                   all       1006       1322      0.821       0.73        0.8      0.476\n",
            "\n",
            "      Epoch    GPU_mem   box_loss   cls_loss   dfl_loss  Instances       Size\n"
          ]
        },
        {
          "output_type": "stream",
          "name": "stderr",
          "text": [
            "      3/100      1.46G      1.487      1.393      1.161          9        512: 100%|██████████| 504/504 [00:40<00:00, 12.36it/s]\n",
            "                 Class     Images  Instances      Box(P          R      mAP50  mAP50-95): 100%|██████████| 32/32 [00:03<00:00,  8.34it/s]"
          ]
        },
        {
          "output_type": "stream",
          "name": "stdout",
          "text": [
            "                   all       1006       1322      0.736      0.657      0.728      0.432\n"
          ]
        },
        {
          "output_type": "stream",
          "name": "stderr",
          "text": [
            "\n"
          ]
        },
        {
          "output_type": "stream",
          "name": "stdout",
          "text": [
            "\n",
            "      Epoch    GPU_mem   box_loss   cls_loss   dfl_loss  Instances       Size\n"
          ]
        },
        {
          "output_type": "stream",
          "name": "stderr",
          "text": [
            "      4/100      1.46G      1.514      1.407      1.191          3        512: 100%|██████████| 504/504 [00:40<00:00, 12.56it/s]\n",
            "                 Class     Images  Instances      Box(P          R      mAP50  mAP50-95): 100%|██████████| 32/32 [00:03<00:00,  8.48it/s]\n"
          ]
        },
        {
          "output_type": "stream",
          "name": "stdout",
          "text": [
            "                   all       1006       1322      0.787      0.674      0.765      0.464\n",
            "\n",
            "      Epoch    GPU_mem   box_loss   cls_loss   dfl_loss  Instances       Size\n"
          ]
        },
        {
          "output_type": "stream",
          "name": "stderr",
          "text": [
            "      5/100      1.47G      1.451      1.279      1.164          5        512: 100%|██████████| 504/504 [00:39<00:00, 12.62it/s]\n",
            "                 Class     Images  Instances      Box(P          R      mAP50  mAP50-95): 100%|██████████| 32/32 [00:03<00:00,  8.50it/s]\n"
          ]
        },
        {
          "output_type": "stream",
          "name": "stdout",
          "text": [
            "                   all       1006       1322      0.819      0.718      0.794      0.464\n",
            "\n",
            "      Epoch    GPU_mem   box_loss   cls_loss   dfl_loss  Instances       Size\n"
          ]
        },
        {
          "output_type": "stream",
          "name": "stderr",
          "text": [
            "      6/100      1.46G      1.399      1.176      1.135          4        512: 100%|██████████| 504/504 [00:40<00:00, 12.60it/s]\n",
            "                 Class     Images  Instances      Box(P          R      mAP50  mAP50-95): 100%|██████████| 32/32 [00:03<00:00,  8.58it/s]\n"
          ]
        },
        {
          "output_type": "stream",
          "name": "stdout",
          "text": [
            "                   all       1006       1322      0.859      0.766      0.864      0.558\n",
            "\n",
            "      Epoch    GPU_mem   box_loss   cls_loss   dfl_loss  Instances       Size\n"
          ]
        },
        {
          "output_type": "stream",
          "name": "stderr",
          "text": [
            "      7/100      1.46G      1.362       1.12      1.119          5        512: 100%|██████████| 504/504 [00:39<00:00, 12.81it/s]\n",
            "                 Class     Images  Instances      Box(P          R      mAP50  mAP50-95): 100%|██████████| 32/32 [00:03<00:00,  8.55it/s]\n"
          ]
        },
        {
          "output_type": "stream",
          "name": "stdout",
          "text": [
            "                   all       1006       1322       0.87      0.826      0.906      0.598\n",
            "\n",
            "      Epoch    GPU_mem   box_loss   cls_loss   dfl_loss  Instances       Size\n"
          ]
        },
        {
          "output_type": "stream",
          "name": "stderr",
          "text": [
            "      8/100      1.46G      1.301      1.042      1.094          6        512: 100%|██████████| 504/504 [00:40<00:00, 12.58it/s]\n",
            "                 Class     Images  Instances      Box(P          R      mAP50  mAP50-95): 100%|██████████| 32/32 [00:03<00:00,  8.72it/s]"
          ]
        },
        {
          "output_type": "stream",
          "name": "stdout",
          "text": [
            "                   all       1006       1322       0.89      0.821      0.901      0.604\n"
          ]
        },
        {
          "output_type": "stream",
          "name": "stderr",
          "text": [
            "\n"
          ]
        },
        {
          "output_type": "stream",
          "name": "stdout",
          "text": [
            "\n",
            "      Epoch    GPU_mem   box_loss   cls_loss   dfl_loss  Instances       Size\n"
          ]
        },
        {
          "output_type": "stream",
          "name": "stderr",
          "text": [
            "      9/100      1.46G      1.289      1.021      1.086          9        512: 100%|██████████| 504/504 [00:39<00:00, 12.62it/s]\n",
            "                 Class     Images  Instances      Box(P          R      mAP50  mAP50-95): 100%|██████████| 32/32 [00:03<00:00,  8.44it/s]\n"
          ]
        },
        {
          "output_type": "stream",
          "name": "stdout",
          "text": [
            "                   all       1006       1322      0.846      0.758        0.8      0.539\n",
            "\n",
            "      Epoch    GPU_mem   box_loss   cls_loss   dfl_loss  Instances       Size\n"
          ]
        },
        {
          "output_type": "stream",
          "name": "stderr",
          "text": [
            "     10/100      1.46G      1.267     0.9753      1.075         14        512: 100%|██████████| 504/504 [00:39<00:00, 12.69it/s]\n",
            "                 Class     Images  Instances      Box(P          R      mAP50  mAP50-95): 100%|██████████| 32/32 [00:03<00:00,  8.72it/s]\n"
          ]
        },
        {
          "output_type": "stream",
          "name": "stdout",
          "text": [
            "                   all       1006       1322      0.893      0.849      0.925      0.632\n",
            "\n",
            "      Epoch    GPU_mem   box_loss   cls_loss   dfl_loss  Instances       Size\n"
          ]
        },
        {
          "output_type": "stream",
          "name": "stderr",
          "text": [
            "     11/100      1.46G      1.237     0.9518      1.064         14        512: 100%|██████████| 504/504 [00:39<00:00, 12.61it/s]\n",
            "                 Class     Images  Instances      Box(P          R      mAP50  mAP50-95): 100%|██████████| 32/32 [00:03<00:00,  8.65it/s]\n"
          ]
        },
        {
          "output_type": "stream",
          "name": "stdout",
          "text": [
            "                   all       1006       1322      0.898      0.897      0.951      0.671\n",
            "\n",
            "      Epoch    GPU_mem   box_loss   cls_loss   dfl_loss  Instances       Size\n"
          ]
        },
        {
          "output_type": "stream",
          "name": "stderr",
          "text": [
            "     12/100      1.46G      1.231     0.9376      1.062          8        512: 100%|██████████| 504/504 [00:39<00:00, 12.81it/s]\n",
            "                 Class     Images  Instances      Box(P          R      mAP50  mAP50-95): 100%|██████████| 32/32 [00:03<00:00,  8.59it/s]\n"
          ]
        },
        {
          "output_type": "stream",
          "name": "stdout",
          "text": [
            "                   all       1006       1322      0.896      0.879      0.942      0.648\n",
            "\n",
            "      Epoch    GPU_mem   box_loss   cls_loss   dfl_loss  Instances       Size\n"
          ]
        },
        {
          "output_type": "stream",
          "name": "stderr",
          "text": [
            "     13/100      1.46G      1.207     0.8976       1.05          5        512: 100%|██████████| 504/504 [00:40<00:00, 12.42it/s]\n",
            "                 Class     Images  Instances      Box(P          R      mAP50  mAP50-95): 100%|██████████| 32/32 [00:03<00:00,  8.72it/s]"
          ]
        },
        {
          "output_type": "stream",
          "name": "stdout",
          "text": [
            "                   all       1006       1322      0.932      0.889      0.955      0.681\n"
          ]
        },
        {
          "output_type": "stream",
          "name": "stderr",
          "text": [
            "\n"
          ]
        },
        {
          "output_type": "stream",
          "name": "stdout",
          "text": [
            "\n",
            "      Epoch    GPU_mem   box_loss   cls_loss   dfl_loss  Instances       Size\n"
          ]
        },
        {
          "output_type": "stream",
          "name": "stderr",
          "text": [
            "     14/100      1.45G        1.2     0.8882      1.049          2        512: 100%|██████████| 504/504 [00:39<00:00, 12.77it/s]\n",
            "                 Class     Images  Instances      Box(P          R      mAP50  mAP50-95): 100%|██████████| 32/32 [00:03<00:00,  8.75it/s]"
          ]
        },
        {
          "output_type": "stream",
          "name": "stdout",
          "text": [
            "                   all       1006       1322      0.924      0.894      0.956      0.677\n"
          ]
        },
        {
          "output_type": "stream",
          "name": "stderr",
          "text": [
            "\n"
          ]
        },
        {
          "output_type": "stream",
          "name": "stdout",
          "text": [
            "\n",
            "      Epoch    GPU_mem   box_loss   cls_loss   dfl_loss  Instances       Size\n"
          ]
        },
        {
          "output_type": "stream",
          "name": "stderr",
          "text": [
            "     15/100      1.46G      1.183     0.8712      1.039          3        512: 100%|██████████| 504/504 [00:39<00:00, 12.69it/s]\n",
            "                 Class     Images  Instances      Box(P          R      mAP50  mAP50-95): 100%|██████████| 32/32 [00:03<00:00,  8.66it/s]\n"
          ]
        },
        {
          "output_type": "stream",
          "name": "stdout",
          "text": [
            "                   all       1006       1322      0.907      0.896      0.945      0.671\n",
            "\n",
            "      Epoch    GPU_mem   box_loss   cls_loss   dfl_loss  Instances       Size\n"
          ]
        },
        {
          "output_type": "stream",
          "name": "stderr",
          "text": [
            "     16/100      1.46G      1.166     0.8446      1.035          4        512: 100%|██████████| 504/504 [00:40<00:00, 12.57it/s]\n",
            "                 Class     Images  Instances      Box(P          R      mAP50  mAP50-95): 100%|██████████| 32/32 [00:03<00:00,  8.51it/s]\n"
          ]
        },
        {
          "output_type": "stream",
          "name": "stdout",
          "text": [
            "                   all       1006       1322      0.917      0.911      0.956      0.683\n",
            "\n",
            "      Epoch    GPU_mem   box_loss   cls_loss   dfl_loss  Instances       Size\n"
          ]
        },
        {
          "output_type": "stream",
          "name": "stderr",
          "text": [
            "     17/100      1.46G      1.165     0.8363      1.028         10        512: 100%|██████████| 504/504 [00:40<00:00, 12.50it/s]\n",
            "                 Class     Images  Instances      Box(P          R      mAP50  mAP50-95): 100%|██████████| 32/32 [00:03<00:00,  8.75it/s]"
          ]
        },
        {
          "output_type": "stream",
          "name": "stdout",
          "text": [
            "                   all       1006       1322      0.928      0.907      0.962      0.685\n"
          ]
        },
        {
          "output_type": "stream",
          "name": "stderr",
          "text": [
            "\n"
          ]
        },
        {
          "output_type": "stream",
          "name": "stdout",
          "text": [
            "\n",
            "      Epoch    GPU_mem   box_loss   cls_loss   dfl_loss  Instances       Size\n"
          ]
        },
        {
          "output_type": "stream",
          "name": "stderr",
          "text": [
            "     18/100      1.46G      1.136     0.8148       1.02          4        512: 100%|██████████| 504/504 [00:40<00:00, 12.55it/s]\n",
            "                 Class     Images  Instances      Box(P          R      mAP50  mAP50-95): 100%|██████████| 32/32 [00:03<00:00,  8.70it/s]\n"
          ]
        },
        {
          "output_type": "stream",
          "name": "stdout",
          "text": [
            "                   all       1006       1322      0.913      0.894      0.957      0.683\n",
            "\n",
            "      Epoch    GPU_mem   box_loss   cls_loss   dfl_loss  Instances       Size\n"
          ]
        },
        {
          "output_type": "stream",
          "name": "stderr",
          "text": [
            "     19/100      1.46G      1.133     0.8076      1.021          7        512: 100%|██████████| 504/504 [00:39<00:00, 12.61it/s]\n",
            "                 Class     Images  Instances      Box(P          R      mAP50  mAP50-95): 100%|██████████| 32/32 [00:03<00:00,  8.65it/s]\n"
          ]
        },
        {
          "output_type": "stream",
          "name": "stdout",
          "text": [
            "                   all       1006       1322       0.94      0.907      0.964      0.699\n",
            "\n",
            "      Epoch    GPU_mem   box_loss   cls_loss   dfl_loss  Instances       Size\n"
          ]
        },
        {
          "output_type": "stream",
          "name": "stderr",
          "text": [
            "     20/100      1.45G      1.124     0.7948      1.015          3        512: 100%|██████████| 504/504 [00:40<00:00, 12.59it/s]\n",
            "                 Class     Images  Instances      Box(P          R      mAP50  mAP50-95): 100%|██████████| 32/32 [00:03<00:00,  8.72it/s]"
          ]
        },
        {
          "output_type": "stream",
          "name": "stdout",
          "text": [
            "                   all       1006       1322      0.928      0.921      0.959      0.699\n"
          ]
        },
        {
          "output_type": "stream",
          "name": "stderr",
          "text": [
            "\n"
          ]
        },
        {
          "output_type": "stream",
          "name": "stdout",
          "text": [
            "\n",
            "      Epoch    GPU_mem   box_loss   cls_loss   dfl_loss  Instances       Size\n"
          ]
        },
        {
          "output_type": "stream",
          "name": "stderr",
          "text": [
            "     21/100      1.46G       1.12      0.788      1.012         11        512: 100%|██████████| 504/504 [00:40<00:00, 12.59it/s]\n",
            "                 Class     Images  Instances      Box(P          R      mAP50  mAP50-95): 100%|██████████| 32/32 [00:03<00:00,  8.62it/s]"
          ]
        },
        {
          "output_type": "stream",
          "name": "stdout",
          "text": [
            "                   all       1006       1322      0.945      0.911      0.969      0.701\n"
          ]
        },
        {
          "output_type": "stream",
          "name": "stderr",
          "text": [
            "\n"
          ]
        },
        {
          "output_type": "stream",
          "name": "stdout",
          "text": [
            "\n",
            "      Epoch    GPU_mem   box_loss   cls_loss   dfl_loss  Instances       Size\n"
          ]
        },
        {
          "output_type": "stream",
          "name": "stderr",
          "text": [
            "     22/100      1.46G      1.105     0.7783       1.01         10        512: 100%|██████████| 504/504 [00:39<00:00, 12.65it/s]\n",
            "                 Class     Images  Instances      Box(P          R      mAP50  mAP50-95): 100%|██████████| 32/32 [00:03<00:00,  8.71it/s]"
          ]
        },
        {
          "output_type": "stream",
          "name": "stdout",
          "text": [
            "                   all       1006       1322      0.936      0.919      0.963      0.696\n"
          ]
        },
        {
          "output_type": "stream",
          "name": "stderr",
          "text": [
            "\n"
          ]
        },
        {
          "output_type": "stream",
          "name": "stdout",
          "text": [
            "\n",
            "      Epoch    GPU_mem   box_loss   cls_loss   dfl_loss  Instances       Size\n"
          ]
        },
        {
          "output_type": "stream",
          "name": "stderr",
          "text": [
            "     23/100      1.45G      1.107     0.7766      1.004          5        512: 100%|██████████| 504/504 [00:39<00:00, 12.70it/s]\n",
            "                 Class     Images  Instances      Box(P          R      mAP50  mAP50-95): 100%|██████████| 32/32 [00:03<00:00,  8.82it/s]"
          ]
        },
        {
          "output_type": "stream",
          "name": "stdout",
          "text": [
            "                   all       1006       1322      0.945      0.907      0.964      0.702\n"
          ]
        },
        {
          "output_type": "stream",
          "name": "stderr",
          "text": [
            "\n"
          ]
        },
        {
          "output_type": "stream",
          "name": "stdout",
          "text": [
            "\n",
            "      Epoch    GPU_mem   box_loss   cls_loss   dfl_loss  Instances       Size\n"
          ]
        },
        {
          "output_type": "stream",
          "name": "stderr",
          "text": [
            "     24/100      1.46G      1.097     0.7582      1.004          8        512: 100%|██████████| 504/504 [00:39<00:00, 12.67it/s]\n",
            "                 Class     Images  Instances      Box(P          R      mAP50  mAP50-95): 100%|██████████| 32/32 [00:03<00:00,  8.79it/s]"
          ]
        },
        {
          "output_type": "stream",
          "name": "stdout",
          "text": [
            "                   all       1006       1322      0.933      0.923      0.972      0.714\n"
          ]
        },
        {
          "output_type": "stream",
          "name": "stderr",
          "text": [
            "\n"
          ]
        },
        {
          "output_type": "stream",
          "name": "stdout",
          "text": [
            "\n",
            "      Epoch    GPU_mem   box_loss   cls_loss   dfl_loss  Instances       Size\n"
          ]
        },
        {
          "output_type": "stream",
          "name": "stderr",
          "text": [
            "     25/100      1.46G      1.089     0.7562     0.9978          9        512: 100%|██████████| 504/504 [00:40<00:00, 12.55it/s]\n",
            "                 Class     Images  Instances      Box(P          R      mAP50  mAP50-95): 100%|██████████| 32/32 [00:03<00:00,  8.89it/s]"
          ]
        },
        {
          "output_type": "stream",
          "name": "stdout",
          "text": [
            "                   all       1006       1322      0.937      0.939      0.976      0.722\n"
          ]
        },
        {
          "output_type": "stream",
          "name": "stderr",
          "text": [
            "\n"
          ]
        },
        {
          "output_type": "stream",
          "name": "stdout",
          "text": [
            "\n",
            "      Epoch    GPU_mem   box_loss   cls_loss   dfl_loss  Instances       Size\n"
          ]
        },
        {
          "output_type": "stream",
          "name": "stderr",
          "text": [
            "     26/100      1.46G      1.081     0.7456     0.9965         11        512: 100%|██████████| 504/504 [00:40<00:00, 12.50it/s]\n",
            "                 Class     Images  Instances      Box(P          R      mAP50  mAP50-95): 100%|██████████| 32/32 [00:03<00:00,  8.62it/s]"
          ]
        },
        {
          "output_type": "stream",
          "name": "stdout",
          "text": [
            "                   all       1006       1322      0.944      0.924      0.971      0.726\n"
          ]
        },
        {
          "output_type": "stream",
          "name": "stderr",
          "text": [
            "\n"
          ]
        },
        {
          "output_type": "stream",
          "name": "stdout",
          "text": [
            "\n",
            "      Epoch    GPU_mem   box_loss   cls_loss   dfl_loss  Instances       Size\n"
          ]
        },
        {
          "output_type": "stream",
          "name": "stderr",
          "text": [
            "     27/100      1.46G      1.074     0.7292     0.9912          6        512: 100%|██████████| 504/504 [00:40<00:00, 12.53it/s]\n",
            "                 Class     Images  Instances      Box(P          R      mAP50  mAP50-95): 100%|██████████| 32/32 [00:03<00:00,  8.83it/s]"
          ]
        },
        {
          "output_type": "stream",
          "name": "stdout",
          "text": [
            "                   all       1006       1322      0.935      0.943      0.973      0.717\n"
          ]
        },
        {
          "output_type": "stream",
          "name": "stderr",
          "text": [
            "\n"
          ]
        },
        {
          "output_type": "stream",
          "name": "stdout",
          "text": [
            "\n",
            "      Epoch    GPU_mem   box_loss   cls_loss   dfl_loss  Instances       Size\n"
          ]
        },
        {
          "output_type": "stream",
          "name": "stderr",
          "text": [
            "     28/100      1.47G      1.073     0.7299     0.9908          7        512: 100%|██████████| 504/504 [00:39<00:00, 12.64it/s]\n",
            "                 Class     Images  Instances      Box(P          R      mAP50  mAP50-95): 100%|██████████| 32/32 [00:03<00:00,  8.83it/s]"
          ]
        },
        {
          "output_type": "stream",
          "name": "stdout",
          "text": [
            "                   all       1006       1322      0.939      0.947      0.979      0.734\n"
          ]
        },
        {
          "output_type": "stream",
          "name": "stderr",
          "text": [
            "\n"
          ]
        },
        {
          "output_type": "stream",
          "name": "stdout",
          "text": [
            "\n",
            "      Epoch    GPU_mem   box_loss   cls_loss   dfl_loss  Instances       Size\n"
          ]
        },
        {
          "output_type": "stream",
          "name": "stderr",
          "text": [
            "     29/100      1.45G      1.062     0.7237     0.9883          5        512: 100%|██████████| 504/504 [00:39<00:00, 12.70it/s]\n",
            "                 Class     Images  Instances      Box(P          R      mAP50  mAP50-95): 100%|██████████| 32/32 [00:03<00:00,  8.60it/s]\n"
          ]
        },
        {
          "output_type": "stream",
          "name": "stdout",
          "text": [
            "                   all       1006       1322      0.953      0.936       0.98      0.726\n",
            "\n",
            "      Epoch    GPU_mem   box_loss   cls_loss   dfl_loss  Instances       Size\n"
          ]
        },
        {
          "output_type": "stream",
          "name": "stderr",
          "text": [
            "     30/100      1.46G      1.063     0.7253     0.9862          8        512: 100%|██████████| 504/504 [00:39<00:00, 12.61it/s]\n",
            "                 Class     Images  Instances      Box(P          R      mAP50  mAP50-95): 100%|██████████| 32/32 [00:03<00:00,  8.62it/s]\n"
          ]
        },
        {
          "output_type": "stream",
          "name": "stdout",
          "text": [
            "                   all       1006       1322       0.95      0.944      0.975       0.73\n",
            "\n",
            "      Epoch    GPU_mem   box_loss   cls_loss   dfl_loss  Instances       Size\n"
          ]
        },
        {
          "output_type": "stream",
          "name": "stderr",
          "text": [
            "     31/100      1.47G      1.055     0.7096     0.9815          6        512: 100%|██████████| 504/504 [00:39<00:00, 12.75it/s]\n",
            "                 Class     Images  Instances      Box(P          R      mAP50  mAP50-95): 100%|██████████| 32/32 [00:03<00:00,  8.72it/s]"
          ]
        },
        {
          "output_type": "stream",
          "name": "stdout",
          "text": [
            "                   all       1006       1322      0.941      0.946      0.979      0.737\n"
          ]
        },
        {
          "output_type": "stream",
          "name": "stderr",
          "text": [
            "\n"
          ]
        },
        {
          "output_type": "stream",
          "name": "stdout",
          "text": [
            "\n",
            "      Epoch    GPU_mem   box_loss   cls_loss   dfl_loss  Instances       Size\n"
          ]
        },
        {
          "output_type": "stream",
          "name": "stderr",
          "text": [
            "     32/100      1.46G      1.054     0.7071     0.9832          9        512: 100%|██████████| 504/504 [00:40<00:00, 12.53it/s]\n",
            "                 Class     Images  Instances      Box(P          R      mAP50  mAP50-95): 100%|██████████| 32/32 [00:03<00:00,  8.62it/s]"
          ]
        },
        {
          "output_type": "stream",
          "name": "stdout",
          "text": [
            "                   all       1006       1322      0.952      0.936       0.98      0.743\n"
          ]
        },
        {
          "output_type": "stream",
          "name": "stderr",
          "text": [
            "\n"
          ]
        },
        {
          "output_type": "stream",
          "name": "stdout",
          "text": [
            "\n",
            "      Epoch    GPU_mem   box_loss   cls_loss   dfl_loss  Instances       Size\n"
          ]
        },
        {
          "output_type": "stream",
          "name": "stderr",
          "text": [
            "     33/100      1.45G      1.039     0.6945     0.9751          6        512: 100%|██████████| 504/504 [00:39<00:00, 12.62it/s]\n",
            "                 Class     Images  Instances      Box(P          R      mAP50  mAP50-95): 100%|██████████| 32/32 [00:03<00:00,  8.78it/s]"
          ]
        },
        {
          "output_type": "stream",
          "name": "stdout",
          "text": [
            "                   all       1006       1322      0.936      0.955      0.982      0.744\n"
          ]
        },
        {
          "output_type": "stream",
          "name": "stderr",
          "text": [
            "\n"
          ]
        },
        {
          "output_type": "stream",
          "name": "stdout",
          "text": [
            "\n",
            "      Epoch    GPU_mem   box_loss   cls_loss   dfl_loss  Instances       Size\n"
          ]
        },
        {
          "output_type": "stream",
          "name": "stderr",
          "text": [
            "     34/100      1.46G       1.04     0.6976     0.9763          4        512: 100%|██████████| 504/504 [00:39<00:00, 12.70it/s]\n",
            "                 Class     Images  Instances      Box(P          R      mAP50  mAP50-95): 100%|██████████| 32/32 [00:03<00:00,  8.79it/s]"
          ]
        },
        {
          "output_type": "stream",
          "name": "stdout",
          "text": [
            "                   all       1006       1322      0.941      0.943      0.982      0.747\n"
          ]
        },
        {
          "output_type": "stream",
          "name": "stderr",
          "text": [
            "\n"
          ]
        },
        {
          "output_type": "stream",
          "name": "stdout",
          "text": [
            "\n",
            "      Epoch    GPU_mem   box_loss   cls_loss   dfl_loss  Instances       Size\n"
          ]
        },
        {
          "output_type": "stream",
          "name": "stderr",
          "text": [
            "     35/100      1.45G      1.035     0.6934     0.9712          4        512: 100%|██████████| 504/504 [00:39<00:00, 12.65it/s]\n",
            "                 Class     Images  Instances      Box(P          R      mAP50  mAP50-95): 100%|██████████| 32/32 [00:03<00:00,  8.66it/s]\n"
          ]
        },
        {
          "output_type": "stream",
          "name": "stdout",
          "text": [
            "                   all       1006       1322       0.95      0.945      0.979      0.745\n",
            "\n",
            "      Epoch    GPU_mem   box_loss   cls_loss   dfl_loss  Instances       Size\n"
          ]
        },
        {
          "output_type": "stream",
          "name": "stderr",
          "text": [
            "     36/100      1.46G      1.035     0.6899     0.9743         10        512: 100%|██████████| 504/504 [00:40<00:00, 12.46it/s]\n",
            "                 Class     Images  Instances      Box(P          R      mAP50  mAP50-95): 100%|██████████| 32/32 [00:03<00:00,  8.79it/s]"
          ]
        },
        {
          "output_type": "stream",
          "name": "stdout",
          "text": [
            "                   all       1006       1322      0.944      0.943       0.98      0.745\n"
          ]
        },
        {
          "output_type": "stream",
          "name": "stderr",
          "text": [
            "\n"
          ]
        },
        {
          "output_type": "stream",
          "name": "stdout",
          "text": [
            "\n",
            "      Epoch    GPU_mem   box_loss   cls_loss   dfl_loss  Instances       Size\n"
          ]
        },
        {
          "output_type": "stream",
          "name": "stderr",
          "text": [
            "     37/100      1.46G      1.024     0.6728     0.9671          7        512: 100%|██████████| 504/504 [00:40<00:00, 12.57it/s]\n",
            "                 Class     Images  Instances      Box(P          R      mAP50  mAP50-95): 100%|██████████| 32/32 [00:03<00:00,  8.81it/s]"
          ]
        },
        {
          "output_type": "stream",
          "name": "stdout",
          "text": [
            "                   all       1006       1322      0.951      0.953      0.983       0.75\n"
          ]
        },
        {
          "output_type": "stream",
          "name": "stderr",
          "text": [
            "\n"
          ]
        },
        {
          "output_type": "stream",
          "name": "stdout",
          "text": [
            "\n",
            "      Epoch    GPU_mem   box_loss   cls_loss   dfl_loss  Instances       Size\n"
          ]
        },
        {
          "output_type": "stream",
          "name": "stderr",
          "text": [
            "     38/100      1.46G      1.022     0.6678     0.9671         13        512: 100%|██████████| 504/504 [00:40<00:00, 12.55it/s]\n",
            "                 Class     Images  Instances      Box(P          R      mAP50  mAP50-95): 100%|██████████| 32/32 [00:03<00:00,  8.70it/s]"
          ]
        },
        {
          "output_type": "stream",
          "name": "stdout",
          "text": [
            "                   all       1006       1322      0.947      0.955      0.983      0.755\n"
          ]
        },
        {
          "output_type": "stream",
          "name": "stderr",
          "text": [
            "\n"
          ]
        },
        {
          "output_type": "stream",
          "name": "stdout",
          "text": [
            "\n",
            "      Epoch    GPU_mem   box_loss   cls_loss   dfl_loss  Instances       Size\n"
          ]
        },
        {
          "output_type": "stream",
          "name": "stderr",
          "text": [
            "     39/100      1.48G      1.004     0.6572     0.9641          2        512: 100%|██████████| 504/504 [00:39<00:00, 12.62it/s]\n",
            "                 Class     Images  Instances      Box(P          R      mAP50  mAP50-95): 100%|██████████| 32/32 [00:03<00:00,  8.79it/s]\n"
          ]
        },
        {
          "output_type": "stream",
          "name": "stdout",
          "text": [
            "                   all       1006       1322      0.956      0.943      0.982      0.757\n",
            "\n",
            "      Epoch    GPU_mem   box_loss   cls_loss   dfl_loss  Instances       Size\n"
          ]
        },
        {
          "output_type": "stream",
          "name": "stderr",
          "text": [
            "     40/100      1.45G       1.01     0.6586      0.964          7        512: 100%|██████████| 504/504 [00:39<00:00, 12.72it/s]\n",
            "                 Class     Images  Instances      Box(P          R      mAP50  mAP50-95): 100%|██████████| 32/32 [00:03<00:00,  8.71it/s]\n"
          ]
        },
        {
          "output_type": "stream",
          "name": "stdout",
          "text": [
            "                   all       1006       1322       0.95      0.962      0.985      0.756\n",
            "\n",
            "      Epoch    GPU_mem   box_loss   cls_loss   dfl_loss  Instances       Size\n"
          ]
        },
        {
          "output_type": "stream",
          "name": "stderr",
          "text": [
            "     41/100      1.46G      1.003     0.6553     0.9634          9        512: 100%|██████████| 504/504 [00:39<00:00, 12.76it/s]\n",
            "                 Class     Images  Instances      Box(P          R      mAP50  mAP50-95): 100%|██████████| 32/32 [00:03<00:00,  8.93it/s]"
          ]
        },
        {
          "output_type": "stream",
          "name": "stdout",
          "text": [
            "                   all       1006       1322      0.958      0.952      0.985      0.767\n"
          ]
        },
        {
          "output_type": "stream",
          "name": "stderr",
          "text": [
            "\n"
          ]
        },
        {
          "output_type": "stream",
          "name": "stdout",
          "text": [
            "\n",
            "      Epoch    GPU_mem   box_loss   cls_loss   dfl_loss  Instances       Size\n"
          ]
        },
        {
          "output_type": "stream",
          "name": "stderr",
          "text": [
            "     42/100      1.46G     0.9972     0.6573      0.957          6        512: 100%|██████████| 504/504 [00:39<00:00, 12.90it/s]\n",
            "                 Class     Images  Instances      Box(P          R      mAP50  mAP50-95): 100%|██████████| 32/32 [00:03<00:00,  8.86it/s]\n"
          ]
        },
        {
          "output_type": "stream",
          "name": "stdout",
          "text": [
            "                   all       1006       1322      0.967      0.949      0.985      0.763\n",
            "\n",
            "      Epoch    GPU_mem   box_loss   cls_loss   dfl_loss  Instances       Size\n"
          ]
        },
        {
          "output_type": "stream",
          "name": "stderr",
          "text": [
            "     43/100      1.47G     0.9863     0.6438     0.9561          3        512: 100%|██████████| 504/504 [00:39<00:00, 12.92it/s]\n",
            "                 Class     Images  Instances      Box(P          R      mAP50  mAP50-95): 100%|██████████| 32/32 [00:03<00:00,  9.01it/s]"
          ]
        },
        {
          "output_type": "stream",
          "name": "stdout",
          "text": [
            "                   all       1006       1322      0.951       0.95      0.984      0.764\n"
          ]
        },
        {
          "output_type": "stream",
          "name": "stderr",
          "text": [
            "\n"
          ]
        },
        {
          "output_type": "stream",
          "name": "stdout",
          "text": [
            "\n",
            "      Epoch    GPU_mem   box_loss   cls_loss   dfl_loss  Instances       Size\n"
          ]
        },
        {
          "output_type": "stream",
          "name": "stderr",
          "text": [
            "     44/100      1.48G     0.9948     0.6517      0.962          7        512: 100%|██████████| 504/504 [00:39<00:00, 12.84it/s]\n",
            "                 Class     Images  Instances      Box(P          R      mAP50  mAP50-95): 100%|██████████| 32/32 [00:03<00:00,  8.82it/s]"
          ]
        },
        {
          "output_type": "stream",
          "name": "stdout",
          "text": [
            "                   all       1006       1322      0.961      0.951      0.986      0.769\n"
          ]
        },
        {
          "output_type": "stream",
          "name": "stderr",
          "text": [
            "\n"
          ]
        },
        {
          "output_type": "stream",
          "name": "stdout",
          "text": [
            "\n",
            "      Epoch    GPU_mem   box_loss   cls_loss   dfl_loss  Instances       Size\n"
          ]
        },
        {
          "output_type": "stream",
          "name": "stderr",
          "text": [
            "     45/100      1.46G     0.9946     0.6448     0.9548         11        512: 100%|██████████| 504/504 [00:39<00:00, 12.86it/s]\n",
            "                 Class     Images  Instances      Box(P          R      mAP50  mAP50-95): 100%|██████████| 32/32 [00:03<00:00,  8.84it/s]"
          ]
        },
        {
          "output_type": "stream",
          "name": "stdout",
          "text": [
            "                   all       1006       1322      0.958      0.959      0.985      0.773\n"
          ]
        },
        {
          "output_type": "stream",
          "name": "stderr",
          "text": [
            "\n"
          ]
        },
        {
          "output_type": "stream",
          "name": "stdout",
          "text": [
            "\n",
            "      Epoch    GPU_mem   box_loss   cls_loss   dfl_loss  Instances       Size\n"
          ]
        },
        {
          "output_type": "stream",
          "name": "stderr",
          "text": [
            "     46/100      1.46G     0.9829      0.634     0.9566          4        512: 100%|██████████| 504/504 [00:38<00:00, 12.95it/s]\n",
            "                 Class     Images  Instances      Box(P          R      mAP50  mAP50-95): 100%|██████████| 32/32 [00:03<00:00,  8.96it/s]"
          ]
        },
        {
          "output_type": "stream",
          "name": "stdout",
          "text": [
            "                   all       1006       1322      0.952      0.955      0.985      0.773\n"
          ]
        },
        {
          "output_type": "stream",
          "name": "stderr",
          "text": [
            "\n"
          ]
        },
        {
          "output_type": "stream",
          "name": "stdout",
          "text": [
            "\n",
            "      Epoch    GPU_mem   box_loss   cls_loss   dfl_loss  Instances       Size\n"
          ]
        },
        {
          "output_type": "stream",
          "name": "stderr",
          "text": [
            "     47/100      1.46G     0.9753     0.6258     0.9549          3        512: 100%|██████████| 504/504 [00:39<00:00, 12.86it/s]\n",
            "                 Class     Images  Instances      Box(P          R      mAP50  mAP50-95): 100%|██████████| 32/32 [00:03<00:00,  8.73it/s]\n"
          ]
        },
        {
          "output_type": "stream",
          "name": "stdout",
          "text": [
            "                   all       1006       1322      0.958      0.963      0.984      0.765\n",
            "\n",
            "      Epoch    GPU_mem   box_loss   cls_loss   dfl_loss  Instances       Size\n"
          ]
        },
        {
          "output_type": "stream",
          "name": "stderr",
          "text": [
            "     48/100      1.46G     0.9712     0.6225     0.9511         11        512: 100%|██████████| 504/504 [00:39<00:00, 12.75it/s]\n",
            "                 Class     Images  Instances      Box(P          R      mAP50  mAP50-95): 100%|██████████| 32/32 [00:03<00:00,  8.80it/s]"
          ]
        },
        {
          "output_type": "stream",
          "name": "stdout",
          "text": [
            "                   all       1006       1322      0.949      0.963      0.983      0.768\n"
          ]
        },
        {
          "output_type": "stream",
          "name": "stderr",
          "text": [
            "\n"
          ]
        },
        {
          "output_type": "stream",
          "name": "stdout",
          "text": [
            "\n",
            "      Epoch    GPU_mem   box_loss   cls_loss   dfl_loss  Instances       Size\n"
          ]
        },
        {
          "output_type": "stream",
          "name": "stderr",
          "text": [
            "     49/100      1.46G     0.9557     0.6154      0.946          6        512: 100%|██████████| 504/504 [00:39<00:00, 12.83it/s]\n",
            "                 Class     Images  Instances      Box(P          R      mAP50  mAP50-95): 100%|██████████| 32/32 [00:03<00:00,  8.72it/s]"
          ]
        },
        {
          "output_type": "stream",
          "name": "stdout",
          "text": [
            "                   all       1006       1322      0.957      0.962      0.986      0.775\n"
          ]
        },
        {
          "output_type": "stream",
          "name": "stderr",
          "text": [
            "\n"
          ]
        },
        {
          "output_type": "stream",
          "name": "stdout",
          "text": [
            "\n",
            "      Epoch    GPU_mem   box_loss   cls_loss   dfl_loss  Instances       Size\n"
          ]
        },
        {
          "output_type": "stream",
          "name": "stderr",
          "text": [
            "     50/100      1.46G     0.9722     0.6237     0.9488         10        512: 100%|██████████| 504/504 [00:39<00:00, 12.77it/s]\n",
            "                 Class     Images  Instances      Box(P          R      mAP50  mAP50-95): 100%|██████████| 32/32 [00:03<00:00,  9.16it/s]"
          ]
        },
        {
          "output_type": "stream",
          "name": "stdout",
          "text": [
            "                   all       1006       1322      0.967      0.964      0.987       0.78\n"
          ]
        },
        {
          "output_type": "stream",
          "name": "stderr",
          "text": [
            "\n"
          ]
        },
        {
          "output_type": "stream",
          "name": "stdout",
          "text": [
            "\n",
            "      Epoch    GPU_mem   box_loss   cls_loss   dfl_loss  Instances       Size\n"
          ]
        },
        {
          "output_type": "stream",
          "name": "stderr",
          "text": [
            "     51/100      1.46G     0.9609     0.6066     0.9439          6        512: 100%|██████████| 504/504 [00:39<00:00, 12.79it/s]\n",
            "                 Class     Images  Instances      Box(P          R      mAP50  mAP50-95): 100%|██████████| 32/32 [00:03<00:00,  8.64it/s]"
          ]
        },
        {
          "output_type": "stream",
          "name": "stdout",
          "text": [
            "                   all       1006       1322      0.957      0.964      0.987      0.789\n"
          ]
        },
        {
          "output_type": "stream",
          "name": "stderr",
          "text": [
            "\n"
          ]
        },
        {
          "output_type": "stream",
          "name": "stdout",
          "text": [
            "\n",
            "      Epoch    GPU_mem   box_loss   cls_loss   dfl_loss  Instances       Size\n"
          ]
        },
        {
          "output_type": "stream",
          "name": "stderr",
          "text": [
            "     52/100      1.46G     0.9607     0.6135     0.9457          7        512: 100%|██████████| 504/504 [00:39<00:00, 12.87it/s]\n",
            "                 Class     Images  Instances      Box(P          R      mAP50  mAP50-95): 100%|██████████| 32/32 [00:03<00:00,  8.73it/s]\n"
          ]
        },
        {
          "output_type": "stream",
          "name": "stdout",
          "text": [
            "                   all       1006       1322      0.959      0.968      0.987       0.79\n",
            "\n",
            "      Epoch    GPU_mem   box_loss   cls_loss   dfl_loss  Instances       Size\n"
          ]
        },
        {
          "output_type": "stream",
          "name": "stderr",
          "text": [
            "     53/100      1.47G     0.9484     0.6024     0.9379          5        512: 100%|██████████| 504/504 [00:38<00:00, 12.98it/s]\n",
            "                 Class     Images  Instances      Box(P          R      mAP50  mAP50-95): 100%|██████████| 32/32 [00:03<00:00,  8.93it/s]"
          ]
        },
        {
          "output_type": "stream",
          "name": "stdout",
          "text": [
            "                   all       1006       1322      0.965      0.958      0.986      0.784\n"
          ]
        },
        {
          "output_type": "stream",
          "name": "stderr",
          "text": [
            "\n"
          ]
        },
        {
          "output_type": "stream",
          "name": "stdout",
          "text": [
            "\n",
            "      Epoch    GPU_mem   box_loss   cls_loss   dfl_loss  Instances       Size\n"
          ]
        },
        {
          "output_type": "stream",
          "name": "stderr",
          "text": [
            "     54/100      1.46G     0.9453        0.6     0.9408          7        512: 100%|██████████| 504/504 [00:39<00:00, 12.92it/s]\n",
            "                 Class     Images  Instances      Box(P          R      mAP50  mAP50-95): 100%|██████████| 32/32 [00:03<00:00,  8.91it/s]"
          ]
        },
        {
          "output_type": "stream",
          "name": "stdout",
          "text": [
            "                   all       1006       1322      0.956      0.963      0.985      0.776\n"
          ]
        },
        {
          "output_type": "stream",
          "name": "stderr",
          "text": [
            "\n"
          ]
        },
        {
          "output_type": "stream",
          "name": "stdout",
          "text": [
            "\n",
            "      Epoch    GPU_mem   box_loss   cls_loss   dfl_loss  Instances       Size\n"
          ]
        },
        {
          "output_type": "stream",
          "name": "stderr",
          "text": [
            "     55/100      1.46G     0.9464     0.5968     0.9416          5        512: 100%|██████████| 504/504 [00:39<00:00, 12.73it/s]\n",
            "                 Class     Images  Instances      Box(P          R      mAP50  mAP50-95): 100%|██████████| 32/32 [00:03<00:00,  8.99it/s]"
          ]
        },
        {
          "output_type": "stream",
          "name": "stdout",
          "text": [
            "                   all       1006       1322       0.97      0.961      0.987      0.787\n"
          ]
        },
        {
          "output_type": "stream",
          "name": "stderr",
          "text": [
            "\n"
          ]
        },
        {
          "output_type": "stream",
          "name": "stdout",
          "text": [
            "\n",
            "      Epoch    GPU_mem   box_loss   cls_loss   dfl_loss  Instances       Size\n"
          ]
        },
        {
          "output_type": "stream",
          "name": "stderr",
          "text": [
            "     56/100      1.46G     0.9386      0.589     0.9389          7        512: 100%|██████████| 504/504 [00:38<00:00, 12.93it/s]\n",
            "                 Class     Images  Instances      Box(P          R      mAP50  mAP50-95): 100%|██████████| 32/32 [00:03<00:00,  8.89it/s]\n"
          ]
        },
        {
          "output_type": "stream",
          "name": "stdout",
          "text": [
            "                   all       1006       1322      0.965      0.967      0.987      0.786\n",
            "\n",
            "      Epoch    GPU_mem   box_loss   cls_loss   dfl_loss  Instances       Size\n"
          ]
        },
        {
          "output_type": "stream",
          "name": "stderr",
          "text": [
            "     57/100      1.45G     0.9296     0.5829     0.9366          5        512: 100%|██████████| 504/504 [00:39<00:00, 12.87it/s]\n",
            "                 Class     Images  Instances      Box(P          R      mAP50  mAP50-95): 100%|██████████| 32/32 [00:03<00:00,  8.98it/s]"
          ]
        },
        {
          "output_type": "stream",
          "name": "stdout",
          "text": [
            "                   all       1006       1322      0.969      0.965      0.988      0.785\n"
          ]
        },
        {
          "output_type": "stream",
          "name": "stderr",
          "text": [
            "\n"
          ]
        },
        {
          "output_type": "stream",
          "name": "stdout",
          "text": [
            "\n",
            "      Epoch    GPU_mem   box_loss   cls_loss   dfl_loss  Instances       Size\n"
          ]
        },
        {
          "output_type": "stream",
          "name": "stderr",
          "text": [
            "     58/100      1.45G       0.93     0.5854      0.938          6        512: 100%|██████████| 504/504 [00:39<00:00, 12.86it/s]\n",
            "                 Class     Images  Instances      Box(P          R      mAP50  mAP50-95): 100%|██████████| 32/32 [00:03<00:00,  8.73it/s]"
          ]
        },
        {
          "output_type": "stream",
          "name": "stdout",
          "text": [
            "                   all       1006       1322      0.963      0.974      0.989      0.788\n"
          ]
        },
        {
          "output_type": "stream",
          "name": "stderr",
          "text": [
            "\n"
          ]
        },
        {
          "output_type": "stream",
          "name": "stdout",
          "text": [
            "\n",
            "      Epoch    GPU_mem   box_loss   cls_loss   dfl_loss  Instances       Size\n"
          ]
        },
        {
          "output_type": "stream",
          "name": "stderr",
          "text": [
            "     59/100      1.46G     0.9276     0.5806     0.9348          8        512: 100%|██████████| 504/504 [00:39<00:00, 12.81it/s]\n",
            "                 Class     Images  Instances      Box(P          R      mAP50  mAP50-95): 100%|██████████| 32/32 [00:03<00:00,  8.83it/s]"
          ]
        },
        {
          "output_type": "stream",
          "name": "stdout",
          "text": [
            "                   all       1006       1322      0.963      0.966      0.989      0.793\n"
          ]
        },
        {
          "output_type": "stream",
          "name": "stderr",
          "text": [
            "\n"
          ]
        },
        {
          "output_type": "stream",
          "name": "stdout",
          "text": [
            "\n",
            "      Epoch    GPU_mem   box_loss   cls_loss   dfl_loss  Instances       Size\n"
          ]
        },
        {
          "output_type": "stream",
          "name": "stderr",
          "text": [
            "     60/100      1.46G      0.926     0.5795     0.9338          9        512: 100%|██████████| 504/504 [00:39<00:00, 12.88it/s]\n",
            "                 Class     Images  Instances      Box(P          R      mAP50  mAP50-95): 100%|██████████| 32/32 [00:03<00:00,  8.78it/s]\n"
          ]
        },
        {
          "output_type": "stream",
          "name": "stdout",
          "text": [
            "                   all       1006       1322      0.959      0.967      0.988      0.792\n",
            "\n",
            "      Epoch    GPU_mem   box_loss   cls_loss   dfl_loss  Instances       Size\n"
          ]
        },
        {
          "output_type": "stream",
          "name": "stderr",
          "text": [
            "     61/100      1.45G     0.9173     0.5714     0.9296          4        512: 100%|██████████| 504/504 [00:39<00:00, 12.89it/s]\n",
            "                 Class     Images  Instances      Box(P          R      mAP50  mAP50-95): 100%|██████████| 32/32 [00:03<00:00,  8.77it/s]"
          ]
        },
        {
          "output_type": "stream",
          "name": "stdout",
          "text": [
            "                   all       1006       1322      0.968      0.959      0.987       0.79\n"
          ]
        },
        {
          "output_type": "stream",
          "name": "stderr",
          "text": [
            "\n"
          ]
        },
        {
          "output_type": "stream",
          "name": "stdout",
          "text": [
            "\n",
            "      Epoch    GPU_mem   box_loss   cls_loss   dfl_loss  Instances       Size\n"
          ]
        },
        {
          "output_type": "stream",
          "name": "stderr",
          "text": [
            "     62/100      1.46G     0.9101     0.5622     0.9298         13        512: 100%|██████████| 504/504 [00:39<00:00, 12.92it/s]\n",
            "                 Class     Images  Instances      Box(P          R      mAP50  mAP50-95): 100%|██████████| 32/32 [00:03<00:00,  8.82it/s]\n"
          ]
        },
        {
          "output_type": "stream",
          "name": "stdout",
          "text": [
            "                   all       1006       1322      0.971      0.964      0.988      0.791\n",
            "\n",
            "      Epoch    GPU_mem   box_loss   cls_loss   dfl_loss  Instances       Size\n"
          ]
        },
        {
          "output_type": "stream",
          "name": "stderr",
          "text": [
            "     63/100      1.45G     0.9072     0.5668     0.9251          3        512: 100%|██████████| 504/504 [00:39<00:00, 12.81it/s]\n",
            "                 Class     Images  Instances      Box(P          R      mAP50  mAP50-95): 100%|██████████| 32/32 [00:03<00:00,  8.92it/s]"
          ]
        },
        {
          "output_type": "stream",
          "name": "stdout",
          "text": [
            "                   all       1006       1322      0.966      0.969      0.988      0.792\n"
          ]
        },
        {
          "output_type": "stream",
          "name": "stderr",
          "text": [
            "\n"
          ]
        },
        {
          "output_type": "stream",
          "name": "stdout",
          "text": [
            "\n",
            "      Epoch    GPU_mem   box_loss   cls_loss   dfl_loss  Instances       Size\n"
          ]
        },
        {
          "output_type": "stream",
          "name": "stderr",
          "text": [
            "     64/100      1.46G     0.9153     0.5676     0.9297          9        512: 100%|██████████| 504/504 [00:38<00:00, 12.99it/s]\n",
            "                 Class     Images  Instances      Box(P          R      mAP50  mAP50-95): 100%|██████████| 32/32 [00:03<00:00,  8.80it/s]"
          ]
        },
        {
          "output_type": "stream",
          "name": "stdout",
          "text": [
            "                   all       1006       1322      0.972      0.966      0.988      0.794\n"
          ]
        },
        {
          "output_type": "stream",
          "name": "stderr",
          "text": [
            "\n"
          ]
        },
        {
          "output_type": "stream",
          "name": "stdout",
          "text": [
            "\n",
            "      Epoch    GPU_mem   box_loss   cls_loss   dfl_loss  Instances       Size\n"
          ]
        },
        {
          "output_type": "stream",
          "name": "stderr",
          "text": [
            "     65/100      1.46G     0.8967     0.5587      0.923          8        512: 100%|██████████| 504/504 [00:39<00:00, 12.90it/s]\n",
            "                 Class     Images  Instances      Box(P          R      mAP50  mAP50-95): 100%|██████████| 32/32 [00:03<00:00,  8.90it/s]"
          ]
        },
        {
          "output_type": "stream",
          "name": "stdout",
          "text": [
            "                   all       1006       1322      0.975      0.964      0.989      0.795\n"
          ]
        },
        {
          "output_type": "stream",
          "name": "stderr",
          "text": [
            "\n"
          ]
        },
        {
          "output_type": "stream",
          "name": "stdout",
          "text": [
            "\n",
            "      Epoch    GPU_mem   box_loss   cls_loss   dfl_loss  Instances       Size\n"
          ]
        },
        {
          "output_type": "stream",
          "name": "stderr",
          "text": [
            "     66/100      1.46G     0.8899     0.5512     0.9254          7        512: 100%|██████████| 504/504 [00:39<00:00, 12.80it/s]\n",
            "                 Class     Images  Instances      Box(P          R      mAP50  mAP50-95): 100%|██████████| 32/32 [00:03<00:00,  8.68it/s]"
          ]
        },
        {
          "output_type": "stream",
          "name": "stdout",
          "text": [
            "                   all       1006       1322       0.97      0.969      0.988        0.8\n"
          ]
        },
        {
          "output_type": "stream",
          "name": "stderr",
          "text": [
            "\n"
          ]
        },
        {
          "output_type": "stream",
          "name": "stdout",
          "text": [
            "\n",
            "      Epoch    GPU_mem   box_loss   cls_loss   dfl_loss  Instances       Size\n"
          ]
        },
        {
          "output_type": "stream",
          "name": "stderr",
          "text": [
            "     67/100      1.46G     0.8927     0.5498     0.9218         12        512: 100%|██████████| 504/504 [00:39<00:00, 12.91it/s]\n",
            "                 Class     Images  Instances      Box(P          R      mAP50  mAP50-95): 100%|██████████| 32/32 [00:03<00:00,  8.89it/s]"
          ]
        },
        {
          "output_type": "stream",
          "name": "stdout",
          "text": [
            "                   all       1006       1322      0.977      0.964      0.989      0.801\n"
          ]
        },
        {
          "output_type": "stream",
          "name": "stderr",
          "text": [
            "\n"
          ]
        },
        {
          "output_type": "stream",
          "name": "stdout",
          "text": [
            "\n",
            "      Epoch    GPU_mem   box_loss   cls_loss   dfl_loss  Instances       Size\n"
          ]
        },
        {
          "output_type": "stream",
          "name": "stderr",
          "text": [
            "     68/100      1.45G      0.897     0.5587     0.9238          5        512: 100%|██████████| 504/504 [00:39<00:00, 12.87it/s]\n",
            "                 Class     Images  Instances      Box(P          R      mAP50  mAP50-95): 100%|██████████| 32/32 [00:03<00:00,  8.74it/s]"
          ]
        },
        {
          "output_type": "stream",
          "name": "stdout",
          "text": [
            "                   all       1006       1322      0.964      0.971      0.987      0.797\n"
          ]
        },
        {
          "output_type": "stream",
          "name": "stderr",
          "text": [
            "\n"
          ]
        },
        {
          "output_type": "stream",
          "name": "stdout",
          "text": [
            "\n",
            "      Epoch    GPU_mem   box_loss   cls_loss   dfl_loss  Instances       Size\n"
          ]
        },
        {
          "output_type": "stream",
          "name": "stderr",
          "text": [
            "     69/100      1.46G     0.8858     0.5496     0.9255         17        512: 100%|██████████| 504/504 [00:39<00:00, 12.81it/s]\n",
            "                 Class     Images  Instances      Box(P          R      mAP50  mAP50-95): 100%|██████████| 32/32 [00:03<00:00,  8.88it/s]"
          ]
        },
        {
          "output_type": "stream",
          "name": "stdout",
          "text": [
            "                   all       1006       1322      0.974      0.967      0.989      0.796\n"
          ]
        },
        {
          "output_type": "stream",
          "name": "stderr",
          "text": [
            "\n"
          ]
        },
        {
          "output_type": "stream",
          "name": "stdout",
          "text": [
            "\n",
            "      Epoch    GPU_mem   box_loss   cls_loss   dfl_loss  Instances       Size\n"
          ]
        },
        {
          "output_type": "stream",
          "name": "stderr",
          "text": [
            "     70/100      1.46G     0.8782     0.5401     0.9209          8        512: 100%|██████████| 504/504 [00:39<00:00, 12.77it/s]\n",
            "                 Class     Images  Instances      Box(P          R      mAP50  mAP50-95): 100%|██████████| 32/32 [00:03<00:00,  8.71it/s]"
          ]
        },
        {
          "output_type": "stream",
          "name": "stdout",
          "text": [
            "                   all       1006       1322      0.977      0.965      0.989      0.799\n"
          ]
        },
        {
          "output_type": "stream",
          "name": "stderr",
          "text": [
            "\n"
          ]
        },
        {
          "output_type": "stream",
          "name": "stdout",
          "text": [
            "\n",
            "      Epoch    GPU_mem   box_loss   cls_loss   dfl_loss  Instances       Size\n"
          ]
        },
        {
          "output_type": "stream",
          "name": "stderr",
          "text": [
            "     71/100      1.45G     0.8834     0.5372     0.9211          3        512: 100%|██████████| 504/504 [00:39<00:00, 12.79it/s]\n",
            "                 Class     Images  Instances      Box(P          R      mAP50  mAP50-95): 100%|██████████| 32/32 [00:03<00:00,  8.93it/s]"
          ]
        },
        {
          "output_type": "stream",
          "name": "stdout",
          "text": [
            "                   all       1006       1322      0.975      0.969       0.99      0.801\n"
          ]
        },
        {
          "output_type": "stream",
          "name": "stderr",
          "text": [
            "\n"
          ]
        },
        {
          "output_type": "stream",
          "name": "stdout",
          "text": [
            "\n",
            "      Epoch    GPU_mem   box_loss   cls_loss   dfl_loss  Instances       Size\n"
          ]
        },
        {
          "output_type": "stream",
          "name": "stderr",
          "text": [
            "     72/100      1.47G     0.8919     0.5425     0.9212          7        512: 100%|██████████| 504/504 [00:39<00:00, 12.74it/s]\n",
            "                 Class     Images  Instances      Box(P          R      mAP50  mAP50-95): 100%|██████████| 32/32 [00:03<00:00,  8.92it/s]"
          ]
        },
        {
          "output_type": "stream",
          "name": "stdout",
          "text": [
            "                   all       1006       1322      0.974      0.973       0.99      0.801\n"
          ]
        },
        {
          "output_type": "stream",
          "name": "stderr",
          "text": [
            "\n"
          ]
        },
        {
          "output_type": "stream",
          "name": "stdout",
          "text": [
            "\n",
            "      Epoch    GPU_mem   box_loss   cls_loss   dfl_loss  Instances       Size\n"
          ]
        },
        {
          "output_type": "stream",
          "name": "stderr",
          "text": [
            "     73/100      1.46G     0.8731     0.5292     0.9168          8        512: 100%|██████████| 504/504 [00:39<00:00, 12.88it/s]\n",
            "                 Class     Images  Instances      Box(P          R      mAP50  mAP50-95): 100%|██████████| 32/32 [00:03<00:00,  9.08it/s]"
          ]
        },
        {
          "output_type": "stream",
          "name": "stdout",
          "text": [
            "                   all       1006       1322      0.975      0.977      0.991      0.805\n"
          ]
        },
        {
          "output_type": "stream",
          "name": "stderr",
          "text": [
            "\n"
          ]
        },
        {
          "output_type": "stream",
          "name": "stdout",
          "text": [
            "\n",
            "      Epoch    GPU_mem   box_loss   cls_loss   dfl_loss  Instances       Size\n"
          ]
        },
        {
          "output_type": "stream",
          "name": "stderr",
          "text": [
            "     74/100      1.48G     0.8703     0.5318      0.916          8        512: 100%|██████████| 504/504 [00:39<00:00, 12.85it/s]\n",
            "                 Class     Images  Instances      Box(P          R      mAP50  mAP50-95): 100%|██████████| 32/32 [00:03<00:00,  8.98it/s]"
          ]
        },
        {
          "output_type": "stream",
          "name": "stdout",
          "text": [
            "                   all       1006       1322      0.973      0.975      0.991      0.807\n"
          ]
        },
        {
          "output_type": "stream",
          "name": "stderr",
          "text": [
            "\n"
          ]
        },
        {
          "output_type": "stream",
          "name": "stdout",
          "text": [
            "\n",
            "      Epoch    GPU_mem   box_loss   cls_loss   dfl_loss  Instances       Size\n"
          ]
        },
        {
          "output_type": "stream",
          "name": "stderr",
          "text": [
            "     75/100      1.45G     0.8664     0.5284     0.9151          7        512: 100%|██████████| 504/504 [00:38<00:00, 12.93it/s]\n",
            "                 Class     Images  Instances      Box(P          R      mAP50  mAP50-95): 100%|██████████| 32/32 [00:03<00:00,  8.68it/s]"
          ]
        },
        {
          "output_type": "stream",
          "name": "stdout",
          "text": [
            "                   all       1006       1322      0.968      0.974       0.99      0.808\n"
          ]
        },
        {
          "output_type": "stream",
          "name": "stderr",
          "text": [
            "\n"
          ]
        },
        {
          "output_type": "stream",
          "name": "stdout",
          "text": [
            "\n",
            "      Epoch    GPU_mem   box_loss   cls_loss   dfl_loss  Instances       Size\n"
          ]
        },
        {
          "output_type": "stream",
          "name": "stderr",
          "text": [
            "     76/100      1.46G     0.8689     0.5251     0.9163         10        512: 100%|██████████| 504/504 [00:39<00:00, 12.82it/s]\n",
            "                 Class     Images  Instances      Box(P          R      mAP50  mAP50-95): 100%|██████████| 32/32 [00:03<00:00,  8.90it/s]"
          ]
        },
        {
          "output_type": "stream",
          "name": "stdout",
          "text": [
            "                   all       1006       1322      0.974      0.975       0.99      0.809\n"
          ]
        },
        {
          "output_type": "stream",
          "name": "stderr",
          "text": [
            "\n"
          ]
        },
        {
          "output_type": "stream",
          "name": "stdout",
          "text": [
            "\n",
            "      Epoch    GPU_mem   box_loss   cls_loss   dfl_loss  Instances       Size\n"
          ]
        },
        {
          "output_type": "stream",
          "name": "stderr",
          "text": [
            "     77/100      1.46G     0.8583     0.5186     0.9121         10        512: 100%|██████████| 504/504 [00:39<00:00, 12.76it/s]\n",
            "                 Class     Images  Instances      Box(P          R      mAP50  mAP50-95): 100%|██████████| 32/32 [00:03<00:00,  8.81it/s]\n"
          ]
        },
        {
          "output_type": "stream",
          "name": "stdout",
          "text": [
            "                   all       1006       1322      0.976      0.974       0.99      0.808\n",
            "\n",
            "      Epoch    GPU_mem   box_loss   cls_loss   dfl_loss  Instances       Size\n"
          ]
        },
        {
          "output_type": "stream",
          "name": "stderr",
          "text": [
            "     78/100      1.46G     0.8473     0.5138     0.9118          9        512: 100%|██████████| 504/504 [00:39<00:00, 12.88it/s]\n",
            "                 Class     Images  Instances      Box(P          R      mAP50  mAP50-95): 100%|██████████| 32/32 [00:03<00:00,  9.02it/s]"
          ]
        },
        {
          "output_type": "stream",
          "name": "stdout",
          "text": [
            "                   all       1006       1322       0.97      0.977      0.991      0.809\n"
          ]
        },
        {
          "output_type": "stream",
          "name": "stderr",
          "text": [
            "\n"
          ]
        },
        {
          "output_type": "stream",
          "name": "stdout",
          "text": [
            "\n",
            "      Epoch    GPU_mem   box_loss   cls_loss   dfl_loss  Instances       Size\n"
          ]
        },
        {
          "output_type": "stream",
          "name": "stderr",
          "text": [
            "     79/100      1.46G     0.8392     0.5087     0.9089          9        512: 100%|██████████| 504/504 [00:39<00:00, 12.81it/s]\n",
            "                 Class     Images  Instances      Box(P          R      mAP50  mAP50-95): 100%|██████████| 32/32 [00:03<00:00,  8.66it/s]"
          ]
        },
        {
          "output_type": "stream",
          "name": "stdout",
          "text": [
            "                   all       1006       1322       0.97      0.975       0.99      0.811\n"
          ]
        },
        {
          "output_type": "stream",
          "name": "stderr",
          "text": [
            "\n"
          ]
        },
        {
          "output_type": "stream",
          "name": "stdout",
          "text": [
            "\n",
            "      Epoch    GPU_mem   box_loss   cls_loss   dfl_loss  Instances       Size\n"
          ]
        },
        {
          "output_type": "stream",
          "name": "stderr",
          "text": [
            "     80/100      1.45G     0.8529      0.512     0.9125          4        512: 100%|██████████| 504/504 [00:39<00:00, 12.84it/s]\n",
            "                 Class     Images  Instances      Box(P          R      mAP50  mAP50-95): 100%|██████████| 32/32 [00:03<00:00,  9.03it/s]"
          ]
        },
        {
          "output_type": "stream",
          "name": "stdout",
          "text": [
            "                   all       1006       1322      0.971       0.98      0.991       0.81\n"
          ]
        },
        {
          "output_type": "stream",
          "name": "stderr",
          "text": [
            "\n"
          ]
        },
        {
          "output_type": "stream",
          "name": "stdout",
          "text": [
            "\n",
            "      Epoch    GPU_mem   box_loss   cls_loss   dfl_loss  Instances       Size\n"
          ]
        },
        {
          "output_type": "stream",
          "name": "stderr",
          "text": [
            "     81/100      1.45G     0.8445     0.5053     0.9064          6        512: 100%|██████████| 504/504 [00:39<00:00, 12.77it/s]\n",
            "                 Class     Images  Instances      Box(P          R      mAP50  mAP50-95): 100%|██████████| 32/32 [00:03<00:00,  8.75it/s]"
          ]
        },
        {
          "output_type": "stream",
          "name": "stdout",
          "text": [
            "                   all       1006       1322      0.976      0.979      0.992      0.809\n"
          ]
        },
        {
          "output_type": "stream",
          "name": "stderr",
          "text": [
            "\n"
          ]
        },
        {
          "output_type": "stream",
          "name": "stdout",
          "text": [
            "\n",
            "      Epoch    GPU_mem   box_loss   cls_loss   dfl_loss  Instances       Size\n"
          ]
        },
        {
          "output_type": "stream",
          "name": "stderr",
          "text": [
            "     82/100      1.46G     0.8399     0.5042      0.905          9        512: 100%|██████████| 504/504 [00:39<00:00, 12.88it/s]\n",
            "                 Class     Images  Instances      Box(P          R      mAP50  mAP50-95): 100%|██████████| 32/32 [00:03<00:00,  8.91it/s]"
          ]
        },
        {
          "output_type": "stream",
          "name": "stdout",
          "text": [
            "                   all       1006       1322      0.975       0.98      0.992      0.813\n"
          ]
        },
        {
          "output_type": "stream",
          "name": "stderr",
          "text": [
            "\n"
          ]
        },
        {
          "output_type": "stream",
          "name": "stdout",
          "text": [
            "\n",
            "      Epoch    GPU_mem   box_loss   cls_loss   dfl_loss  Instances       Size\n"
          ]
        },
        {
          "output_type": "stream",
          "name": "stderr",
          "text": [
            "     83/100      1.46G     0.8377     0.5011     0.9066         11        512: 100%|██████████| 504/504 [00:39<00:00, 12.77it/s]\n",
            "                 Class     Images  Instances      Box(P          R      mAP50  mAP50-95): 100%|██████████| 32/32 [00:03<00:00,  8.86it/s]"
          ]
        },
        {
          "output_type": "stream",
          "name": "stdout",
          "text": [
            "                   all       1006       1322      0.974       0.98      0.992      0.816\n"
          ]
        },
        {
          "output_type": "stream",
          "name": "stderr",
          "text": [
            "\n"
          ]
        },
        {
          "output_type": "stream",
          "name": "stdout",
          "text": [
            "\n",
            "      Epoch    GPU_mem   box_loss   cls_loss   dfl_loss  Instances       Size\n"
          ]
        },
        {
          "output_type": "stream",
          "name": "stderr",
          "text": [
            "     84/100      1.45G      0.837     0.4986     0.9076          5        512: 100%|██████████| 504/504 [00:39<00:00, 12.85it/s]\n",
            "                 Class     Images  Instances      Box(P          R      mAP50  mAP50-95): 100%|██████████| 32/32 [00:03<00:00,  8.68it/s]"
          ]
        },
        {
          "output_type": "stream",
          "name": "stdout",
          "text": [
            "                   all       1006       1322      0.976      0.982      0.992      0.818\n"
          ]
        },
        {
          "output_type": "stream",
          "name": "stderr",
          "text": [
            "\n"
          ]
        },
        {
          "output_type": "stream",
          "name": "stdout",
          "text": [
            "\n",
            "      Epoch    GPU_mem   box_loss   cls_loss   dfl_loss  Instances       Size\n"
          ]
        },
        {
          "output_type": "stream",
          "name": "stderr",
          "text": [
            "     85/100      1.46G     0.8286     0.4925     0.9055          6        512: 100%|██████████| 504/504 [00:39<00:00, 12.78it/s]\n",
            "                 Class     Images  Instances      Box(P          R      mAP50  mAP50-95): 100%|██████████| 32/32 [00:03<00:00,  8.81it/s]"
          ]
        },
        {
          "output_type": "stream",
          "name": "stdout",
          "text": [
            "                   all       1006       1322      0.975      0.979      0.992      0.818\n"
          ]
        },
        {
          "output_type": "stream",
          "name": "stderr",
          "text": [
            "\n"
          ]
        },
        {
          "output_type": "stream",
          "name": "stdout",
          "text": [
            "\n",
            "      Epoch    GPU_mem   box_loss   cls_loss   dfl_loss  Instances       Size\n"
          ]
        },
        {
          "output_type": "stream",
          "name": "stderr",
          "text": [
            "     86/100      1.46G     0.8275     0.4933     0.9048          9        512: 100%|██████████| 504/504 [00:39<00:00, 12.85it/s]\n",
            "                 Class     Images  Instances      Box(P          R      mAP50  mAP50-95): 100%|██████████| 32/32 [00:03<00:00,  8.80it/s]"
          ]
        },
        {
          "output_type": "stream",
          "name": "stdout",
          "text": [
            "                   all       1006       1322      0.978      0.976      0.992      0.816\n"
          ]
        },
        {
          "output_type": "stream",
          "name": "stderr",
          "text": [
            "\n"
          ]
        },
        {
          "output_type": "stream",
          "name": "stdout",
          "text": [
            "\n",
            "      Epoch    GPU_mem   box_loss   cls_loss   dfl_loss  Instances       Size\n"
          ]
        },
        {
          "output_type": "stream",
          "name": "stderr",
          "text": [
            "     87/100      1.45G     0.8211     0.4848     0.8999          4        512: 100%|██████████| 504/504 [00:39<00:00, 12.86it/s]\n",
            "                 Class     Images  Instances      Box(P          R      mAP50  mAP50-95): 100%|██████████| 32/32 [00:03<00:00,  9.01it/s]"
          ]
        },
        {
          "output_type": "stream",
          "name": "stdout",
          "text": [
            "                   all       1006       1322      0.979      0.976      0.992      0.818\n"
          ]
        },
        {
          "output_type": "stream",
          "name": "stderr",
          "text": [
            "\n"
          ]
        },
        {
          "output_type": "stream",
          "name": "stdout",
          "text": [
            "\n",
            "      Epoch    GPU_mem   box_loss   cls_loss   dfl_loss  Instances       Size\n"
          ]
        },
        {
          "output_type": "stream",
          "name": "stderr",
          "text": [
            "     88/100      1.47G     0.8132     0.4797     0.9005          4        512: 100%|██████████| 504/504 [00:39<00:00, 12.87it/s]\n",
            "                 Class     Images  Instances      Box(P          R      mAP50  mAP50-95): 100%|██████████| 32/32 [00:03<00:00,  8.92it/s]"
          ]
        },
        {
          "output_type": "stream",
          "name": "stdout",
          "text": [
            "                   all       1006       1322       0.98      0.976      0.992      0.819\n"
          ]
        },
        {
          "output_type": "stream",
          "name": "stderr",
          "text": [
            "\n"
          ]
        },
        {
          "output_type": "stream",
          "name": "stdout",
          "text": [
            "\n",
            "      Epoch    GPU_mem   box_loss   cls_loss   dfl_loss  Instances       Size\n"
          ]
        },
        {
          "output_type": "stream",
          "name": "stderr",
          "text": [
            "     89/100      1.46G      0.814     0.4825     0.9026         13        512: 100%|██████████| 504/504 [00:39<00:00, 12.82it/s]\n",
            "                 Class     Images  Instances      Box(P          R      mAP50  mAP50-95): 100%|██████████| 32/32 [00:03<00:00,  8.97it/s]\n"
          ]
        },
        {
          "output_type": "stream",
          "name": "stdout",
          "text": [
            "                   all       1006       1322      0.979      0.975      0.991      0.817\n",
            "\n",
            "      Epoch    GPU_mem   box_loss   cls_loss   dfl_loss  Instances       Size\n"
          ]
        },
        {
          "output_type": "stream",
          "name": "stderr",
          "text": [
            "     90/100      1.47G     0.8091     0.4782     0.8986          5        512: 100%|██████████| 504/504 [00:39<00:00, 12.82it/s]\n",
            "                 Class     Images  Instances      Box(P          R      mAP50  mAP50-95): 100%|██████████| 32/32 [00:03<00:00,  8.83it/s]"
          ]
        },
        {
          "output_type": "stream",
          "name": "stdout",
          "text": [
            "                   all       1006       1322       0.98      0.975      0.991      0.818\n"
          ]
        },
        {
          "output_type": "stream",
          "name": "stderr",
          "text": [
            "\n"
          ]
        },
        {
          "output_type": "stream",
          "name": "stdout",
          "text": [
            "Closing dataloader mosaic\n",
            "\n",
            "      Epoch    GPU_mem   box_loss   cls_loss   dfl_loss  Instances       Size\n"
          ]
        },
        {
          "output_type": "stream",
          "name": "stderr",
          "text": [
            "     91/100      1.45G     0.7469     0.4146     0.8834          4        512: 100%|██████████| 504/504 [00:39<00:00, 12.71it/s]\n",
            "                 Class     Images  Instances      Box(P          R      mAP50  mAP50-95): 100%|██████████| 32/32 [00:03<00:00,  8.81it/s]"
          ]
        },
        {
          "output_type": "stream",
          "name": "stdout",
          "text": [
            "                   all       1006       1322      0.979      0.978      0.991      0.818\n"
          ]
        },
        {
          "output_type": "stream",
          "name": "stderr",
          "text": [
            "\n"
          ]
        },
        {
          "output_type": "stream",
          "name": "stdout",
          "text": [
            "\n",
            "      Epoch    GPU_mem   box_loss   cls_loss   dfl_loss  Instances       Size\n"
          ]
        },
        {
          "output_type": "stream",
          "name": "stderr",
          "text": [
            "     92/100      1.45G     0.7433     0.4114      0.881          6        512: 100%|██████████| 504/504 [00:38<00:00, 12.93it/s]\n",
            "                 Class     Images  Instances      Box(P          R      mAP50  mAP50-95): 100%|██████████| 32/32 [00:03<00:00,  8.90it/s]"
          ]
        },
        {
          "output_type": "stream",
          "name": "stdout",
          "text": [
            "                   all       1006       1322       0.98      0.977      0.992       0.82\n"
          ]
        },
        {
          "output_type": "stream",
          "name": "stderr",
          "text": [
            "\n"
          ]
        },
        {
          "output_type": "stream",
          "name": "stdout",
          "text": [
            "\n",
            "      Epoch    GPU_mem   box_loss   cls_loss   dfl_loss  Instances       Size\n"
          ]
        },
        {
          "output_type": "stream",
          "name": "stderr",
          "text": [
            "     93/100      1.45G      0.734     0.4038     0.8798          4        512: 100%|██████████| 504/504 [00:38<00:00, 12.97it/s]\n",
            "                 Class     Images  Instances      Box(P          R      mAP50  mAP50-95): 100%|██████████| 32/32 [00:03<00:00,  8.76it/s]\n"
          ]
        },
        {
          "output_type": "stream",
          "name": "stdout",
          "text": [
            "                   all       1006       1322       0.98      0.977      0.992      0.821\n",
            "\n",
            "      Epoch    GPU_mem   box_loss   cls_loss   dfl_loss  Instances       Size\n"
          ]
        },
        {
          "output_type": "stream",
          "name": "stderr",
          "text": [
            "     94/100      1.45G     0.7272     0.4023     0.8767          4        512: 100%|██████████| 504/504 [00:38<00:00, 12.96it/s]\n",
            "                 Class     Images  Instances      Box(P          R      mAP50  mAP50-95): 100%|██████████| 32/32 [00:03<00:00,  8.76it/s]"
          ]
        },
        {
          "output_type": "stream",
          "name": "stdout",
          "text": [
            "                   all       1006       1322      0.979      0.976      0.991      0.822\n"
          ]
        },
        {
          "output_type": "stream",
          "name": "stderr",
          "text": [
            "\n"
          ]
        },
        {
          "output_type": "stream",
          "name": "stdout",
          "text": [
            "\n",
            "      Epoch    GPU_mem   box_loss   cls_loss   dfl_loss  Instances       Size\n"
          ]
        },
        {
          "output_type": "stream",
          "name": "stderr",
          "text": [
            "     95/100      1.45G     0.7226     0.3991     0.8772          4        512: 100%|██████████| 504/504 [00:39<00:00, 12.83it/s]\n",
            "                 Class     Images  Instances      Box(P          R      mAP50  mAP50-95): 100%|██████████| 32/32 [00:03<00:00,  9.00it/s]"
          ]
        },
        {
          "output_type": "stream",
          "name": "stdout",
          "text": [
            "                   all       1006       1322      0.981      0.978      0.991      0.823\n"
          ]
        },
        {
          "output_type": "stream",
          "name": "stderr",
          "text": [
            "\n"
          ]
        },
        {
          "output_type": "stream",
          "name": "stdout",
          "text": [
            "\n",
            "      Epoch    GPU_mem   box_loss   cls_loss   dfl_loss  Instances       Size\n"
          ]
        },
        {
          "output_type": "stream",
          "name": "stderr",
          "text": [
            "     96/100      1.45G     0.7162     0.3921     0.8706          3        512: 100%|██████████| 504/504 [00:38<00:00, 12.97it/s]\n",
            "                 Class     Images  Instances      Box(P          R      mAP50  mAP50-95): 100%|██████████| 32/32 [00:03<00:00,  8.87it/s]"
          ]
        },
        {
          "output_type": "stream",
          "name": "stdout",
          "text": [
            "                   all       1006       1322      0.982      0.977      0.991      0.824\n"
          ]
        },
        {
          "output_type": "stream",
          "name": "stderr",
          "text": [
            "\n"
          ]
        },
        {
          "output_type": "stream",
          "name": "stdout",
          "text": [
            "\n",
            "      Epoch    GPU_mem   box_loss   cls_loss   dfl_loss  Instances       Size\n"
          ]
        },
        {
          "output_type": "stream",
          "name": "stderr",
          "text": [
            "     97/100      1.45G     0.7138     0.3896     0.8752          3        512: 100%|██████████| 504/504 [00:38<00:00, 12.98it/s]\n",
            "                 Class     Images  Instances      Box(P          R      mAP50  mAP50-95): 100%|██████████| 32/32 [00:03<00:00,  8.75it/s]"
          ]
        },
        {
          "output_type": "stream",
          "name": "stdout",
          "text": [
            "                   all       1006       1322      0.982      0.978      0.992      0.825\n"
          ]
        },
        {
          "output_type": "stream",
          "name": "stderr",
          "text": [
            "\n"
          ]
        },
        {
          "output_type": "stream",
          "name": "stdout",
          "text": [
            "\n",
            "      Epoch    GPU_mem   box_loss   cls_loss   dfl_loss  Instances       Size\n"
          ]
        },
        {
          "output_type": "stream",
          "name": "stderr",
          "text": [
            "     98/100      1.45G     0.7144     0.3876      0.872          5        512: 100%|██████████| 504/504 [00:39<00:00, 12.85it/s]\n",
            "                 Class     Images  Instances      Box(P          R      mAP50  mAP50-95): 100%|██████████| 32/32 [00:03<00:00,  8.82it/s]"
          ]
        },
        {
          "output_type": "stream",
          "name": "stdout",
          "text": [
            "                   all       1006       1322      0.983      0.978      0.992      0.826\n"
          ]
        },
        {
          "output_type": "stream",
          "name": "stderr",
          "text": [
            "\n"
          ]
        },
        {
          "output_type": "stream",
          "name": "stdout",
          "text": [
            "\n",
            "      Epoch    GPU_mem   box_loss   cls_loss   dfl_loss  Instances       Size\n"
          ]
        },
        {
          "output_type": "stream",
          "name": "stderr",
          "text": [
            "     99/100      1.45G     0.7086     0.3843     0.8674          4        512: 100%|██████████| 504/504 [00:39<00:00, 12.90it/s]\n",
            "                 Class     Images  Instances      Box(P          R      mAP50  mAP50-95): 100%|██████████| 32/32 [00:03<00:00,  8.79it/s]"
          ]
        },
        {
          "output_type": "stream",
          "name": "stdout",
          "text": [
            "                   all       1006       1322      0.983      0.978      0.992      0.826\n"
          ]
        },
        {
          "output_type": "stream",
          "name": "stderr",
          "text": [
            "\n"
          ]
        },
        {
          "output_type": "stream",
          "name": "stdout",
          "text": [
            "\n",
            "      Epoch    GPU_mem   box_loss   cls_loss   dfl_loss  Instances       Size\n"
          ]
        },
        {
          "output_type": "stream",
          "name": "stderr",
          "text": [
            "    100/100      1.45G     0.6996     0.3796     0.8695          4        512: 100%|██████████| 504/504 [00:39<00:00, 12.92it/s]\n",
            "                 Class     Images  Instances      Box(P          R      mAP50  mAP50-95): 100%|██████████| 32/32 [00:03<00:00,  8.89it/s]"
          ]
        },
        {
          "output_type": "stream",
          "name": "stdout",
          "text": [
            "                   all       1006       1322      0.982      0.978      0.992      0.827\n"
          ]
        },
        {
          "output_type": "stream",
          "name": "stderr",
          "text": [
            "\n"
          ]
        },
        {
          "output_type": "stream",
          "name": "stdout",
          "text": [
            "\n",
            "100 epochs completed in 1.224 hours.\n",
            "Optimizer stripped from /content/ks_chimney_yolo/yolov8n_ks_train/weights/last.pt, 6.2MB\n",
            "Optimizer stripped from /content/ks_chimney_yolo/yolov8n_ks_train/weights/best.pt, 6.2MB\n",
            "\n",
            "Validating /content/ks_chimney_yolo/yolov8n_ks_train/weights/best.pt...\n",
            "Ultralytics YOLOv8.2.103 🚀 Python-3.12.11 torch-2.8.0+cu128 CUDA:0 (NVIDIA A100-SXM4-80GB, 81222MiB)\n",
            "Model summary (fused): 168 layers, 3,005,843 parameters, 0 gradients, 8.1 GFLOPs\n"
          ]
        },
        {
          "output_type": "stream",
          "name": "stderr",
          "text": [
            "                 Class     Images  Instances      Box(P          R      mAP50  mAP50-95): 100%|██████████| 32/32 [00:04<00:00,  7.36it/s]\n"
          ]
        },
        {
          "output_type": "stream",
          "name": "stdout",
          "text": [
            "                   all       1006       1322      0.983      0.977      0.992      0.827\n",
            "Speed: 0.1ms preprocess, 0.3ms inference, 0.0ms loss, 0.9ms postprocess per image\n",
            "Results saved to \u001b[1m/content/ks_chimney_yolo/yolov8n_ks_train\u001b[0m\n",
            "\n",
            "✅ Train finished with batch=16\n",
            "Ultralytics YOLOv8.2.103 🚀 Python-3.12.11 torch-2.8.0+cu128 CUDA:0 (NVIDIA A100-SXM4-80GB, 81222MiB)\n",
            "Model summary (fused): 168 layers, 3,005,843 parameters, 0 gradients, 8.1 GFLOPs\n"
          ]
        },
        {
          "output_type": "stream",
          "name": "stderr",
          "text": [
            "\u001b[34m\u001b[1mval: \u001b[0mScanning /content/ks_chimney_yolo/yolo/labels/val.cache... 1006 images, 0 backgrounds, 0 corrupt: 100%|██████████| 1006/1006 [00:00<?, ?it/s]\n",
            "                 Class     Images  Instances      Box(P          R      mAP50  mAP50-95): 100%|██████████| 63/63 [00:04<00:00, 12.80it/s]\n"
          ]
        },
        {
          "output_type": "stream",
          "name": "stdout",
          "text": [
            "                   all       1006       1322      0.983      0.977      0.992      0.827\n",
            "Speed: 0.1ms preprocess, 0.8ms inference, 0.0ms loss, 0.7ms postprocess per image\n",
            "Results saved to \u001b[1m/content/ks_chimney_yolo/yolov8n_ks_train2\u001b[0m\n",
            "mAP@0.5: 0.9916841747534443\n",
            "\n",
            "[RESULT PATHS]\n",
            "runs dir   : /content/ks_chimney_yolo/yolov8n_ks_train\n",
            "weights dir: /content/ks_chimney_yolo/yolov8n_ks_train/weights\n",
            "best model : /content/ks_chimney_yolo/yolov8n_ks_train/weights/best.pt\n"
          ]
        }
      ]
    },
    {
      "cell_type": "code",
      "source": [
        "# === 6. Sample prediction ===\n",
        "import glob, os, random\n",
        "from ultralytics import YOLO\n",
        "\n",
        "BASE = \"/content/ks_chimney_yolo\"\n",
        "best = f\"{BASE}/yolov8n_ks_train/weights/best.pt\"\n",
        "\n",
        "if os.path.exists(best):\n",
        "    model = YOLO(best)\n",
        "    val_imgs = glob.glob(f\"{BASE}/yolo/images/val/*.jpg\")\n",
        "    sample = random.sample(val_imgs, k=min(8, len(val_imgs))) if val_imgs else []\n",
        "    out_dir = f\"{BASE}/pred_samples\"\n",
        "    os.makedirs(out_dir, exist_ok=True)\n",
        "\n",
        "    if sample:\n",
        "        _ = model.predict(source=sample, imgsz=512, conf=0.25,\n",
        "                          save=True, project=out_dir, name=\"vis\", exist_ok=True)\n",
        "        print(\"Saved predictions to:\", f\"{out_dir}/vis\")\n",
        "    else:\n",
        "        print(\"No validation images for prediction.\")\n",
        "else:\n",
        "    print(\"best model not found; skip prediction.\")\n"
      ],
      "metadata": {
        "colab": {
          "base_uri": "https://localhost:8080/"
        },
        "id": "DYJgLpxlbynS",
        "outputId": "295e67ae-86db-4dca-ccc1-3338ed3ebf8a"
      },
      "execution_count": 5,
      "outputs": [
        {
          "output_type": "stream",
          "name": "stdout",
          "text": [
            "\n",
            "0: 512x512 1 chimney, 7.9ms\n",
            "1: 512x512 1 chimney, 7.9ms\n",
            "2: 512x512 2 chimneys, 7.9ms\n",
            "3: 512x512 1 chimney, 7.9ms\n",
            "4: 512x512 1 chimney, 7.9ms\n",
            "5: 512x512 1 chimney, 7.9ms\n",
            "6: 512x512 1 chimney, 7.9ms\n",
            "7: 512x512 1 chimney, 7.9ms\n",
            "Speed: 1.3ms preprocess, 7.9ms inference, 1.0ms postprocess per image at shape (1, 3, 512, 512)\n",
            "Results saved to \u001b[1m/content/ks_chimney_yolo/pred_samples/vis\u001b[0m\n",
            "Saved predictions to: /content/ks_chimney_yolo/pred_samples/vis\n"
          ]
        }
      ]
    }
  ]
}