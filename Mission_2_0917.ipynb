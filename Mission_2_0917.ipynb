{
  "nbformat": 4,
  "nbformat_minor": 0,
  "metadata": {
    "colab": {
      "provenance": [],
      "gpuType": "T4",
      "authorship_tag": "ABX9TyMUKvGKfyrpApIO1A0Lb+G2",
      "include_colab_link": true
    },
    "kernelspec": {
      "name": "python3",
      "display_name": "Python 3"
    },
    "language_info": {
      "name": "python"
    },
    "accelerator": "GPU"
  },
  "cells": [
    {
      "cell_type": "markdown",
      "metadata": {
        "id": "view-in-github",
        "colab_type": "text"
      },
      "source": [
        "<a href=\"https://colab.research.google.com/github/Data-Creater-Atlas/Data-Atlas/blob/jinho/Mission_2_0917.ipynb\" target=\"_parent\"><img src=\"https://colab.research.google.com/assets/colab-badge.svg\" alt=\"Open In Colab\"/></a>"
      ]
    },
    {
      "cell_type": "markdown",
      "source": [
        "# 환경 및 경로 설정"
      ],
      "metadata": {
        "id": "qCqyNJqKOAyt"
      }
    },
    {
      "cell_type": "code",
      "execution_count": 17,
      "metadata": {
        "id": "hKrvfCQhN62u"
      },
      "outputs": [],
      "source": [
        "!pip -q install ultralytics matplotlib opencv-python pandas"
      ]
    },
    {
      "cell_type": "code",
      "source": [
        "import os\n",
        "from pathlib import Path\n",
        "import json\n",
        "import math\n",
        "import cv2\n",
        "import numpy as np\n",
        "import pandas as pd\n",
        "from PIL import Image\n",
        "\n",
        "import torch\n",
        "import torch.nn as nn\n",
        "import torch.optim as optim\n",
        "from torch.utils.data import Dataset, DataLoader\n",
        "\n",
        "import torchvision\n",
        "from torchvision import transforms\n",
        "from torchvision.models import resnet18, ResNet18_Weights"
      ],
      "metadata": {
        "id": "VSUiWhVoOsBi"
      },
      "execution_count": 31,
      "outputs": []
    },
    {
      "cell_type": "markdown",
      "source": [
        "## Google Drive Mounting"
      ],
      "metadata": {
        "id": "R9FdOx4qO15A"
      }
    },
    {
      "cell_type": "code",
      "source": [
        "from google.colab import drive\n",
        "drive.mount('/content/drive')"
      ],
      "metadata": {
        "colab": {
          "base_uri": "https://localhost:8080/"
        },
        "id": "LD-6KuuhO1fL",
        "outputId": "313e7476-19f5-4417-a1e1-531ff87b3aa8"
      },
      "execution_count": 32,
      "outputs": [
        {
          "output_type": "stream",
          "name": "stdout",
          "text": [
            "Drive already mounted at /content/drive; to attempt to forcibly remount, call drive.mount(\"/content/drive\", force_remount=True).\n"
          ]
        }
      ]
    },
    {
      "cell_type": "markdown",
      "source": [
        "## 절대 경로 설정"
      ],
      "metadata": {
        "id": "H23mdHpvO78N"
      }
    },
    {
      "cell_type": "code",
      "source": [
        "# ---- 경로 정의 ----\n",
        "DATA_ROOT = \"/content/drive/MyDrive/Data_Creater_Camp\"\n",
        "\n",
        "# !! 아래 4개의 경로는 사용자 환경에 맞게 수정하세요 !!\n",
        "Train_Source_DIR = f\"{DATA_ROOT}/Training/01.원천데이터/TS_KS\"       # 원본 학습 이미지 폴더\n",
        "Train_Label_DIR  = f\"{DATA_ROOT}/Training/02.라벨링데이터/TL_KS_LINE\"  # 원본 학습 라벨(JSON) 폴더\n",
        "Validation_Source_DIR = f\"{DATA_ROOT}/Validation/01.원천데이터/VS_KS\"  # 원본 검증 이미지 폴더\n",
        "Validation_Label_DIR  = f\"{DATA_ROOT}/Validation/02.라벨링데이터/VL_KS_LINE\"  # 원본 검증 라벨(JSON) 폴더"
      ],
      "metadata": {
        "id": "hs_YfcxPPA_5"
      },
      "execution_count": 33,
      "outputs": []
    },
    {
      "cell_type": "markdown",
      "source": [
        "## 데이터 전처리 데이터셋 디렉토리\n",
        "* crop 파일 X, index.csv/labels만 생성"
      ],
      "metadata": {
        "id": "5tJK0BuTPjLB"
      }
    },
    {
      "cell_type": "code",
      "source": [
        "DATASET_DIR = Path(DATA_ROOT) / \"ResNet_Dataset\"\n",
        "for sub in [\"train/images\", \"train/labels\", \"valid/images\", \"valid/labels\"]:\n",
        "    (DATASET_DIR / sub).mkdir(parents=True, exist_ok=True)"
      ],
      "metadata": {
        "id": "9iEXpsQFPixq"
      },
      "execution_count": 34,
      "outputs": []
    },
    {
      "cell_type": "markdown",
      "source": [
        "## 디바이스 설정"
      ],
      "metadata": {
        "id": "J7lFpljyPvTX"
      }
    },
    {
      "cell_type": "code",
      "source": [
        "DEVICE = torch.device(\"cuda\" if torch.cuda.is_available() else \"cpu\")\n",
        "print(\"DEVICE:\", DEVICE)"
      ],
      "metadata": {
        "colab": {
          "base_uri": "https://localhost:8080/"
        },
        "id": "PsJ9Jf2MPwrJ",
        "outputId": "6a972c1b-ca59-4c4f-82a6-f897ea8e770c"
      },
      "execution_count": 35,
      "outputs": [
        {
          "output_type": "stream",
          "name": "stdout",
          "text": [
            "DEVICE: cuda\n"
          ]
        }
      ]
    },
    {
      "cell_type": "markdown",
      "source": [
        "# 데이터 전처리 및 관리 (JSON 파싱 + 인덱싱)"
      ],
      "metadata": {
        "id": "FzjS0M_MP0cL"
      }
    },
    {
      "cell_type": "code",
      "source": [
        "def _safe_get(d: dict, key: str, default=None):\n",
        "  return d[key] if (isinstance(d, dict) and key in d) else default\n",
        "\n",
        "def load_line_labels(label_dir:str):\n",
        "  label_dir = Path(label_dir)\n",
        "  json_files = sorted(label_dir.glob(\"*.json\"))\n",
        "  items = []\n",
        "\n",
        "  for jf in json_files:\n",
        "    with open(jf, \"r\", encoding=\"utf-8\") as f:\n",
        "      data = json.load(f)\n",
        "\n",
        "      if isinstance(data, dict):\n",
        "        entries = list(data.values())\n",
        "      elif isinstance(data, list):\n",
        "        entries = data\n",
        "      else:\n",
        "        continue\n",
        "\n",
        "      for entry in entries:\n",
        "        filename = _safe_get(entry, \"filename\", None)\n",
        "        regions = _safe_get(entry, \"regions\", [])\n",
        "        if not filename or not regions:\n",
        "          continue\n",
        "\n",
        "        #각 region 마다 라인 혹은 polyline\n",
        "        for region in regions:\n",
        "          shape = _safe_get(region, \"shape_attributes\", {})\n",
        "          attrs = _safe_get(region, \"region_attributes\", {})\n",
        "\n",
        "          name = _safe_get(shape, \"name\", \"\").lower()\n",
        "          x1 = y1 = x2 = y2 = None\n",
        "\n",
        "          if name == \"line\":\n",
        "            x1 = float(_safe_get(shape, \"x\", np.nan))\n",
        "            y1 = float(_safe_get(shape, \"y\", np.nan))\n",
        "            x2 = float(_safe_get(shape, \"x2\", np.nan))\n",
        "            y2 = float(_safe_get(shape, \"y2\", np.nan))\n",
        "          elif name == \"polyline\":\n",
        "            xs = _safe_get(shape, \"all_point_x\", [])\n",
        "            ys = _safe_get(shape, \"all_point_y\", [])\n",
        "            if isinstance(xs, list) and isinstance(ys, list) and len(xs) >= 2 and len(ys) >= 2:\n",
        "              x1, y1 = float(xs[0]), float(ys[0])\n",
        "              x2, y2 = float(xs[-1]), float(ys[-1])\n",
        "\n",
        "          else :\n",
        "            continue\n",
        "\n",
        "          if None in (x1, y1, x2, y2):\n",
        "            continue\n",
        "\n",
        "          # region_attributes에서 높이/ID 추출\n",
        "          height = _safe_get(attrs, \"height\", None)\n",
        "          chi_id = _safe_get(attrs, \"chi_id\", None)\n",
        "\n",
        "          # 숫자형 변환(가능하면)\n",
        "          try:\n",
        "            height = float(height)\n",
        "          except:\n",
        "            # 높이가 없는 경우 스킵\n",
        "            continue\n",
        "\n",
        "          items.append({\n",
        "                    \"img_path\": filename,  # 절대경로 변환/상대경로 변환은 export 단계에서 처리\n",
        "                    \"x1\": x1, \"y1\": y1, \"x2\": x2, \"y2\": y2,\n",
        "                    \"height\": height,\n",
        "                    \"chi_id\": chi_id\n",
        "          })\n",
        "\n",
        "  return items"
      ],
      "metadata": {
        "id": "kRKlWFkZP5Ti"
      },
      "execution_count": 36,
      "outputs": []
    },
    {
      "cell_type": "code",
      "source": [
        "def export_index_and_labels_only(items, image_dir: str, out_label_dir: str, out_index_csv: str, data_root: str):\n",
        "  image_dir = Path(image_dir)\n",
        "  out_label_dir = Path(out_label_dir)\n",
        "  out_label_dir.mkdir(parents=True, exist_ok=True)\n",
        "  rows = []\n",
        "\n",
        "  # 이미지 파일명별 카운터\n",
        "  per_image_counter = {}\n",
        "\n",
        "  for it in items:\n",
        "    img_file = Path(image_dir) / it[\"img_path\"]\n",
        "    if not img_file.exists():\n",
        "      candidates = list(image_dir.rglob(Path(it[\"img_path\"]).name))\n",
        "      if candidates:\n",
        "        img_file = candidates[0]\n",
        "      else:\n",
        "        print(f\"이미지를 찾을 수 없습니다 {it['img_path']}\")\n",
        "        continue\n",
        "\n",
        "    stem = img_file.stem\n",
        "    per_image_counter[stem] = per_image_counter.get(stem, 0) + 1\n",
        "    cnt = per_image_counter[stem]\n",
        "\n",
        "    label_filename = f\"{stem}_{cnt}.txt\"\n",
        "    # 라벨 파일 쓰기 (height만)\n",
        "    with open(out_label_dir / label_filename, \"w\", encoding=\"utf-8\") as f:\n",
        "      f.write(str(it[\"height\"]))\n",
        "\n",
        "    # DATA_ROOT 기준 상대 경로로 저장\n",
        "    data_root_path = Path(data_root)\n",
        "    try:\n",
        "        rel_img_path = str(img_file.relative_to(data_root_path))\n",
        "    except Exception:\n",
        "        # 상대경로 계산 실패 시 절대경로 저장(최후수단)\n",
        "        rel_img_path = str(img_file)\n",
        "\n",
        "    rows.append({\n",
        "        \"img_path\": rel_img_path,\n",
        "        \"label_file\": label_filename,\n",
        "        \"chi_id\": it[\"chi_id\"],\n",
        "        \"height\": it[\"height\"],\n",
        "        \"x1\": it[\"x1\"], \"y1\": it[\"y1\"], \"x2\": it[\"x2\"], \"y2\": it[\"y2\"]\n",
        "    })\n"
      ],
      "metadata": {
        "id": "UxJmLXI3SqoZ"
      },
      "execution_count": 37,
      "outputs": []
    },
    {
      "cell_type": "markdown",
      "source": [
        "## 학습 / 검증 인데스 생성"
      ],
      "metadata": {
        "id": "E3W6pVGGUS7O"
      }
    },
    {
      "cell_type": "code",
      "source": [
        "train_items = load_line_labels(Train_Label_DIR)\n",
        "valid_items = load_line_labels(Validation_Label_DIR)\n",
        "\n",
        "train_index_csv = DATASET_DIR / \"train\" / \"index.csv\"\n",
        "valid_index_csv = DATASET_DIR / \"valid\" / \"index.csv\"\n",
        "\n",
        "_ = export_index_and_labels_only(\n",
        "    train_items, Train_Source_DIR, DATASET_DIR / \"train\" / \"labels\", train_index_csv, DATA_ROOT\n",
        ")\n",
        "_ = export_index_and_labels_only(\n",
        "    valid_items, Validation_Source_DIR, DATASET_DIR / \"valid\" / \"labels\", valid_index_csv, DATA_ROOT\n",
        ")"
      ],
      "metadata": {
        "id": "iTSXKDAAUVHI"
      },
      "execution_count": 38,
      "outputs": []
    },
    {
      "cell_type": "markdown",
      "source": [
        "# PyTorch 데이터셋 / 데이터 로더"
      ],
      "metadata": {
        "id": "iT0hXrUZWeAS"
      }
    },
    {
      "cell_type": "code",
      "source": [
        "def crop_line_patch_np(img_bgr: np.ndarray, x1, y1, x2, y2, out_size=224) -> np.ndarray:\n",
        "    \"\"\"\n",
        "    입력: BGR 이미지, 라인 좌표\n",
        "    동작:\n",
        "      1) 라인 중심과 각도 계산\n",
        "      2) 이미지 전체를 -angle 만큼 회전시켜 라인이 수평이 되도록 함\n",
        "      3) 회전된 이미지에서 (라인 중심) 기준 224x224 패치를 crop\n",
        "      4) 경계 이슈가 있으면 BORDER_REFLECT로 보정\n",
        "      5) RGB로 변환 후 반환\n",
        "    \"\"\"\n",
        "    H, W = img_bgr.shape[:2]\n",
        "    # 중심 및 각도\n",
        "    cx = (x1 + x2) * 0.5\n",
        "    cy = (y1 + y2) * 0.5\n",
        "    angle_rad = math.atan2((y2 - y1), (x2 - x1))\n",
        "    angle_deg = np.degrees(angle_rad)\n",
        "\n",
        "    # 회전 행렬 (반시계 기준이므로 수평 정렬을 위해 -angle)\n",
        "    M = cv2.getRotationMatrix2D((cx, cy), -angle_deg, 1.0)\n",
        "    rotated = cv2.warpAffine(img_bgr, M, (W, H), flags=cv2.INTER_LINEAR, borderMode=cv2.BORDER_REFLECT)\n",
        "\n",
        "    # 회전 후 중심점 좌표\n",
        "    center = np.array([cx, cy, 1.0], dtype=np.float32)\n",
        "    rcx, rcy = M @ center\n",
        "\n",
        "    # crop 범위 계산\n",
        "    half = out_size // 2\n",
        "    x_min = int(round(rcx - half))\n",
        "    y_min = int(round(rcy - half))\n",
        "    x_max = x_min + out_size\n",
        "    y_max = y_min + out_size\n",
        "\n",
        "    # 경계 보정: 필요 시 padding 후 crop\n",
        "    pad_left = max(0, -x_min)\n",
        "    pad_top = max(0, -y_min)\n",
        "    pad_right = max(0, x_max - rotated.shape[1])\n",
        "    pad_bottom = max(0, y_max - rotated.shape[0])\n",
        "\n",
        "    if any([pad_left, pad_top, pad_right, pad_bottom]):\n",
        "        rotated = cv2.copyMakeBorder(\n",
        "            rotated, pad_top, pad_bottom, pad_left, pad_right, borderType=cv2.BORDER_REFLECT\n",
        "        )\n",
        "        x_min += pad_left\n",
        "        x_max += pad_left\n",
        "        y_min += pad_top\n",
        "        y_max += pad_top\n",
        "\n",
        "    patch = rotated[y_min:y_max, x_min:x_max]  # BGR\n",
        "    # 혹시 패치 크기가 어긋났다면 리사이즈\n",
        "    if patch.shape[0] != out_size or patch.shape[1] != out_size:\n",
        "        patch = cv2.resize(patch, (out_size, out_size), interpolation=cv2.INTER_LINEAR)\n",
        "\n",
        "    # BGR -> RGB\n",
        "    patch_rgb = cv2.cvtColor(patch, cv2.COLOR_BGR2RGB)\n",
        "    return patch_rgb"
      ],
      "metadata": {
        "id": "mnvQdjowWdP-"
      },
      "execution_count": 42,
      "outputs": []
    },
    {
      "cell_type": "code",
      "source": [
        "class IndexCSVHeightDataset(Dataset):\n",
        "    def __init__(self, index_csv: str, data_root: str, transform=None, forbid_aug=False):\n",
        "        \"\"\"\n",
        "        index.csv를 읽어, on-the-fly로 라인 패치를 추출(검증셋: 증강금지).\n",
        "        forbid_aug=True인 경우, transform에서 증강 요소가 있어도 실행 전 반드시 제거해야 함(여기서는 transform 구성 단계에서 보장).\n",
        "        \"\"\"\n",
        "        self.df = pd.read_csv(index_csv)\n",
        "        self.data_root = Path(data_root)\n",
        "        self.transform = transform\n",
        "        self.forbid_aug = forbid_aug\n",
        "\n",
        "        # height 라벨 파일이 동일 폴더에 있지만, 값은 index.csv에 이미 존재(확인용) — 여기선 df['height']를 사용\n",
        "\n",
        "    def __len__(self):\n",
        "        return len(self.df)\n",
        "\n",
        "    def __getitem__(self, idx):\n",
        "        row = self.df.iloc[idx]\n",
        "        # 원본 이미지 로딩\n",
        "        img_path_rel = row[\"img_path\"]\n",
        "        img_path_abs = self.data_root / img_path_rel\n",
        "        img_bgr = cv2.imread(str(img_path_abs), cv2.IMREAD_COLOR)\n",
        "        if img_bgr is None:\n",
        "            raise FileNotFoundError(f\"Image not found: {img_path_abs}\")\n",
        "\n",
        "        # 좌표\n",
        "        x1, y1, x2, y2 = row[\"x1\"], row[\"y1\"], row[\"x2\"], row[\"y2\"]\n",
        "        # 패치 추출 (RGB)\n",
        "        patch_rgb = crop_line_patch_np(img_bgr, x1, y1, x2, y2, out_size=224)\n",
        "\n",
        "        # PIL 변환\n",
        "        pil_img = Image.fromarray(patch_rgb)\n",
        "\n",
        "        if self.transform is not None:\n",
        "            pil_img = self.transform(pil_img)\n",
        "\n",
        "        # 타겟 (height)\n",
        "        height = float(row[\"height\"])\n",
        "        target = torch.tensor([height], dtype=torch.float32)\n",
        "\n",
        "        return pil_img, target  # (C,H,W), (1,)"
      ],
      "metadata": {
        "id": "P3laksG0Wl6k"
      },
      "execution_count": 43,
      "outputs": []
    },
    {
      "cell_type": "markdown",
      "source": [
        "# ======= TEST ======="
      ],
      "metadata": {
        "id": "-IHshEQXbkoS"
      }
    },
    {
      "cell_type": "code",
      "source": [
        "# ===========================\n",
        "# Quick Fix: index.csv 복구 & 재생성  (with tqdm progress bars)\n",
        "# ===========================\n",
        "!pip -q install tqdm\n",
        "\n",
        "from pathlib import Path\n",
        "import pandas as pd\n",
        "import json, os, glob\n",
        "from tqdm import tqdm  # NEW\n",
        "\n",
        "print(\"DATA_ROOT  :\", DATA_ROOT)\n",
        "print(\"TRAIN IMG  :\", Train_Source_DIR)\n",
        "print(\"TRAIN JSON :\", Train_Label_DIR)\n",
        "print(\"VALID IMG  :\", Validation_Source_DIR)\n",
        "print(\"VALID JSON :\", Validation_Label_DIR)\n",
        "print(\"DATASET_DIR:\", DATASET_DIR)\n",
        "\n",
        "# 1) 경로 존재 여부 점검\n",
        "for p in [Train_Source_DIR, Train_Label_DIR, Validation_Source_DIR, Validation_Label_DIR]:\n",
        "    print(f\"[exists] {p} ->\", os.path.exists(p))\n",
        "\n",
        "# 2) 라벨 JSON 파일 수(재귀) 점검\n",
        "train_jsons = sorted(Path(Train_Label_DIR).rglob(\"*.json\"))\n",
        "valid_jsons = sorted(Path(Validation_Label_DIR).rglob(\"*.json\"))\n",
        "print(f\"#train json: {len(train_jsons)} | #valid json: {len(valid_jsons)}\")\n",
        "\n",
        "# 3) index 생성 함수 (tqdm 추가)\n",
        "def _safe_get(d: dict, key: str, default=None):\n",
        "    return d[key] if (isinstance(d, dict) and key in d) else default\n",
        "\n",
        "def load_line_labels_recursive(label_dir: str, desc=\"parse\"):\n",
        "    \"\"\"\n",
        "    기존 load_line_labels와 동일하지만 재귀 탐색 사용.\n",
        "    tqdm 진행률 표시 추가.\n",
        "    \"\"\"\n",
        "    items = []\n",
        "    json_list = sorted(Path(label_dir).rglob(\"*.json\"))\n",
        "    for jf in tqdm(json_list, desc=f\"[{desc}] JSON files\", unit=\"file\"):\n",
        "        with open(jf, \"r\", encoding=\"utf-8\") as f:\n",
        "            data = json.load(f)\n",
        "        entries = list(data.values()) if isinstance(data, dict) else (data if isinstance(data, list) else [])\n",
        "        # region 단위 진행률 (entries 안에 regions가 있을 때만 대략적으로 표시)\n",
        "        for entry in entries:\n",
        "            filename = _safe_get(entry, \"filename\", None)\n",
        "            regions = _safe_get(entry, \"regions\", [])\n",
        "            if not filename or not regions:\n",
        "                continue\n",
        "            for region in regions:\n",
        "                shape = _safe_get(region, \"shape_attributes\", {})\n",
        "                attrs = _safe_get(region, \"region_attributes\", {})\n",
        "                name = str(_safe_get(shape, \"name\", \"\")).lower()\n",
        "                if name == \"line\":\n",
        "                    x1 = float(_safe_get(shape, \"x1\", float(\"nan\")))\n",
        "                    y1 = float(_safe_get(shape, \"y1\", float(\"nan\")))\n",
        "                    x2 = float(_safe_get(shape, \"x2\", float(\"nan\")))\n",
        "                    y2 = float(_safe_get(shape, \"y2\", float(\"nan\")))\n",
        "                elif name == \"polyline\":\n",
        "                    xs = _safe_get(shape, \"all_points_x\", [])\n",
        "                    ys = _safe_get(shape, \"all_points_y\", [])\n",
        "                    if not (isinstance(xs, list) and isinstance(ys, list) and len(xs) >= 2 and len(ys) >= 2):\n",
        "                        continue\n",
        "                    x1, y1, x2, y2 = float(xs[0]), float(ys[0]), float(xs[-1]), float(ys[-1])\n",
        "                else:\n",
        "                    continue\n",
        "                if any(map(lambda v: v is None or (isinstance(v, float) and (pd.isna(v))), [x1,y1,x2,y2])):\n",
        "                    continue\n",
        "                height = _safe_get(attrs, \"chi_height_m\", None)\n",
        "                try:\n",
        "                    height = float(height)\n",
        "                except:\n",
        "                    continue\n",
        "                items.append({\n",
        "                    \"img_path\": filename,\n",
        "                    \"x1\": x1, \"y1\": y1, \"x2\": x2, \"y2\": y2,\n",
        "                    \"height\": height,\n",
        "                    \"chi_id\": _safe_get(attrs, \"chi_id\", None)\n",
        "                })\n",
        "    return items\n",
        "\n",
        "def export_index_and_labels_only(items, image_dir: str, out_label_dir: str, out_index_csv: str, data_root: str, desc=\"index\"):\n",
        "    \"\"\"\n",
        "    실제 크롭 이미지는 저장하지 않고, index.csv + height txt만 생성.\n",
        "    tqdm 진행률 표시 추가.\n",
        "    \"\"\"\n",
        "    from pathlib import Path\n",
        "    import pandas as pd\n",
        "\n",
        "    out_label_dir = Path(out_label_dir)\n",
        "    out_label_dir.mkdir(parents=True, exist_ok=True)\n",
        "    rows, per_image_counter = [], {}\n",
        "\n",
        "    warn_missing = 0\n",
        "    for it in tqdm(items, desc=f\"[{desc}] build rows\", unit=\"line\"):\n",
        "        img_file = Path(image_dir) / it[\"img_path\"]\n",
        "        if not img_file.exists():\n",
        "            # 파일명이 경로와 불일치시 이미지 디렉토리 전체를 재귀 검색\n",
        "            cands = list(Path(image_dir).rglob(Path(it[\"img_path\"]).name))\n",
        "            if cands:\n",
        "                img_file = cands[0]\n",
        "            else:\n",
        "                # 마지막으로, DATA_ROOT 전역에서도 찾아보기\n",
        "                cands2 = list(Path(data_root).rglob(Path(it[\"img_path\"]).name))\n",
        "                if cands2:\n",
        "                    img_file = cands2[0]\n",
        "                else:\n",
        "                    warn_missing += 1\n",
        "                    if warn_missing <= 10:\n",
        "                        print(f\"[WARN] image not found: {it['img_path']}\")\n",
        "                    continue\n",
        "\n",
        "        stem = img_file.stem\n",
        "        per_image_counter[stem] = per_image_counter.get(stem, 0) + 1\n",
        "        cnt = per_image_counter[stem]\n",
        "        label_filename = f\"{stem}_{cnt}.txt\"\n",
        "\n",
        "        # height만 저장\n",
        "        with open(out_label_dir / label_filename, \"w\", encoding=\"utf-8\") as f:\n",
        "            f.write(str(it[\"height\"]))\n",
        "\n",
        "        data_root_path = Path(data_root)\n",
        "        try:\n",
        "            rel_img_path = str(img_file.relative_to(data_root_path))\n",
        "        except Exception:\n",
        "            rel_img_path = str(img_file)\n",
        "\n",
        "        rows.append({\n",
        "            \"img_path\": rel_img_path,\n",
        "            \"label_file\": label_filename,\n",
        "            \"chi_id\": it[\"chi_id\"],\n",
        "            \"height\": it[\"height\"],\n",
        "            \"x1\": it[\"x1\"], \"y1\": it[\"y1\"], \"x2\": it[\"x2\"], \"y2\": it[\"y2\"],\n",
        "        })\n",
        "\n",
        "    if warn_missing > 10:\n",
        "        print(f\"[WARN] image not found (suppressed): {warn_missing - 10} more\")\n",
        "\n",
        "    df = pd.DataFrame(rows, columns=[\"img_path\",\"label_file\",\"chi_id\",\"height\",\"x1\",\"y1\",\"x2\",\"y2\"])\n",
        "    Path(out_index_csv).parent.mkdir(parents=True, exist_ok=True)\n",
        "    df.to_csv(out_index_csv, index=False, encoding=\"utf-8\")\n",
        "    print(f\"Saved index csv: {out_index_csv} ({len(df)} rows)\")\n",
        "    return df\n",
        "\n",
        "# 4) 실제 재생성 수행 (진행률 표시)\n",
        "train_items = load_line_labels_recursive(Train_Label_DIR, desc=\"train-parse\")\n",
        "valid_items = load_line_labels_recursive(Validation_Label_DIR, desc=\"valid-parse\")\n",
        "print(f\"Parsed items -> train: {len(train_items)}, valid: {len(valid_items)}\")\n",
        "\n",
        "train_index_csv = DATASET_DIR / \"train\" / \"index.csv\"\n",
        "valid_index_csv = DATASET_DIR / \"valid\" / \"index.csv\"\n",
        "\n",
        "_ = export_index_and_labels_only(\n",
        "    train_items, Train_Source_DIR, DATASET_DIR / \"train\" / \"labels\", train_index_csv, DATA_ROOT, desc=\"train-index\"\n",
        ")\n",
        "_ = export_index_and_labels_only(\n",
        "    valid_items, Validation_Source_DIR, DATASET_DIR / \"valid\" / \"labels\", valid_index_csv, DATA_ROOT, desc=\"valid-index\"\n",
        ")\n",
        "\n",
        "# 5) 생성 결과 미리보기\n",
        "if train_index_csv.exists():\n",
        "    print(\"\\n[train/index.csv head]\")\n",
        "    display(pd.read_csv(train_index_csv).head())\n",
        "if valid_index_csv.exists():\n",
        "    print(\"\\n[valid/index.csv head]\")\n",
        "    display(pd.read_csv(valid_index_csv).head())"
      ],
      "metadata": {
        "colab": {
          "base_uri": "https://localhost:8080/",
          "height": 788
        },
        "id": "vexVhYfubq-6",
        "outputId": "11fd586e-c6d1-4a82-f034-a45053b74a98"
      },
      "execution_count": 46,
      "outputs": [
        {
          "output_type": "stream",
          "name": "stdout",
          "text": [
            "DATA_ROOT  : /content/drive/MyDrive/Data_Creater_Camp\n",
            "TRAIN IMG  : /content/drive/MyDrive/Data_Creater_Camp/Training/01.원천데이터/TS_KS\n",
            "TRAIN JSON : /content/drive/MyDrive/Data_Creater_Camp/Training/02.라벨링데이터/TL_KS_LINE\n",
            "VALID IMG  : /content/drive/MyDrive/Data_Creater_Camp/Validation/01.원천데이터/VS_KS\n",
            "VALID JSON : /content/drive/MyDrive/Data_Creater_Camp/Validation/02.라벨링데이터/VL_KS_LINE\n",
            "DATASET_DIR: /content/drive/MyDrive/Data_Creater_Camp/ResNet_Dataset\n",
            "[exists] /content/drive/MyDrive/Data_Creater_Camp/Training/01.원천데이터/TS_KS -> True\n",
            "[exists] /content/drive/MyDrive/Data_Creater_Camp/Training/02.라벨링데이터/TL_KS_LINE -> True\n",
            "[exists] /content/drive/MyDrive/Data_Creater_Camp/Validation/01.원천데이터/VS_KS -> True\n",
            "[exists] /content/drive/MyDrive/Data_Creater_Camp/Validation/02.라벨링데이터/VL_KS_LINE -> True\n",
            "#train json: 8052 | #valid json: 1006\n"
          ]
        },
        {
          "output_type": "stream",
          "name": "stderr",
          "text": [
            "[train-parse] JSON files: 100%|██████████| 8052/8052 [01:41<00:00, 79.26file/s] \n",
            "[valid-parse] JSON files: 100%|██████████| 1006/1006 [00:07<00:00, 125.79file/s]\n"
          ]
        },
        {
          "output_type": "stream",
          "name": "stdout",
          "text": [
            "Parsed items -> train: 10590, valid: 1323\n"
          ]
        },
        {
          "output_type": "stream",
          "name": "stderr",
          "text": [
            "[train-index] build rows: 100%|██████████| 10590/10590 [01:24<00:00, 125.47line/s]\n"
          ]
        },
        {
          "output_type": "stream",
          "name": "stdout",
          "text": [
            "Saved index csv: /content/drive/MyDrive/Data_Creater_Camp/ResNet_Dataset/train/index.csv (10590 rows)\n"
          ]
        },
        {
          "output_type": "stream",
          "name": "stderr",
          "text": [
            "[valid-index] build rows: 100%|██████████| 1323/1323 [00:10<00:00, 126.89line/s]\n"
          ]
        },
        {
          "output_type": "stream",
          "name": "stdout",
          "text": [
            "Saved index csv: /content/drive/MyDrive/Data_Creater_Camp/ResNet_Dataset/valid/index.csv (1323 rows)\n",
            "\n",
            "[train/index.csv head]\n"
          ]
        },
        {
          "output_type": "display_data",
          "data": {
            "text/plain": [
              "                                            img_path  \\\n",
              "0  Training/01.원천데이터/TS_KS/K3A_CHN_20161112052404...   \n",
              "1  Training/01.원천데이터/TS_KS/K3A_CHN_20161112052404...   \n",
              "2  Training/01.원천데이터/TS_KS/K3A_CHN_20161112052404...   \n",
              "3  Training/01.원천데이터/TS_KS/K3A_CHN_20161112052404...   \n",
              "4  Training/01.원천데이터/TS_KS/K3A_CHN_20161112052404...   \n",
              "\n",
              "                        label_file  chi_id  height     x1     y1     x2     y2  \n",
              "0   K3A_CHN_20161112052404_0_1.txt       1   76.78  108.0  378.0  184.0  370.0  \n",
              "1   K3A_CHN_20161112052404_0_2.txt       2   63.81  221.0  402.0  284.0  394.0  \n",
              "2   K3A_CHN_20161112052404_1_1.txt       1   76.78  109.0  122.0  185.0  114.0  \n",
              "3   K3A_CHN_20161112052404_1_2.txt       2   64.81  221.0  146.0  285.0  138.0  \n",
              "4  K3A_CHN_20161112052404_10_1.txt       1  105.08  100.0  236.0  204.0  225.0  "
            ],
            "text/html": [
              "\n",
              "  <div id=\"df-deea87af-7957-4b7b-9ae0-deb868703279\" class=\"colab-df-container\">\n",
              "    <div>\n",
              "<style scoped>\n",
              "    .dataframe tbody tr th:only-of-type {\n",
              "        vertical-align: middle;\n",
              "    }\n",
              "\n",
              "    .dataframe tbody tr th {\n",
              "        vertical-align: top;\n",
              "    }\n",
              "\n",
              "    .dataframe thead th {\n",
              "        text-align: right;\n",
              "    }\n",
              "</style>\n",
              "<table border=\"1\" class=\"dataframe\">\n",
              "  <thead>\n",
              "    <tr style=\"text-align: right;\">\n",
              "      <th></th>\n",
              "      <th>img_path</th>\n",
              "      <th>label_file</th>\n",
              "      <th>chi_id</th>\n",
              "      <th>height</th>\n",
              "      <th>x1</th>\n",
              "      <th>y1</th>\n",
              "      <th>x2</th>\n",
              "      <th>y2</th>\n",
              "    </tr>\n",
              "  </thead>\n",
              "  <tbody>\n",
              "    <tr>\n",
              "      <th>0</th>\n",
              "      <td>Training/01.원천데이터/TS_KS/K3A_CHN_20161112052404...</td>\n",
              "      <td>K3A_CHN_20161112052404_0_1.txt</td>\n",
              "      <td>1</td>\n",
              "      <td>76.78</td>\n",
              "      <td>108.0</td>\n",
              "      <td>378.0</td>\n",
              "      <td>184.0</td>\n",
              "      <td>370.0</td>\n",
              "    </tr>\n",
              "    <tr>\n",
              "      <th>1</th>\n",
              "      <td>Training/01.원천데이터/TS_KS/K3A_CHN_20161112052404...</td>\n",
              "      <td>K3A_CHN_20161112052404_0_2.txt</td>\n",
              "      <td>2</td>\n",
              "      <td>63.81</td>\n",
              "      <td>221.0</td>\n",
              "      <td>402.0</td>\n",
              "      <td>284.0</td>\n",
              "      <td>394.0</td>\n",
              "    </tr>\n",
              "    <tr>\n",
              "      <th>2</th>\n",
              "      <td>Training/01.원천데이터/TS_KS/K3A_CHN_20161112052404...</td>\n",
              "      <td>K3A_CHN_20161112052404_1_1.txt</td>\n",
              "      <td>1</td>\n",
              "      <td>76.78</td>\n",
              "      <td>109.0</td>\n",
              "      <td>122.0</td>\n",
              "      <td>185.0</td>\n",
              "      <td>114.0</td>\n",
              "    </tr>\n",
              "    <tr>\n",
              "      <th>3</th>\n",
              "      <td>Training/01.원천데이터/TS_KS/K3A_CHN_20161112052404...</td>\n",
              "      <td>K3A_CHN_20161112052404_1_2.txt</td>\n",
              "      <td>2</td>\n",
              "      <td>64.81</td>\n",
              "      <td>221.0</td>\n",
              "      <td>146.0</td>\n",
              "      <td>285.0</td>\n",
              "      <td>138.0</td>\n",
              "    </tr>\n",
              "    <tr>\n",
              "      <th>4</th>\n",
              "      <td>Training/01.원천데이터/TS_KS/K3A_CHN_20161112052404...</td>\n",
              "      <td>K3A_CHN_20161112052404_10_1.txt</td>\n",
              "      <td>1</td>\n",
              "      <td>105.08</td>\n",
              "      <td>100.0</td>\n",
              "      <td>236.0</td>\n",
              "      <td>204.0</td>\n",
              "      <td>225.0</td>\n",
              "    </tr>\n",
              "  </tbody>\n",
              "</table>\n",
              "</div>\n",
              "    <div class=\"colab-df-buttons\">\n",
              "\n",
              "  <div class=\"colab-df-container\">\n",
              "    <button class=\"colab-df-convert\" onclick=\"convertToInteractive('df-deea87af-7957-4b7b-9ae0-deb868703279')\"\n",
              "            title=\"Convert this dataframe to an interactive table.\"\n",
              "            style=\"display:none;\">\n",
              "\n",
              "  <svg xmlns=\"http://www.w3.org/2000/svg\" height=\"24px\" viewBox=\"0 -960 960 960\">\n",
              "    <path d=\"M120-120v-720h720v720H120Zm60-500h600v-160H180v160Zm220 220h160v-160H400v160Zm0 220h160v-160H400v160ZM180-400h160v-160H180v160Zm440 0h160v-160H620v160ZM180-180h160v-160H180v160Zm440 0h160v-160H620v160Z\"/>\n",
              "  </svg>\n",
              "    </button>\n",
              "\n",
              "  <style>\n",
              "    .colab-df-container {\n",
              "      display:flex;\n",
              "      gap: 12px;\n",
              "    }\n",
              "\n",
              "    .colab-df-convert {\n",
              "      background-color: #E8F0FE;\n",
              "      border: none;\n",
              "      border-radius: 50%;\n",
              "      cursor: pointer;\n",
              "      display: none;\n",
              "      fill: #1967D2;\n",
              "      height: 32px;\n",
              "      padding: 0 0 0 0;\n",
              "      width: 32px;\n",
              "    }\n",
              "\n",
              "    .colab-df-convert:hover {\n",
              "      background-color: #E2EBFA;\n",
              "      box-shadow: 0px 1px 2px rgba(60, 64, 67, 0.3), 0px 1px 3px 1px rgba(60, 64, 67, 0.15);\n",
              "      fill: #174EA6;\n",
              "    }\n",
              "\n",
              "    .colab-df-buttons div {\n",
              "      margin-bottom: 4px;\n",
              "    }\n",
              "\n",
              "    [theme=dark] .colab-df-convert {\n",
              "      background-color: #3B4455;\n",
              "      fill: #D2E3FC;\n",
              "    }\n",
              "\n",
              "    [theme=dark] .colab-df-convert:hover {\n",
              "      background-color: #434B5C;\n",
              "      box-shadow: 0px 1px 3px 1px rgba(0, 0, 0, 0.15);\n",
              "      filter: drop-shadow(0px 1px 2px rgba(0, 0, 0, 0.3));\n",
              "      fill: #FFFFFF;\n",
              "    }\n",
              "  </style>\n",
              "\n",
              "    <script>\n",
              "      const buttonEl =\n",
              "        document.querySelector('#df-deea87af-7957-4b7b-9ae0-deb868703279 button.colab-df-convert');\n",
              "      buttonEl.style.display =\n",
              "        google.colab.kernel.accessAllowed ? 'block' : 'none';\n",
              "\n",
              "      async function convertToInteractive(key) {\n",
              "        const element = document.querySelector('#df-deea87af-7957-4b7b-9ae0-deb868703279');\n",
              "        const dataTable =\n",
              "          await google.colab.kernel.invokeFunction('convertToInteractive',\n",
              "                                                    [key], {});\n",
              "        if (!dataTable) return;\n",
              "\n",
              "        const docLinkHtml = 'Like what you see? Visit the ' +\n",
              "          '<a target=\"_blank\" href=https://colab.research.google.com/notebooks/data_table.ipynb>data table notebook</a>'\n",
              "          + ' to learn more about interactive tables.';\n",
              "        element.innerHTML = '';\n",
              "        dataTable['output_type'] = 'display_data';\n",
              "        await google.colab.output.renderOutput(dataTable, element);\n",
              "        const docLink = document.createElement('div');\n",
              "        docLink.innerHTML = docLinkHtml;\n",
              "        element.appendChild(docLink);\n",
              "      }\n",
              "    </script>\n",
              "  </div>\n",
              "\n",
              "\n",
              "    <div id=\"df-d8f23dee-8806-4654-89e7-dec7cc8d8a42\">\n",
              "      <button class=\"colab-df-quickchart\" onclick=\"quickchart('df-d8f23dee-8806-4654-89e7-dec7cc8d8a42')\"\n",
              "                title=\"Suggest charts\"\n",
              "                style=\"display:none;\">\n",
              "\n",
              "<svg xmlns=\"http://www.w3.org/2000/svg\" height=\"24px\"viewBox=\"0 0 24 24\"\n",
              "     width=\"24px\">\n",
              "    <g>\n",
              "        <path d=\"M19 3H5c-1.1 0-2 .9-2 2v14c0 1.1.9 2 2 2h14c1.1 0 2-.9 2-2V5c0-1.1-.9-2-2-2zM9 17H7v-7h2v7zm4 0h-2V7h2v10zm4 0h-2v-4h2v4z\"/>\n",
              "    </g>\n",
              "</svg>\n",
              "      </button>\n",
              "\n",
              "<style>\n",
              "  .colab-df-quickchart {\n",
              "      --bg-color: #E8F0FE;\n",
              "      --fill-color: #1967D2;\n",
              "      --hover-bg-color: #E2EBFA;\n",
              "      --hover-fill-color: #174EA6;\n",
              "      --disabled-fill-color: #AAA;\n",
              "      --disabled-bg-color: #DDD;\n",
              "  }\n",
              "\n",
              "  [theme=dark] .colab-df-quickchart {\n",
              "      --bg-color: #3B4455;\n",
              "      --fill-color: #D2E3FC;\n",
              "      --hover-bg-color: #434B5C;\n",
              "      --hover-fill-color: #FFFFFF;\n",
              "      --disabled-bg-color: #3B4455;\n",
              "      --disabled-fill-color: #666;\n",
              "  }\n",
              "\n",
              "  .colab-df-quickchart {\n",
              "    background-color: var(--bg-color);\n",
              "    border: none;\n",
              "    border-radius: 50%;\n",
              "    cursor: pointer;\n",
              "    display: none;\n",
              "    fill: var(--fill-color);\n",
              "    height: 32px;\n",
              "    padding: 0;\n",
              "    width: 32px;\n",
              "  }\n",
              "\n",
              "  .colab-df-quickchart:hover {\n",
              "    background-color: var(--hover-bg-color);\n",
              "    box-shadow: 0 1px 2px rgba(60, 64, 67, 0.3), 0 1px 3px 1px rgba(60, 64, 67, 0.15);\n",
              "    fill: var(--button-hover-fill-color);\n",
              "  }\n",
              "\n",
              "  .colab-df-quickchart-complete:disabled,\n",
              "  .colab-df-quickchart-complete:disabled:hover {\n",
              "    background-color: var(--disabled-bg-color);\n",
              "    fill: var(--disabled-fill-color);\n",
              "    box-shadow: none;\n",
              "  }\n",
              "\n",
              "  .colab-df-spinner {\n",
              "    border: 2px solid var(--fill-color);\n",
              "    border-color: transparent;\n",
              "    border-bottom-color: var(--fill-color);\n",
              "    animation:\n",
              "      spin 1s steps(1) infinite;\n",
              "  }\n",
              "\n",
              "  @keyframes spin {\n",
              "    0% {\n",
              "      border-color: transparent;\n",
              "      border-bottom-color: var(--fill-color);\n",
              "      border-left-color: var(--fill-color);\n",
              "    }\n",
              "    20% {\n",
              "      border-color: transparent;\n",
              "      border-left-color: var(--fill-color);\n",
              "      border-top-color: var(--fill-color);\n",
              "    }\n",
              "    30% {\n",
              "      border-color: transparent;\n",
              "      border-left-color: var(--fill-color);\n",
              "      border-top-color: var(--fill-color);\n",
              "      border-right-color: var(--fill-color);\n",
              "    }\n",
              "    40% {\n",
              "      border-color: transparent;\n",
              "      border-right-color: var(--fill-color);\n",
              "      border-top-color: var(--fill-color);\n",
              "    }\n",
              "    60% {\n",
              "      border-color: transparent;\n",
              "      border-right-color: var(--fill-color);\n",
              "    }\n",
              "    80% {\n",
              "      border-color: transparent;\n",
              "      border-right-color: var(--fill-color);\n",
              "      border-bottom-color: var(--fill-color);\n",
              "    }\n",
              "    90% {\n",
              "      border-color: transparent;\n",
              "      border-bottom-color: var(--fill-color);\n",
              "    }\n",
              "  }\n",
              "</style>\n",
              "\n",
              "      <script>\n",
              "        async function quickchart(key) {\n",
              "          const quickchartButtonEl =\n",
              "            document.querySelector('#' + key + ' button');\n",
              "          quickchartButtonEl.disabled = true;  // To prevent multiple clicks.\n",
              "          quickchartButtonEl.classList.add('colab-df-spinner');\n",
              "          try {\n",
              "            const charts = await google.colab.kernel.invokeFunction(\n",
              "                'suggestCharts', [key], {});\n",
              "          } catch (error) {\n",
              "            console.error('Error during call to suggestCharts:', error);\n",
              "          }\n",
              "          quickchartButtonEl.classList.remove('colab-df-spinner');\n",
              "          quickchartButtonEl.classList.add('colab-df-quickchart-complete');\n",
              "        }\n",
              "        (() => {\n",
              "          let quickchartButtonEl =\n",
              "            document.querySelector('#df-d8f23dee-8806-4654-89e7-dec7cc8d8a42 button');\n",
              "          quickchartButtonEl.style.display =\n",
              "            google.colab.kernel.accessAllowed ? 'block' : 'none';\n",
              "        })();\n",
              "      </script>\n",
              "    </div>\n",
              "\n",
              "    </div>\n",
              "  </div>\n"
            ],
            "application/vnd.google.colaboratory.intrinsic+json": {
              "type": "dataframe",
              "summary": "{\n  \"name\": \"    display(pd\",\n  \"rows\": 5,\n  \"fields\": [\n    {\n      \"column\": \"img_path\",\n      \"properties\": {\n        \"dtype\": \"string\",\n        \"num_unique_values\": 3,\n        \"samples\": [\n          \"Training/01.\\uc6d0\\ucc9c\\ub370\\uc774\\ud130/TS_KS/K3A_CHN_20161112052404_0.jpg\",\n          \"Training/01.\\uc6d0\\ucc9c\\ub370\\uc774\\ud130/TS_KS/K3A_CHN_20161112052404_1.jpg\",\n          \"Training/01.\\uc6d0\\ucc9c\\ub370\\uc774\\ud130/TS_KS/K3A_CHN_20161112052404_10.jpg\"\n        ],\n        \"semantic_type\": \"\",\n        \"description\": \"\"\n      }\n    },\n    {\n      \"column\": \"label_file\",\n      \"properties\": {\n        \"dtype\": \"string\",\n        \"num_unique_values\": 5,\n        \"samples\": [\n          \"K3A_CHN_20161112052404_0_2.txt\",\n          \"K3A_CHN_20161112052404_10_1.txt\",\n          \"K3A_CHN_20161112052404_1_1.txt\"\n        ],\n        \"semantic_type\": \"\",\n        \"description\": \"\"\n      }\n    },\n    {\n      \"column\": \"chi_id\",\n      \"properties\": {\n        \"dtype\": \"number\",\n        \"std\": 0,\n        \"min\": 1,\n        \"max\": 2,\n        \"num_unique_values\": 2,\n        \"samples\": [\n          2,\n          1\n        ],\n        \"semantic_type\": \"\",\n        \"description\": \"\"\n      }\n    },\n    {\n      \"column\": \"height\",\n      \"properties\": {\n        \"dtype\": \"number\",\n        \"std\": 16.659335821094427,\n        \"min\": 63.81,\n        \"max\": 105.08,\n        \"num_unique_values\": 4,\n        \"samples\": [\n          63.81,\n          105.08\n        ],\n        \"semantic_type\": \"\",\n        \"description\": \"\"\n      }\n    },\n    {\n      \"column\": \"x1\",\n      \"properties\": {\n        \"dtype\": \"number\",\n        \"std\": 63.26689497675701,\n        \"min\": 100.0,\n        \"max\": 221.0,\n        \"num_unique_values\": 4,\n        \"samples\": [\n          221.0,\n          100.0\n        ],\n        \"semantic_type\": \"\",\n        \"description\": \"\"\n      }\n    },\n    {\n      \"column\": \"y1\",\n      \"properties\": {\n        \"dtype\": \"number\",\n        \"std\": 129.0860178330713,\n        \"min\": 122.0,\n        \"max\": 402.0,\n        \"num_unique_values\": 5,\n        \"samples\": [\n          402.0,\n          236.0\n        ],\n        \"semantic_type\": \"\",\n        \"description\": \"\"\n      }\n    },\n    {\n      \"column\": \"x2\",\n      \"properties\": {\n        \"dtype\": \"number\",\n        \"std\": 51.82952826333653,\n        \"min\": 184.0,\n        \"max\": 285.0,\n        \"num_unique_values\": 5,\n        \"samples\": [\n          284.0,\n          204.0\n        ],\n        \"semantic_type\": \"\",\n        \"description\": \"\"\n      }\n    },\n    {\n      \"column\": \"y2\",\n      \"properties\": {\n        \"dtype\": \"number\",\n        \"std\": 129.21377635530973,\n        \"min\": 114.0,\n        \"max\": 394.0,\n        \"num_unique_values\": 5,\n        \"samples\": [\n          394.0,\n          225.0\n        ],\n        \"semantic_type\": \"\",\n        \"description\": \"\"\n      }\n    }\n  ]\n}"
            }
          },
          "metadata": {}
        },
        {
          "output_type": "stream",
          "name": "stdout",
          "text": [
            "\n",
            "[valid/index.csv head]\n"
          ]
        },
        {
          "output_type": "display_data",
          "data": {
            "text/plain": [
              "                                            img_path  \\\n",
              "0  Validation/01.원천데이터/VS_KS/K3A_CHN_201611120524...   \n",
              "1  Validation/01.원천데이터/VS_KS/K3A_CHN_201701150511...   \n",
              "2  Validation/01.원천데이터/VS_KS/K3A_CHN_201701230521...   \n",
              "3  Validation/01.원천데이터/VS_KS/K3A_CHN_201701230521...   \n",
              "4  Validation/01.원천데이터/VS_KS/K3A_CHN_201701230521...   \n",
              "\n",
              "                        label_file  chi_id  height     x1     y1     x2     y2  \n",
              "0  K3A_CHN_20161112052404_15_1.txt       1  137.59  132.0  412.0  268.0  396.0  \n",
              "1   K3A_CHN_20170115051130_1_1.txt       1  108.90  389.0  112.0  457.0  101.0  \n",
              "2   K3A_CHN_20170123052151_1_1.txt       1  107.28  328.0  137.0  382.0  128.0  \n",
              "3  K3A_CHN_20170123052151_14_1.txt       1   99.56  444.0  132.0  494.0  123.0  \n",
              "4  K3A_CHN_20170123052151_22_1.txt       1  113.09  140.0  173.0  197.0  164.0  "
            ],
            "text/html": [
              "\n",
              "  <div id=\"df-92bddc95-64bf-47e2-b3ea-6c7daed08ffb\" class=\"colab-df-container\">\n",
              "    <div>\n",
              "<style scoped>\n",
              "    .dataframe tbody tr th:only-of-type {\n",
              "        vertical-align: middle;\n",
              "    }\n",
              "\n",
              "    .dataframe tbody tr th {\n",
              "        vertical-align: top;\n",
              "    }\n",
              "\n",
              "    .dataframe thead th {\n",
              "        text-align: right;\n",
              "    }\n",
              "</style>\n",
              "<table border=\"1\" class=\"dataframe\">\n",
              "  <thead>\n",
              "    <tr style=\"text-align: right;\">\n",
              "      <th></th>\n",
              "      <th>img_path</th>\n",
              "      <th>label_file</th>\n",
              "      <th>chi_id</th>\n",
              "      <th>height</th>\n",
              "      <th>x1</th>\n",
              "      <th>y1</th>\n",
              "      <th>x2</th>\n",
              "      <th>y2</th>\n",
              "    </tr>\n",
              "  </thead>\n",
              "  <tbody>\n",
              "    <tr>\n",
              "      <th>0</th>\n",
              "      <td>Validation/01.원천데이터/VS_KS/K3A_CHN_201611120524...</td>\n",
              "      <td>K3A_CHN_20161112052404_15_1.txt</td>\n",
              "      <td>1</td>\n",
              "      <td>137.59</td>\n",
              "      <td>132.0</td>\n",
              "      <td>412.0</td>\n",
              "      <td>268.0</td>\n",
              "      <td>396.0</td>\n",
              "    </tr>\n",
              "    <tr>\n",
              "      <th>1</th>\n",
              "      <td>Validation/01.원천데이터/VS_KS/K3A_CHN_201701150511...</td>\n",
              "      <td>K3A_CHN_20170115051130_1_1.txt</td>\n",
              "      <td>1</td>\n",
              "      <td>108.90</td>\n",
              "      <td>389.0</td>\n",
              "      <td>112.0</td>\n",
              "      <td>457.0</td>\n",
              "      <td>101.0</td>\n",
              "    </tr>\n",
              "    <tr>\n",
              "      <th>2</th>\n",
              "      <td>Validation/01.원천데이터/VS_KS/K3A_CHN_201701230521...</td>\n",
              "      <td>K3A_CHN_20170123052151_1_1.txt</td>\n",
              "      <td>1</td>\n",
              "      <td>107.28</td>\n",
              "      <td>328.0</td>\n",
              "      <td>137.0</td>\n",
              "      <td>382.0</td>\n",
              "      <td>128.0</td>\n",
              "    </tr>\n",
              "    <tr>\n",
              "      <th>3</th>\n",
              "      <td>Validation/01.원천데이터/VS_KS/K3A_CHN_201701230521...</td>\n",
              "      <td>K3A_CHN_20170123052151_14_1.txt</td>\n",
              "      <td>1</td>\n",
              "      <td>99.56</td>\n",
              "      <td>444.0</td>\n",
              "      <td>132.0</td>\n",
              "      <td>494.0</td>\n",
              "      <td>123.0</td>\n",
              "    </tr>\n",
              "    <tr>\n",
              "      <th>4</th>\n",
              "      <td>Validation/01.원천데이터/VS_KS/K3A_CHN_201701230521...</td>\n",
              "      <td>K3A_CHN_20170123052151_22_1.txt</td>\n",
              "      <td>1</td>\n",
              "      <td>113.09</td>\n",
              "      <td>140.0</td>\n",
              "      <td>173.0</td>\n",
              "      <td>197.0</td>\n",
              "      <td>164.0</td>\n",
              "    </tr>\n",
              "  </tbody>\n",
              "</table>\n",
              "</div>\n",
              "    <div class=\"colab-df-buttons\">\n",
              "\n",
              "  <div class=\"colab-df-container\">\n",
              "    <button class=\"colab-df-convert\" onclick=\"convertToInteractive('df-92bddc95-64bf-47e2-b3ea-6c7daed08ffb')\"\n",
              "            title=\"Convert this dataframe to an interactive table.\"\n",
              "            style=\"display:none;\">\n",
              "\n",
              "  <svg xmlns=\"http://www.w3.org/2000/svg\" height=\"24px\" viewBox=\"0 -960 960 960\">\n",
              "    <path d=\"M120-120v-720h720v720H120Zm60-500h600v-160H180v160Zm220 220h160v-160H400v160Zm0 220h160v-160H400v160ZM180-400h160v-160H180v160Zm440 0h160v-160H620v160ZM180-180h160v-160H180v160Zm440 0h160v-160H620v160Z\"/>\n",
              "  </svg>\n",
              "    </button>\n",
              "\n",
              "  <style>\n",
              "    .colab-df-container {\n",
              "      display:flex;\n",
              "      gap: 12px;\n",
              "    }\n",
              "\n",
              "    .colab-df-convert {\n",
              "      background-color: #E8F0FE;\n",
              "      border: none;\n",
              "      border-radius: 50%;\n",
              "      cursor: pointer;\n",
              "      display: none;\n",
              "      fill: #1967D2;\n",
              "      height: 32px;\n",
              "      padding: 0 0 0 0;\n",
              "      width: 32px;\n",
              "    }\n",
              "\n",
              "    .colab-df-convert:hover {\n",
              "      background-color: #E2EBFA;\n",
              "      box-shadow: 0px 1px 2px rgba(60, 64, 67, 0.3), 0px 1px 3px 1px rgba(60, 64, 67, 0.15);\n",
              "      fill: #174EA6;\n",
              "    }\n",
              "\n",
              "    .colab-df-buttons div {\n",
              "      margin-bottom: 4px;\n",
              "    }\n",
              "\n",
              "    [theme=dark] .colab-df-convert {\n",
              "      background-color: #3B4455;\n",
              "      fill: #D2E3FC;\n",
              "    }\n",
              "\n",
              "    [theme=dark] .colab-df-convert:hover {\n",
              "      background-color: #434B5C;\n",
              "      box-shadow: 0px 1px 3px 1px rgba(0, 0, 0, 0.15);\n",
              "      filter: drop-shadow(0px 1px 2px rgba(0, 0, 0, 0.3));\n",
              "      fill: #FFFFFF;\n",
              "    }\n",
              "  </style>\n",
              "\n",
              "    <script>\n",
              "      const buttonEl =\n",
              "        document.querySelector('#df-92bddc95-64bf-47e2-b3ea-6c7daed08ffb button.colab-df-convert');\n",
              "      buttonEl.style.display =\n",
              "        google.colab.kernel.accessAllowed ? 'block' : 'none';\n",
              "\n",
              "      async function convertToInteractive(key) {\n",
              "        const element = document.querySelector('#df-92bddc95-64bf-47e2-b3ea-6c7daed08ffb');\n",
              "        const dataTable =\n",
              "          await google.colab.kernel.invokeFunction('convertToInteractive',\n",
              "                                                    [key], {});\n",
              "        if (!dataTable) return;\n",
              "\n",
              "        const docLinkHtml = 'Like what you see? Visit the ' +\n",
              "          '<a target=\"_blank\" href=https://colab.research.google.com/notebooks/data_table.ipynb>data table notebook</a>'\n",
              "          + ' to learn more about interactive tables.';\n",
              "        element.innerHTML = '';\n",
              "        dataTable['output_type'] = 'display_data';\n",
              "        await google.colab.output.renderOutput(dataTable, element);\n",
              "        const docLink = document.createElement('div');\n",
              "        docLink.innerHTML = docLinkHtml;\n",
              "        element.appendChild(docLink);\n",
              "      }\n",
              "    </script>\n",
              "  </div>\n",
              "\n",
              "\n",
              "    <div id=\"df-04850f46-a552-4ffa-a29e-6c394f9d2a67\">\n",
              "      <button class=\"colab-df-quickchart\" onclick=\"quickchart('df-04850f46-a552-4ffa-a29e-6c394f9d2a67')\"\n",
              "                title=\"Suggest charts\"\n",
              "                style=\"display:none;\">\n",
              "\n",
              "<svg xmlns=\"http://www.w3.org/2000/svg\" height=\"24px\"viewBox=\"0 0 24 24\"\n",
              "     width=\"24px\">\n",
              "    <g>\n",
              "        <path d=\"M19 3H5c-1.1 0-2 .9-2 2v14c0 1.1.9 2 2 2h14c1.1 0 2-.9 2-2V5c0-1.1-.9-2-2-2zM9 17H7v-7h2v7zm4 0h-2V7h2v10zm4 0h-2v-4h2v4z\"/>\n",
              "    </g>\n",
              "</svg>\n",
              "      </button>\n",
              "\n",
              "<style>\n",
              "  .colab-df-quickchart {\n",
              "      --bg-color: #E8F0FE;\n",
              "      --fill-color: #1967D2;\n",
              "      --hover-bg-color: #E2EBFA;\n",
              "      --hover-fill-color: #174EA6;\n",
              "      --disabled-fill-color: #AAA;\n",
              "      --disabled-bg-color: #DDD;\n",
              "  }\n",
              "\n",
              "  [theme=dark] .colab-df-quickchart {\n",
              "      --bg-color: #3B4455;\n",
              "      --fill-color: #D2E3FC;\n",
              "      --hover-bg-color: #434B5C;\n",
              "      --hover-fill-color: #FFFFFF;\n",
              "      --disabled-bg-color: #3B4455;\n",
              "      --disabled-fill-color: #666;\n",
              "  }\n",
              "\n",
              "  .colab-df-quickchart {\n",
              "    background-color: var(--bg-color);\n",
              "    border: none;\n",
              "    border-radius: 50%;\n",
              "    cursor: pointer;\n",
              "    display: none;\n",
              "    fill: var(--fill-color);\n",
              "    height: 32px;\n",
              "    padding: 0;\n",
              "    width: 32px;\n",
              "  }\n",
              "\n",
              "  .colab-df-quickchart:hover {\n",
              "    background-color: var(--hover-bg-color);\n",
              "    box-shadow: 0 1px 2px rgba(60, 64, 67, 0.3), 0 1px 3px 1px rgba(60, 64, 67, 0.15);\n",
              "    fill: var(--button-hover-fill-color);\n",
              "  }\n",
              "\n",
              "  .colab-df-quickchart-complete:disabled,\n",
              "  .colab-df-quickchart-complete:disabled:hover {\n",
              "    background-color: var(--disabled-bg-color);\n",
              "    fill: var(--disabled-fill-color);\n",
              "    box-shadow: none;\n",
              "  }\n",
              "\n",
              "  .colab-df-spinner {\n",
              "    border: 2px solid var(--fill-color);\n",
              "    border-color: transparent;\n",
              "    border-bottom-color: var(--fill-color);\n",
              "    animation:\n",
              "      spin 1s steps(1) infinite;\n",
              "  }\n",
              "\n",
              "  @keyframes spin {\n",
              "    0% {\n",
              "      border-color: transparent;\n",
              "      border-bottom-color: var(--fill-color);\n",
              "      border-left-color: var(--fill-color);\n",
              "    }\n",
              "    20% {\n",
              "      border-color: transparent;\n",
              "      border-left-color: var(--fill-color);\n",
              "      border-top-color: var(--fill-color);\n",
              "    }\n",
              "    30% {\n",
              "      border-color: transparent;\n",
              "      border-left-color: var(--fill-color);\n",
              "      border-top-color: var(--fill-color);\n",
              "      border-right-color: var(--fill-color);\n",
              "    }\n",
              "    40% {\n",
              "      border-color: transparent;\n",
              "      border-right-color: var(--fill-color);\n",
              "      border-top-color: var(--fill-color);\n",
              "    }\n",
              "    60% {\n",
              "      border-color: transparent;\n",
              "      border-right-color: var(--fill-color);\n",
              "    }\n",
              "    80% {\n",
              "      border-color: transparent;\n",
              "      border-right-color: var(--fill-color);\n",
              "      border-bottom-color: var(--fill-color);\n",
              "    }\n",
              "    90% {\n",
              "      border-color: transparent;\n",
              "      border-bottom-color: var(--fill-color);\n",
              "    }\n",
              "  }\n",
              "</style>\n",
              "\n",
              "      <script>\n",
              "        async function quickchart(key) {\n",
              "          const quickchartButtonEl =\n",
              "            document.querySelector('#' + key + ' button');\n",
              "          quickchartButtonEl.disabled = true;  // To prevent multiple clicks.\n",
              "          quickchartButtonEl.classList.add('colab-df-spinner');\n",
              "          try {\n",
              "            const charts = await google.colab.kernel.invokeFunction(\n",
              "                'suggestCharts', [key], {});\n",
              "          } catch (error) {\n",
              "            console.error('Error during call to suggestCharts:', error);\n",
              "          }\n",
              "          quickchartButtonEl.classList.remove('colab-df-spinner');\n",
              "          quickchartButtonEl.classList.add('colab-df-quickchart-complete');\n",
              "        }\n",
              "        (() => {\n",
              "          let quickchartButtonEl =\n",
              "            document.querySelector('#df-04850f46-a552-4ffa-a29e-6c394f9d2a67 button');\n",
              "          quickchartButtonEl.style.display =\n",
              "            google.colab.kernel.accessAllowed ? 'block' : 'none';\n",
              "        })();\n",
              "      </script>\n",
              "    </div>\n",
              "\n",
              "    </div>\n",
              "  </div>\n"
            ],
            "application/vnd.google.colaboratory.intrinsic+json": {
              "type": "dataframe",
              "summary": "{\n  \"name\": \"    display(pd\",\n  \"rows\": 5,\n  \"fields\": [\n    {\n      \"column\": \"img_path\",\n      \"properties\": {\n        \"dtype\": \"string\",\n        \"num_unique_values\": 5,\n        \"samples\": [\n          \"Validation/01.\\uc6d0\\ucc9c\\ub370\\uc774\\ud130/VS_KS/K3A_CHN_20170115051130_1.jpg\",\n          \"Validation/01.\\uc6d0\\ucc9c\\ub370\\uc774\\ud130/VS_KS/K3A_CHN_20170123052151_22.jpg\",\n          \"Validation/01.\\uc6d0\\ucc9c\\ub370\\uc774\\ud130/VS_KS/K3A_CHN_20170123052151_1.jpg\"\n        ],\n        \"semantic_type\": \"\",\n        \"description\": \"\"\n      }\n    },\n    {\n      \"column\": \"label_file\",\n      \"properties\": {\n        \"dtype\": \"string\",\n        \"num_unique_values\": 5,\n        \"samples\": [\n          \"K3A_CHN_20170115051130_1_1.txt\",\n          \"K3A_CHN_20170123052151_22_1.txt\",\n          \"K3A_CHN_20170123052151_1_1.txt\"\n        ],\n        \"semantic_type\": \"\",\n        \"description\": \"\"\n      }\n    },\n    {\n      \"column\": \"chi_id\",\n      \"properties\": {\n        \"dtype\": \"number\",\n        \"std\": 0,\n        \"min\": 1,\n        \"max\": 1,\n        \"num_unique_values\": 1,\n        \"samples\": [\n          1\n        ],\n        \"semantic_type\": \"\",\n        \"description\": \"\"\n      }\n    },\n    {\n      \"column\": \"height\",\n      \"properties\": {\n        \"dtype\": \"number\",\n        \"std\": 14.443293599453002,\n        \"min\": 99.56,\n        \"max\": 137.59,\n        \"num_unique_values\": 5,\n        \"samples\": [\n          108.9\n        ],\n        \"semantic_type\": \"\",\n        \"description\": \"\"\n      }\n    },\n    {\n      \"column\": \"x1\",\n      \"properties\": {\n        \"dtype\": \"number\",\n        \"std\": 143.498432047183,\n        \"min\": 132.0,\n        \"max\": 444.0,\n        \"num_unique_values\": 5,\n        \"samples\": [\n          389.0\n        ],\n        \"semantic_type\": \"\",\n        \"description\": \"\"\n      }\n    },\n    {\n      \"column\": \"y1\",\n      \"properties\": {\n        \"dtype\": \"number\",\n        \"std\": 124.27670739120826,\n        \"min\": 112.0,\n        \"max\": 412.0,\n        \"num_unique_values\": 5,\n        \"samples\": [\n          112.0\n        ],\n        \"semantic_type\": \"\",\n        \"description\": \"\"\n      }\n    },\n    {\n      \"column\": \"x2\",\n      \"properties\": {\n        \"dtype\": \"number\",\n        \"std\": 125.38062051210306,\n        \"min\": 197.0,\n        \"max\": 494.0,\n        \"num_unique_values\": 5,\n        \"samples\": [\n          457.0\n        ],\n        \"semantic_type\": \"\",\n        \"description\": \"\"\n      }\n    },\n    {\n      \"column\": \"y2\",\n      \"properties\": {\n        \"dtype\": \"number\",\n        \"std\": 121.5290088826532,\n        \"min\": 101.0,\n        \"max\": 396.0,\n        \"num_unique_values\": 5,\n        \"samples\": [\n          101.0\n        ],\n        \"semantic_type\": \"\",\n        \"description\": \"\"\n      }\n    }\n  ]\n}"
            }
          },
          "metadata": {}
        }
      ]
    },
    {
      "cell_type": "code",
      "source": [
        "# ImageNet 정규화\n",
        "IMAGENET_MEAN = [0.485, 0.456, 0.406]\n",
        "IMAGENET_STD  = [0.229, 0.224, 0.225]\n",
        "\n",
        "# 학습용: (필요시) 약한 증강 허용 — 검증셋은 별도로 augmentation 미적용 구성 사용\n",
        "train_transform = transforms.Compose([\n",
        "    transforms.RandomHorizontalFlip(p=0.5),   # 허용\n",
        "    transforms.ToTensor(),\n",
        "    transforms.Normalize(mean=IMAGENET_MEAN, std=IMAGENET_STD),\n",
        "])\n",
        "\n",
        "# 검증용: 증강 금지 (표준화만)\n",
        "valid_transform = transforms.Compose([\n",
        "    transforms.ToTensor(),\n",
        "    transforms.Normalize(mean=IMAGENET_MEAN, std=IMAGENET_STD),\n",
        "])\n",
        "\n",
        "# ---- Dataset & DataLoader ----\n",
        "train_ds = IndexCSVHeightDataset(index_csv=str(train_index_csv), data_root=DATA_ROOT, transform=train_transform, forbid_aug=False)\n",
        "valid_ds = IndexCSVHeightDataset(index_csv=str(valid_index_csv), data_root=DATA_ROOT, transform=valid_transform, forbid_aug=True)\n",
        "\n",
        "train_loader = DataLoader(train_ds, batch_size=32, shuffle=True, num_workers=2, pin_memory=True)\n",
        "valid_loader = DataLoader(valid_ds, batch_size=32, shuffle=False, num_workers=2, pin_memory=True)\n",
        "\n",
        "len(train_ds), len(valid_ds)\n"
      ],
      "metadata": {
        "colab": {
          "base_uri": "https://localhost:8080/"
        },
        "id": "5Ke_HQuScHru",
        "outputId": "d7e02be1-f31e-475b-e113-2b4c535827f5"
      },
      "execution_count": 47,
      "outputs": [
        {
          "output_type": "execute_result",
          "data": {
            "text/plain": [
              "(10590, 1323)"
            ]
          },
          "metadata": {},
          "execution_count": 47
        }
      ]
    },
    {
      "cell_type": "markdown",
      "source": [
        "# ====== TEST ======"
      ],
      "metadata": {
        "id": "3d45uKS7bkiE"
      }
    },
    {
      "cell_type": "markdown",
      "source": [
        "## Transforms"
      ],
      "metadata": {
        "id": "lJLvKb3SWpeZ"
      }
    },
    {
      "cell_type": "code",
      "source": [
        "# # ImageNet 정규화\n",
        "# IMAGENET_MEAN = [0.485, 0.456, 0.406]\n",
        "# IMAGENET_STD  = [0.229, 0.224, 0.225]\n",
        "\n",
        "# # 학습용: (필요시) 약한 증강 허용 — 검증셋은 별도로 augmentation 미적용 구성 사용\n",
        "# train_transform = transforms.Compose([\n",
        "#     transforms.RandomHorizontalFlip(p=0.5),   # 허용\n",
        "#     transforms.ToTensor(),\n",
        "#     transforms.Normalize(mean=IMAGENET_MEAN, std=IMAGENET_STD),\n",
        "# ])\n",
        "\n",
        "# # 검증용: 증강 금지 (표준화만)\n",
        "# valid_transform = transforms.Compose([\n",
        "#     transforms.ToTensor(),\n",
        "#     transforms.Normalize(mean=IMAGENET_MEAN, std=IMAGENET_STD),\n",
        "# ])\n",
        "\n",
        "# # ---- Dataset & DataLoader ----\n",
        "# train_ds = IndexCSVHeightDataset(index_csv=str(train_index_csv), data_root=DATA_ROOT, transform=train_transform, forbid_aug=False)\n",
        "# valid_ds = IndexCSVHeightDataset(index_csv=str(valid_index_csv), data_root=DATA_ROOT, transform=valid_transform, forbid_aug=True)\n",
        "\n",
        "# train_loader = DataLoader(train_ds, batch_size=32, shuffle=True, num_workers=2, pin_memory=True)\n",
        "# valid_loader = DataLoader(valid_ds, batch_size=32, shuffle=False, num_workers=2, pin_memory=True)\n",
        "\n",
        "# print(f\"Train size: {len(train_ds)}, Valid size: {len(valid_ds)}\")\n"
      ],
      "metadata": {
        "id": "-GHAL46kWoa7"
      },
      "execution_count": 48,
      "outputs": []
    },
    {
      "cell_type": "markdown",
      "source": [
        "# 모델 학습(AMP) 및 평가 함수"
      ],
      "metadata": {
        "id": "S2f9N74OXCst"
      }
    },
    {
      "cell_type": "code",
      "source": [
        "ㅇ# 모델\n",
        "weights = ResNet18_Weights.IMAGENET1K_V1\n",
        "model = resnet18(weights=weights)\n",
        "\n",
        "# 회귀 헤더 교체\n",
        "in_features = model.fc.in_features\n",
        "model.fc = nn.Linear(model.fc.in_features, 1)\n",
        "model = model.to(DEVICE)\n",
        "\n",
        "# Optim, Loss\n",
        "criterion = nn.MSELoss()\n",
        "optimizer = optim.Adam(model.parameters(), lr = 3e-4)\n",
        "\n",
        "# AMP\n",
        "scaler = torch.cuda.amp.GradScaler(enabled=(DEVICE.type == \"cuda\"))\n",
        "\n",
        "# Utilities\n",
        "def rmse_from_mse(mse_val: float) -> float:\n",
        "  return float(np.sqrt(mse_val))\n",
        "\n",
        "def train_one_epoch(model, loader, optimizer, device=DEVICE, epoch=None):\n",
        "    model.train()\n",
        "    total_loss, n = 0.0, 0\n",
        "    iterator = tqdm(loader,\n",
        "                    desc=f\"[train] epoch {epoch}\" if epoch is not None else \"[train]\",\n",
        "                    unit=\"batch\", leave=False)\n",
        "\n",
        "    for images, targets in iterator:\n",
        "        images = images.to(device, non_blocking=True)\n",
        "        targets = targets.to(device, non_blocking=True)\n",
        "\n",
        "        optimizer.zero_grad(set_to_none=True)\n",
        "        with torch.cuda.amp.autocast(enabled=(device.type == \"cuda\")):\n",
        "            outputs = model(images)\n",
        "            loss = criterion(outputs, targets)\n",
        "\n",
        "        scaler.scale(loss).backward()\n",
        "        scaler.step(optimizer)\n",
        "        scaler.update()\n",
        "\n",
        "        total_loss += loss.item() * images.size(0)\n",
        "        n += images.size(0)\n",
        "\n",
        "        # 진행 중 RMSE를 간단히 표시(옵션)\n",
        "        cur_mse = total_loss / max(1, n)\n",
        "        iterator.set_postfix(rmse=np.sqrt(cur_mse))\n",
        "\n",
        "    mse = total_loss / max(1, n)\n",
        "    rmse = float(np.sqrt(mse))\n",
        "    return rmse\n",
        "\n",
        "@torch.no_grad()\n",
        "def evaluate(model, loader, device=DEVICE, desc=\"[valid]\"):\n",
        "    model.eval()\n",
        "    preds_list, gts_list = [], []\n",
        "    total_loss, n = 0.0, 0\n",
        "\n",
        "    for images, targets in tqdm(loader, desc=desc, unit=\"batch\", leave=False):\n",
        "        images = images.to(device, non_blocking=True)\n",
        "        targets = targets.to(device, non_blocking=True)\n",
        "\n",
        "        outputs = model(images)  # (B,1)\n",
        "        loss = criterion(outputs, targets)\n",
        "        total_loss += loss.item() * images.size(0)\n",
        "        n += images.size(0)\n",
        "\n",
        "        preds_list.append(outputs.detach().cpu().numpy())   # (B,1)\n",
        "        gts_list.append(targets.detach().cpu().numpy())      # (B,1)\n",
        "\n",
        "    mse = total_loss / max(1, n)\n",
        "    rmse = float(np.sqrt(mse))\n",
        "    preds = np.concatenate(preds_list, axis=0).reshape(-1)\n",
        "    gts = np.concatenate(gts_list, axis=0).reshape(-1)\n",
        "    return rmse, mse, preds, gts\n",
        "\n",
        "class EarlyStopping:\n",
        "    def __init__(self, patience=10, mode='min'):\n",
        "        self.patience = patience\n",
        "        self.mode = mode\n",
        "        self.best = None\n",
        "        self.num_bad = 0\n",
        "        self.is_better = (lambda a, b: a < b) if mode == 'min' else (lambda a, b: a > b)\n",
        "\n",
        "    def step(self, metric):\n",
        "        if self.best is None or self.is_better(metric, self.best):\n",
        "            self.best = metric\n",
        "            self.num_bad = 0\n",
        "            return True  # improved\n",
        "        else:\n",
        "            self.num_bad += 1\n",
        "            return False  # not improved"
      ],
      "metadata": {
        "colab": {
          "base_uri": "https://localhost:8080/"
        },
        "id": "HFVJoHuFXagl",
        "outputId": "580bf652-620e-4352-f652-9badfe2ee11f"
      },
      "execution_count": 52,
      "outputs": [
        {
          "output_type": "stream",
          "name": "stderr",
          "text": [
            "/tmp/ipython-input-1892080553.py:15: FutureWarning: `torch.cuda.amp.GradScaler(args...)` is deprecated. Please use `torch.amp.GradScaler('cuda', args...)` instead.\n",
            "  scaler = torch.cuda.amp.GradScaler(enabled=(DEVICE.type == \"cuda\"))\n"
          ]
        }
      ]
    },
    {
      "cell_type": "markdown",
      "source": [
        "## 모델 학습\n"
      ],
      "metadata": {
        "id": "tO1_7BLJYWRv"
      }
    },
    {
      "cell_type": "code",
      "source": [
        "MAX_EPOCHS = 80\n",
        "PATIENCE = 10\n",
        "BEST_CKPT = str(DATASET_DIR / \"resnet18_lineheight_best.pt\")\n",
        "\n",
        "early = EarlyStopping(patience=PATIENCE, mode='min')\n",
        "best_rmse = np.inf\n",
        "\n",
        "for epoch in range(1, MAX_EPOCHS + 1):\n",
        "    tr_rmse = train_one_epoch(model, train_loader, optimizer, DEVICE, epoch=epoch)\n",
        "    va_rmse, va_mse, _, _ = evaluate(model, valid_loader, DEVICE, desc=f\"[valid] epoch {epoch}\")\n",
        "\n",
        "    tqdm.write(f\"[Epoch {epoch:03d}] train RMSE: {tr_rmse:.4f} | valid RMSE: {va_rmse:.4f}\")\n",
        "\n",
        "    if early.step(va_rmse):\n",
        "        best_rmse = va_rmse\n",
        "        torch.save(model.state_dict(), BEST_CKPT)\n",
        "        tqdm.write(f\"  ↳ New best! Saved checkpoint to: {BEST_CKPT}\")\n",
        "    else:\n",
        "        if early.num_bad >= PATIENCE:\n",
        "            tqdm.write(f\"Early stopping triggered at epoch {epoch}. Best valid RMSE: {best_rmse:.4f}\")\n",
        "            break"
      ],
      "metadata": {
        "colab": {
          "base_uri": "https://localhost:8080/"
        },
        "id": "GTAH1SwBYYYL",
        "outputId": "ec945dcb-68b3-4dae-ada8-abfd7a31f77c"
      },
      "execution_count": 53,
      "outputs": [
        {
          "metadata": {
            "tags": null
          },
          "name": "stderr",
          "output_type": "stream",
          "text": [
            "[train] epoch 1:   0%|          | 0/331 [00:00<?, ?batch/s]/tmp/ipython-input-1892080553.py:33: FutureWarning: `torch.cuda.amp.autocast(args...)` is deprecated. Please use `torch.amp.autocast('cuda', args...)` instead.\n",
            "  with torch.cuda.amp.autocast(enabled=(device.type == \"cuda\")):\n"
          ]
        },
        {
          "metadata": {
            "tags": null
          },
          "name": "stdout",
          "output_type": "stream",
          "text": [
            "[Epoch 001] train RMSE: 89.5250 | valid RMSE: 53.0186\n",
            "  ↳ New best! Saved checkpoint to: /content/drive/MyDrive/Data_Creater_Camp/ResNet_Dataset/resnet18_lineheight_best.pt\n"
          ]
        },
        {
          "metadata": {
            "tags": null
          },
          "name": "stderr",
          "output_type": "stream",
          "text": [
            ""
          ]
        },
        {
          "metadata": {
            "tags": null
          },
          "name": "stdout",
          "output_type": "stream",
          "text": [
            "[Epoch 002] train RMSE: 34.0763 | valid RMSE: 19.6312\n",
            "  ↳ New best! Saved checkpoint to: /content/drive/MyDrive/Data_Creater_Camp/ResNet_Dataset/resnet18_lineheight_best.pt\n"
          ]
        },
        {
          "metadata": {
            "tags": null
          },
          "name": "stderr",
          "output_type": "stream",
          "text": [
            ""
          ]
        },
        {
          "metadata": {
            "tags": null
          },
          "name": "stdout",
          "output_type": "stream",
          "text": [
            "[Epoch 003] train RMSE: 18.0156 | valid RMSE: 16.5023\n",
            "  ↳ New best! Saved checkpoint to: /content/drive/MyDrive/Data_Creater_Camp/ResNet_Dataset/resnet18_lineheight_best.pt\n"
          ]
        },
        {
          "metadata": {
            "tags": null
          },
          "name": "stderr",
          "output_type": "stream",
          "text": [
            ""
          ]
        },
        {
          "metadata": {
            "tags": null
          },
          "name": "stdout",
          "output_type": "stream",
          "text": [
            "[Epoch 004] train RMSE: 14.9557 | valid RMSE: 13.2361\n",
            "  ↳ New best! Saved checkpoint to: /content/drive/MyDrive/Data_Creater_Camp/ResNet_Dataset/resnet18_lineheight_best.pt\n"
          ]
        },
        {
          "metadata": {
            "tags": null
          },
          "name": "stderr",
          "output_type": "stream",
          "text": [
            ""
          ]
        },
        {
          "metadata": {
            "tags": null
          },
          "name": "stdout",
          "output_type": "stream",
          "text": [
            "[Epoch 005] train RMSE: 12.5409 | valid RMSE: 15.4737\n"
          ]
        },
        {
          "metadata": {
            "tags": null
          },
          "name": "stderr",
          "output_type": "stream",
          "text": [
            ""
          ]
        },
        {
          "metadata": {
            "tags": null
          },
          "name": "stdout",
          "output_type": "stream",
          "text": [
            "[Epoch 006] train RMSE: 11.3342 | valid RMSE: 11.6780\n",
            "  ↳ New best! Saved checkpoint to: /content/drive/MyDrive/Data_Creater_Camp/ResNet_Dataset/resnet18_lineheight_best.pt\n"
          ]
        },
        {
          "metadata": {
            "tags": null
          },
          "name": "stderr",
          "output_type": "stream",
          "text": [
            ""
          ]
        },
        {
          "metadata": {
            "tags": null
          },
          "name": "stdout",
          "output_type": "stream",
          "text": [
            "[Epoch 007] train RMSE: 10.3343 | valid RMSE: 11.9117\n"
          ]
        },
        {
          "metadata": {
            "tags": null
          },
          "name": "stderr",
          "output_type": "stream",
          "text": [
            ""
          ]
        },
        {
          "metadata": {
            "tags": null
          },
          "name": "stdout",
          "output_type": "stream",
          "text": [
            "[Epoch 008] train RMSE: 9.7347 | valid RMSE: 11.2976\n",
            "  ↳ New best! Saved checkpoint to: /content/drive/MyDrive/Data_Creater_Camp/ResNet_Dataset/resnet18_lineheight_best.pt\n"
          ]
        },
        {
          "metadata": {
            "tags": null
          },
          "name": "stderr",
          "output_type": "stream",
          "text": [
            ""
          ]
        },
        {
          "metadata": {
            "tags": null
          },
          "name": "stdout",
          "output_type": "stream",
          "text": [
            "[Epoch 009] train RMSE: 8.3607 | valid RMSE: 10.6737\n",
            "  ↳ New best! Saved checkpoint to: /content/drive/MyDrive/Data_Creater_Camp/ResNet_Dataset/resnet18_lineheight_best.pt\n"
          ]
        },
        {
          "metadata": {
            "tags": null
          },
          "name": "stderr",
          "output_type": "stream",
          "text": [
            ""
          ]
        },
        {
          "metadata": {
            "tags": null
          },
          "name": "stdout",
          "output_type": "stream",
          "text": [
            "[Epoch 010] train RMSE: 8.6521 | valid RMSE: 10.7107\n"
          ]
        },
        {
          "metadata": {
            "tags": null
          },
          "name": "stderr",
          "output_type": "stream",
          "text": [
            ""
          ]
        },
        {
          "metadata": {
            "tags": null
          },
          "name": "stdout",
          "output_type": "stream",
          "text": [
            "[Epoch 011] train RMSE: 8.0983 | valid RMSE: 10.9695\n"
          ]
        },
        {
          "metadata": {
            "tags": null
          },
          "name": "stderr",
          "output_type": "stream",
          "text": [
            ""
          ]
        },
        {
          "metadata": {
            "tags": null
          },
          "name": "stdout",
          "output_type": "stream",
          "text": [
            "[Epoch 012] train RMSE: 7.6083 | valid RMSE: 9.9321\n",
            "  ↳ New best! Saved checkpoint to: /content/drive/MyDrive/Data_Creater_Camp/ResNet_Dataset/resnet18_lineheight_best.pt\n"
          ]
        },
        {
          "metadata": {
            "tags": null
          },
          "name": "stderr",
          "output_type": "stream",
          "text": [
            ""
          ]
        },
        {
          "metadata": {
            "tags": null
          },
          "name": "stdout",
          "output_type": "stream",
          "text": [
            "[Epoch 013] train RMSE: 6.9087 | valid RMSE: 10.2946\n"
          ]
        },
        {
          "metadata": {
            "tags": null
          },
          "name": "stderr",
          "output_type": "stream",
          "text": [
            ""
          ]
        },
        {
          "metadata": {
            "tags": null
          },
          "name": "stdout",
          "output_type": "stream",
          "text": [
            "[Epoch 014] train RMSE: 6.9156 | valid RMSE: 9.8907\n",
            "  ↳ New best! Saved checkpoint to: /content/drive/MyDrive/Data_Creater_Camp/ResNet_Dataset/resnet18_lineheight_best.pt\n"
          ]
        },
        {
          "metadata": {
            "tags": null
          },
          "name": "stderr",
          "output_type": "stream",
          "text": [
            ""
          ]
        },
        {
          "metadata": {
            "tags": null
          },
          "name": "stdout",
          "output_type": "stream",
          "text": [
            "[Epoch 015] train RMSE: 7.1839 | valid RMSE: 11.2788\n"
          ]
        },
        {
          "metadata": {
            "tags": null
          },
          "name": "stderr",
          "output_type": "stream",
          "text": [
            ""
          ]
        },
        {
          "metadata": {
            "tags": null
          },
          "name": "stdout",
          "output_type": "stream",
          "text": [
            "[Epoch 016] train RMSE: 6.4689 | valid RMSE: 9.2846\n",
            "  ↳ New best! Saved checkpoint to: /content/drive/MyDrive/Data_Creater_Camp/ResNet_Dataset/resnet18_lineheight_best.pt\n"
          ]
        },
        {
          "metadata": {
            "tags": null
          },
          "name": "stderr",
          "output_type": "stream",
          "text": [
            ""
          ]
        },
        {
          "metadata": {
            "tags": null
          },
          "name": "stdout",
          "output_type": "stream",
          "text": [
            "[Epoch 017] train RMSE: 6.9284 | valid RMSE: 12.2313\n"
          ]
        },
        {
          "metadata": {
            "tags": null
          },
          "name": "stderr",
          "output_type": "stream",
          "text": [
            ""
          ]
        },
        {
          "metadata": {
            "tags": null
          },
          "name": "stdout",
          "output_type": "stream",
          "text": [
            "[Epoch 018] train RMSE: 8.0030 | valid RMSE: 10.0250\n"
          ]
        },
        {
          "metadata": {
            "tags": null
          },
          "name": "stderr",
          "output_type": "stream",
          "text": [
            ""
          ]
        },
        {
          "metadata": {
            "tags": null
          },
          "name": "stdout",
          "output_type": "stream",
          "text": [
            "[Epoch 019] train RMSE: 6.6362 | valid RMSE: 9.1008\n",
            "  ↳ New best! Saved checkpoint to: /content/drive/MyDrive/Data_Creater_Camp/ResNet_Dataset/resnet18_lineheight_best.pt\n"
          ]
        },
        {
          "metadata": {
            "tags": null
          },
          "name": "stderr",
          "output_type": "stream",
          "text": [
            ""
          ]
        },
        {
          "metadata": {
            "tags": null
          },
          "name": "stdout",
          "output_type": "stream",
          "text": [
            "[Epoch 020] train RMSE: 5.3767 | valid RMSE: 8.9975\n",
            "  ↳ New best! Saved checkpoint to: /content/drive/MyDrive/Data_Creater_Camp/ResNet_Dataset/resnet18_lineheight_best.pt\n"
          ]
        },
        {
          "metadata": {
            "tags": null
          },
          "name": "stderr",
          "output_type": "stream",
          "text": [
            ""
          ]
        },
        {
          "metadata": {
            "tags": null
          },
          "name": "stdout",
          "output_type": "stream",
          "text": [
            "[Epoch 021] train RMSE: 4.7302 | valid RMSE: 8.7494\n",
            "  ↳ New best! Saved checkpoint to: /content/drive/MyDrive/Data_Creater_Camp/ResNet_Dataset/resnet18_lineheight_best.pt\n"
          ]
        },
        {
          "metadata": {
            "tags": null
          },
          "name": "stderr",
          "output_type": "stream",
          "text": [
            ""
          ]
        },
        {
          "metadata": {
            "tags": null
          },
          "name": "stdout",
          "output_type": "stream",
          "text": [
            "[Epoch 022] train RMSE: 4.4954 | valid RMSE: 9.7650\n"
          ]
        },
        {
          "metadata": {
            "tags": null
          },
          "name": "stderr",
          "output_type": "stream",
          "text": [
            ""
          ]
        },
        {
          "metadata": {
            "tags": null
          },
          "name": "stdout",
          "output_type": "stream",
          "text": [
            "[Epoch 023] train RMSE: 4.5689 | valid RMSE: 8.7835\n"
          ]
        },
        {
          "metadata": {
            "tags": null
          },
          "name": "stderr",
          "output_type": "stream",
          "text": [
            ""
          ]
        },
        {
          "metadata": {
            "tags": null
          },
          "name": "stdout",
          "output_type": "stream",
          "text": [
            "[Epoch 024] train RMSE: 4.7014 | valid RMSE: 9.4546\n"
          ]
        },
        {
          "metadata": {
            "tags": null
          },
          "name": "stderr",
          "output_type": "stream",
          "text": [
            ""
          ]
        },
        {
          "metadata": {
            "tags": null
          },
          "name": "stdout",
          "output_type": "stream",
          "text": [
            "[Epoch 025] train RMSE: 5.0518 | valid RMSE: 9.4581\n"
          ]
        },
        {
          "metadata": {
            "tags": null
          },
          "name": "stderr",
          "output_type": "stream",
          "text": [
            ""
          ]
        },
        {
          "metadata": {
            "tags": null
          },
          "name": "stdout",
          "output_type": "stream",
          "text": [
            "[Epoch 026] train RMSE: 5.3102 | valid RMSE: 9.4006\n"
          ]
        },
        {
          "metadata": {
            "tags": null
          },
          "name": "stderr",
          "output_type": "stream",
          "text": [
            ""
          ]
        },
        {
          "metadata": {
            "tags": null
          },
          "name": "stdout",
          "output_type": "stream",
          "text": [
            "[Epoch 027] train RMSE: 12.8899 | valid RMSE: 23.0206\n"
          ]
        },
        {
          "metadata": {
            "tags": null
          },
          "name": "stderr",
          "output_type": "stream",
          "text": [
            ""
          ]
        },
        {
          "metadata": {
            "tags": null
          },
          "name": "stdout",
          "output_type": "stream",
          "text": [
            "[Epoch 028] train RMSE: 9.4680 | valid RMSE: 9.8216\n"
          ]
        },
        {
          "metadata": {
            "tags": null
          },
          "name": "stderr",
          "output_type": "stream",
          "text": [
            ""
          ]
        },
        {
          "metadata": {
            "tags": null
          },
          "name": "stdout",
          "output_type": "stream",
          "text": [
            "[Epoch 029] train RMSE: 5.4994 | valid RMSE: 8.2745\n",
            "  ↳ New best! Saved checkpoint to: /content/drive/MyDrive/Data_Creater_Camp/ResNet_Dataset/resnet18_lineheight_best.pt\n"
          ]
        },
        {
          "metadata": {
            "tags": null
          },
          "name": "stderr",
          "output_type": "stream",
          "text": [
            ""
          ]
        },
        {
          "metadata": {
            "tags": null
          },
          "name": "stdout",
          "output_type": "stream",
          "text": [
            "[Epoch 030] train RMSE: 4.2648 | valid RMSE: 8.3614\n"
          ]
        },
        {
          "metadata": {
            "tags": null
          },
          "name": "stderr",
          "output_type": "stream",
          "text": [
            ""
          ]
        },
        {
          "metadata": {
            "tags": null
          },
          "name": "stdout",
          "output_type": "stream",
          "text": [
            "[Epoch 031] train RMSE: 3.8204 | valid RMSE: 7.9637\n",
            "  ↳ New best! Saved checkpoint to: /content/drive/MyDrive/Data_Creater_Camp/ResNet_Dataset/resnet18_lineheight_best.pt\n"
          ]
        },
        {
          "metadata": {
            "tags": null
          },
          "name": "stderr",
          "output_type": "stream",
          "text": [
            ""
          ]
        },
        {
          "metadata": {
            "tags": null
          },
          "name": "stdout",
          "output_type": "stream",
          "text": [
            "[Epoch 032] train RMSE: 3.4091 | valid RMSE: 7.9601\n",
            "  ↳ New best! Saved checkpoint to: /content/drive/MyDrive/Data_Creater_Camp/ResNet_Dataset/resnet18_lineheight_best.pt\n"
          ]
        },
        {
          "metadata": {
            "tags": null
          },
          "name": "stderr",
          "output_type": "stream",
          "text": [
            ""
          ]
        },
        {
          "metadata": {
            "tags": null
          },
          "name": "stdout",
          "output_type": "stream",
          "text": [
            "[Epoch 033] train RMSE: 3.3847 | valid RMSE: 7.6239\n",
            "  ↳ New best! Saved checkpoint to: /content/drive/MyDrive/Data_Creater_Camp/ResNet_Dataset/resnet18_lineheight_best.pt\n"
          ]
        },
        {
          "metadata": {
            "tags": null
          },
          "name": "stderr",
          "output_type": "stream",
          "text": [
            ""
          ]
        },
        {
          "metadata": {
            "tags": null
          },
          "name": "stdout",
          "output_type": "stream",
          "text": [
            "[Epoch 034] train RMSE: 3.1384 | valid RMSE: 7.7312\n"
          ]
        },
        {
          "metadata": {
            "tags": null
          },
          "name": "stderr",
          "output_type": "stream",
          "text": [
            ""
          ]
        },
        {
          "metadata": {
            "tags": null
          },
          "name": "stdout",
          "output_type": "stream",
          "text": [
            "[Epoch 035] train RMSE: 3.2190 | valid RMSE: 7.8609\n"
          ]
        },
        {
          "metadata": {
            "tags": null
          },
          "name": "stderr",
          "output_type": "stream",
          "text": [
            ""
          ]
        },
        {
          "metadata": {
            "tags": null
          },
          "name": "stdout",
          "output_type": "stream",
          "text": [
            "[Epoch 036] train RMSE: 3.2803 | valid RMSE: 7.6649\n"
          ]
        },
        {
          "metadata": {
            "tags": null
          },
          "name": "stderr",
          "output_type": "stream",
          "text": [
            ""
          ]
        },
        {
          "metadata": {
            "tags": null
          },
          "name": "stdout",
          "output_type": "stream",
          "text": [
            "[Epoch 037] train RMSE: 3.2551 | valid RMSE: 8.3291\n"
          ]
        },
        {
          "metadata": {
            "tags": null
          },
          "name": "stderr",
          "output_type": "stream",
          "text": [
            ""
          ]
        },
        {
          "metadata": {
            "tags": null
          },
          "name": "stdout",
          "output_type": "stream",
          "text": [
            "[Epoch 038] train RMSE: 3.3557 | valid RMSE: 8.0874\n"
          ]
        },
        {
          "metadata": {
            "tags": null
          },
          "name": "stderr",
          "output_type": "stream",
          "text": [
            ""
          ]
        },
        {
          "metadata": {
            "tags": null
          },
          "name": "stdout",
          "output_type": "stream",
          "text": [
            "[Epoch 039] train RMSE: 3.6388 | valid RMSE: 8.4351\n"
          ]
        },
        {
          "metadata": {
            "tags": null
          },
          "name": "stderr",
          "output_type": "stream",
          "text": [
            ""
          ]
        },
        {
          "metadata": {
            "tags": null
          },
          "name": "stdout",
          "output_type": "stream",
          "text": [
            "[Epoch 040] train RMSE: 3.8846 | valid RMSE: 8.4890\n"
          ]
        },
        {
          "output_type": "stream",
          "name": "stderr",
          "text": []
        },
        {
          "output_type": "stream",
          "name": "stdout",
          "text": [
            "[Epoch 041] train RMSE: 9.3956 | valid RMSE: 13.9103\n"
          ]
        },
        {
          "output_type": "stream",
          "name": "stderr",
          "text": []
        },
        {
          "output_type": "stream",
          "name": "stdout",
          "text": [
            "[Epoch 042] train RMSE: 6.9914 | valid RMSE: 9.1856\n"
          ]
        },
        {
          "output_type": "stream",
          "name": "stderr",
          "text": [
            "                                                                    "
          ]
        },
        {
          "output_type": "stream",
          "name": "stdout",
          "text": [
            "[Epoch 043] train RMSE: 4.4184 | valid RMSE: 8.2162\n",
            "Early stopping triggered at epoch 43. Best valid RMSE: 7.6239\n"
          ]
        },
        {
          "output_type": "stream",
          "name": "stderr",
          "text": [
            "\r"
          ]
        }
      ]
    },
    {
      "cell_type": "markdown",
      "source": [
        "# 성능 계산 (라인/이미지 라벨)"
      ],
      "metadata": {
        "id": "vpFFiFFyYefu"
      }
    },
    {
      "cell_type": "code",
      "source": [
        "model.load_state_dict(torch.load(BEST_CKPT, map_location=DEVICE))\n",
        "model.to(DEVICE)\n",
        "\n",
        "final_rmse, final_mse, preds, gts = evaluate(model, valid_loader, DEVICE)\n",
        "print(f\"\\n[Final] Line-level RMSE: {final_rmse:.4f}\")\n",
        "\n",
        "def rmse_image_level(preds: np.ndarray, gts: np.ndarray, index_csv_path: str):\n",
        "    \"\"\"\n",
        "    검증 index.csv의 img_path를 기준으로 같은 이미지 내 여러 굴뚝(line)의\n",
        "    예측/정답을 평균한 값으로 이미지 레벨 RMSE 계산.\n",
        "    주의: DataLoader에서 shuffle=False여야 preds/gts 순서가 index.csv 순서와 일치.\n",
        "    \"\"\"\n",
        "    df = pd.read_csv(index_csv_path)\n",
        "    assert len(df) == len(preds) == len(gts), \"Length mismatch between index.csv and predictions.\"\n",
        "\n",
        "    df_eval = pd.DataFrame({\n",
        "        \"img_path\": df[\"img_path\"].values,\n",
        "        \"pred\": preds,\n",
        "        \"gt\": gts\n",
        "    })\n",
        "    grouped = df_eval.groupby(\"img_path\").agg({\"pred\": \"mean\", \"gt\": \"mean\"}).reset_index()\n",
        "    mse = np.mean((grouped[\"pred\"].values - grouped[\"gt\"].values) ** 2)\n",
        "    rmse = float(np.sqrt(mse))\n",
        "    return rmse\n",
        "\n",
        "img_level_rmse = rmse_image_level(preds, gts, str(valid_index_csv))\n",
        "print(f\"[Final] Image-level RMSE: {img_level_rmse:.4f}\")"
      ],
      "metadata": {
        "colab": {
          "base_uri": "https://localhost:8080/"
        },
        "id": "v1c6Q7iZYdE0",
        "outputId": "7b08577b-f0a8-49d5-8fdc-f6c8b665b4c7"
      },
      "execution_count": 54,
      "outputs": [
        {
          "output_type": "stream",
          "name": "stderr",
          "text": [
            "                                                           "
          ]
        },
        {
          "output_type": "stream",
          "name": "stdout",
          "text": [
            "\n",
            "[Final] Line-level RMSE: 7.6239\n",
            "[Final] Image-level RMSE: 7.2201\n"
          ]
        },
        {
          "output_type": "stream",
          "name": "stderr",
          "text": [
            "\r"
          ]
        }
      ]
    }
  ]
}